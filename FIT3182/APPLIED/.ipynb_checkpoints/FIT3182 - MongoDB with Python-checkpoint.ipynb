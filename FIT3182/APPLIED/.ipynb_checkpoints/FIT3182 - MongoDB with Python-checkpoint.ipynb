{
 "cells": [
  {
   "cell_type": "markdown",
   "metadata": {
    "colab_type": "text",
    "id": "CUo5QwrHuzSI"
   },
   "source": [
    "# FIT3182 - Big data management and processing\n",
    "\n",
    "# Activity: MongoDB with Python#\n",
    "\n",
    "\n",
    "Python is an easy-to-code, scalable and powerful programming language. Python can help you to develop a MongoDB application rapidly. This activity will help you to write simple, clear and powerful code that works with MongoDB.\n",
    "\n",
    "In particular, we will use `PyMongo` that provides an interface to easily access MongoDB from Python. As we learned in the previous weeks, MongoDB uses BSON-styled documents. The syntax of using `PyMongo` is so similar to the syntax of commands on the `mongo` shell that the learning curve of this activity will be easy.\n",
    "\n",
    "**In this activity, we will perform the following tasks:**\n",
    "- Introduction to working with MongoDB and Python\n",
    "- Practical example working with MongoDB and Python\n",
    "- For more information, you can refer to: \n",
    "    * https://docs.mongodb.com/getting-started/python/client/\n",
    "    * http://api.mongodb.com/python/current/tutorial.html\n",
    "\n",
    "Let's get started!"
   ]
  },
  {
   "cell_type": "markdown",
   "metadata": {
    "colab_type": "text",
    "id": "cbTjxouGuzSK"
   },
   "source": [
    "## MongoDB Connection ##\n",
    "\n",
    "#### Prerequsite\n",
    "First, let's make sure that we have the package, `PyMongo`, installed. Open a jupyter notebook, and run the following code:\n",
    "```\n",
    "import pymongo\n",
    "```\n",
    "\n",
    "If there is no exception, then this package has been install. Otherise, you need to install `PyMongo`. In this case, your tutor will give you an instruction on its installation.  Also, make sure that the following is running: the mongoDB server (i.e. `mongod`) and the mongoDB shell (`mongo`)\n",
    "\n",
    "#### Making a Connection with MongoDB\n",
    "<span style=\"color:red\">Firstly, start your mongodb Docker container from the last lab.</span>  \n",
    "Then, we can use one of the following method to make such a connection:"
   ]
  },
  {
   "cell_type": "code",
   "execution_count": 3,
   "metadata": {},
   "outputs": [
    {
     "name": "stdout",
     "output_type": "stream",
     "text": [
      "Requirement already satisfied: pymongo in /opt/conda/lib/python3.8/site-packages (4.3.3)\n",
      "Requirement already satisfied: dnspython<3.0.0,>=1.16.0 in /opt/conda/lib/python3.8/site-packages (from pymongo) (2.3.0)\n"
     ]
    }
   ],
   "source": [
    "!pip install pymongo\n",
    "# Need do whenever you do to use latest version"
   ]
  },
  {
   "cell_type": "code",
   "execution_count": 4,
   "metadata": {
    "colab": {},
    "colab_type": "code",
    "id": "sPjVxIMVuzSL",
    "tags": []
   },
   "outputs": [
    {
     "data": {
      "text/plain": [
       "MongoClient(host=['10.192.45.36:27017'], document_class=dict, tz_aware=False, connect=True)"
      ]
     },
     "execution_count": 4,
     "metadata": {},
     "output_type": "execute_result"
    }
   ],
   "source": [
    "import pymongo\n",
    "from pymongo import MongoClient\n",
    "\n",
    "# Method 1: specify the host and port explicitly\n",
    "client = MongoClient('your host ip address', 27017) \n",
    "\n",
    "# Method 2: use the MongoDB URI format\n",
    "#client = MongoClient('mongodb://your host IP address:27017/') \n",
    "client = MongoClient('mongodb://10.192.45.36:27017/')\n",
    "client"
   ]
  },
  {
   "cell_type": "markdown",
   "metadata": {
    "colab_type": "text",
    "id": "A_j49823uzSO"
   },
   "source": [
    "## Getting a Database and Collection\n",
    "\n",
    "#### Getting a Database \n",
    "A single instance of MongoDB, the variable `client`, can manage multiple databases. When we access a database, use the following syntax:"
   ]
  },
  {
   "cell_type": "code",
   "execution_count": 7,
   "metadata": {
    "colab": {},
    "colab_type": "code",
    "id": "Kik_8UzeuzSP",
    "tags": []
   },
   "outputs": [
    {
     "data": {
      "text/plain": [
       "Database(MongoClient(host=['10.192.45.36:27017'], document_class=dict, tz_aware=False, connect=True), 'fit3182_db')"
      ]
     },
     "execution_count": 7,
     "metadata": {},
     "output_type": "execute_result"
    }
   ],
   "source": [
    "result = client.list_database_names()\n",
    "result\n",
    "\n",
    "db = client.fit3182_db # assume that we use the database fit3182_db that we created in the previous lab.\n",
    "db\n",
    "#db = client['fit3182_db'] # another way of getting a database"
   ]
  },
  {
   "cell_type": "markdown",
   "metadata": {
    "colab_type": "text",
    "id": "2QWlPDi7uzSS"
   },
   "source": [
    "#### Getting a Collection\n",
    "Now we can access a collection via the following way:"
   ]
  },
  {
   "cell_type": "code",
   "execution_count": 8,
   "metadata": {
    "colab": {},
    "colab_type": "code",
    "id": "72oY4UBZuzSS",
    "tags": []
   },
   "outputs": [
    {
     "name": "stdout",
     "output_type": "stream",
     "text": [
      "['FIT_COMPLEX', 'FIT']\n"
     ]
    }
   ],
   "source": [
    "print(db.list_collection_names())\n",
    "\n",
    "collection = db.FIT_COMPLEX # FIT_COMPLEX: we created and played with this collection in the previous lab\n",
    "#collection = db['FIT_COMPLEX'] # another way of getting a collection"
   ]
  },
  {
   "cell_type": "markdown",
   "metadata": {
    "colab_type": "text",
    "id": "6e9g93wxuzSV"
   },
   "source": [
    "**NOTE**: If the databases and collections did not exist previously, these will be created when the first document is inserted into them. Can you remember how we created a database and collection on the `mongo` shell? Yes the same policy is applied when we are doing the same tasks on `mongo`."
   ]
  },
  {
   "cell_type": "markdown",
   "metadata": {
    "colab_type": "text",
    "id": "N8m5DvAguzSW"
   },
   "source": [
    "## CRUD Operations using Python\n",
    "We learned that data in MongoDB is represented (and stored) using JSON-style documents. In Python, we use built-in \"dictionaries\" to represent documents in MongoDB. \n",
    "\n",
    "For this activity, we will create another collection: `montours` (Monash Tour) within the database `fit3182_db`.\n",
    "\n",
    "### Create\n",
    "\n",
    "Let's create and get a collection:"
   ]
  },
  {
   "cell_type": "code",
   "execution_count": 9,
   "metadata": {
    "colab": {},
    "colab_type": "code",
    "id": "u7GAhse5uzSX",
    "tags": []
   },
   "outputs": [],
   "source": [
    "montours = db.montours"
   ]
  },
  {
   "cell_type": "markdown",
   "metadata": {
    "colab_type": "text",
    "id": "14TQ-zwhuzSa"
   },
   "source": [
    "Let's now create a new document:"
   ]
  },
  {
   "cell_type": "code",
   "execution_count": 10,
   "metadata": {
    "colab": {},
    "colab_type": "code",
    "id": "a9iMnceHuzSb",
    "tags": []
   },
   "outputs": [],
   "source": [
    "newTour = {\"package\":\"MonITTour\",\n",
    "    \"name\":\"Monash IT Tour\",\n",
    "    \"length\":1,\n",
    "    \"price\":100,\n",
    "    \"location\":\"Caulfield\",\n",
    "    \"organiser\" : {\n",
    "        \"faculty\": \"FIT\",\n",
    "        \"person\" : \"John Smith\"\n",
    "    },\n",
    "    \"tags\":[\"Monash\", \"FIT\", \"Caulfield\"]}"
   ]
  },
  {
   "cell_type": "markdown",
   "metadata": {
    "colab_type": "text",
    "id": "UJSFJhMCuzSe"
   },
   "source": [
    "### Insert\n",
    "To insert a document, we can use the `insert_one()` method. For example:"
   ]
  },
  {
   "cell_type": "code",
   "execution_count": 11,
   "metadata": {
    "colab": {},
    "colab_type": "code",
    "id": "OD3qM2m0uzSg",
    "tags": []
   },
   "outputs": [],
   "source": [
    "result = montours.insert_one(newTour)"
   ]
  },
  {
   "cell_type": "markdown",
   "metadata": {
    "colab_type": "text",
    "id": "7w1ViRJ2uzSj"
   },
   "source": [
    "The operation returns an `InsertOneResult` object, which includes an attribute `inserted_id` that contains the `_id` of the inserted document. Let's print the `_id`."
   ]
  },
  {
   "cell_type": "code",
   "execution_count": 12,
   "metadata": {
    "colab": {},
    "colab_type": "code",
    "id": "MwFXbgZAuzSj",
    "tags": []
   },
   "outputs": [
    {
     "name": "stdout",
     "output_type": "stream",
     "text": [
      "66272ae1bb08c8426703fbf6\n"
     ]
    }
   ],
   "source": [
    "print(result.inserted_id)"
   ]
  },
  {
   "cell_type": "markdown",
   "metadata": {
    "colab_type": "text",
    "id": "iHR6Hx-HuzSn"
   },
   "source": [
    "Let's print the documents in `montours` in a more elaborated way. Remember we used `pretty()` on the `mongo` shell to print a document in a more readable way. Similarly, we can use `pprint` in Python:"
   ]
  },
  {
   "cell_type": "code",
   "execution_count": 13,
   "metadata": {
    "colab": {},
    "colab_type": "code",
    "id": "DR7MYCQVuzSo",
    "tags": []
   },
   "outputs": [
    {
     "name": "stdout",
     "output_type": "stream",
     "text": [
      "{'_id': ObjectId('66272ae1bb08c8426703fbf6'),\n",
      " 'length': 1,\n",
      " 'location': 'Caulfield',\n",
      " 'name': 'Monash IT Tour',\n",
      " 'organiser': {'faculty': 'FIT', 'person': 'John Smith'},\n",
      " 'package': 'MonITTour',\n",
      " 'price': 100,\n",
      " 'tags': ['Monash', 'FIT', 'Caulfield']}\n"
     ]
    }
   ],
   "source": [
    "from pprint import pprint #\"Pretty Printer\"\n",
    "\n",
    "cursor = montours.find({})\n",
    "for document in cursor: \n",
    "    pprint(document)"
   ]
  },
  {
   "cell_type": "markdown",
   "metadata": {
    "colab_type": "text",
    "id": "GJ4jMA79uzSq"
   },
   "source": [
    "Note that the `_id` field has been automatically added that must be unique across the collection. "
   ]
  },
  {
   "cell_type": "markdown",
   "metadata": {
    "colab_type": "text",
    "id": "x4xk_hhEuzSr"
   },
   "source": [
    "Let’s insert multiple documents at one time. We can perform `insert_many()`:"
   ]
  },
  {
   "cell_type": "code",
   "execution_count": 14,
   "metadata": {
    "colab": {},
    "colab_type": "code",
    "id": "2S5D1MT6uzSs",
    "tags": []
   },
   "outputs": [],
   "source": [
    "newTours = [\n",
    "{\n",
    "    \"package\":\"MonArtTour\",\n",
    "    \"name\":\"Monash Art Tour\",\n",
    "    \"length\":2,\n",
    "    \"price\":50,\n",
    "    \"location\":\"Caulfield\",\n",
    "    \"organiser\" : {\n",
    "            \"faculty\": \"Faculty of Arts\",\n",
    "            \"person\" : \"Linda Adams\"\n",
    "    },    \n",
    "    \"tags\":[\"Monash\", \"Art\", \"Caulfield\"]\n",
    "},\n",
    "{\n",
    "    \"package\":\"MonITTour\",\n",
    "    \"name\":\"Monash IT Tour at Clayton\",\n",
    "    \"length\":3,\n",
    "    \"price\":50,\n",
    "    \"location\":\"Clayton\",\n",
    "    \"organiser\" : {\n",
    "            \"faculty\": \"FIT\",\n",
    "            \"person\" : \"Josh Gange\"\n",
    "    },\n",
    "    \"tags\":[\"Monash\", \"FIT\", \"Clayton\"]\n",
    "}]\n",
    "result = montours.insert_many(newTours)"
   ]
  },
  {
   "cell_type": "markdown",
   "metadata": {
    "colab_type": "text",
    "id": "sxbCC6lCuzSu"
   },
   "source": [
    "The above operation returns an `InsertManyResult` object, which includes an attribute `inserted_ids` that contains the list of ids of the inserted document. \n",
    "\n",
    "<font color='blue'>\n",
    "**Exercise**: Let's print the ids.\n",
    "</font><br>"
   ]
  },
  {
   "cell_type": "markdown",
   "metadata": {
    "colab_type": "text",
    "id": "nplvunttuzSv"
   },
   "source": [
    "**Solution and Expected Output**: "
   ]
  },
  {
   "cell_type": "code",
   "execution_count": 15,
   "metadata": {
    "colab": {},
    "colab_type": "code",
    "id": "uOq_VXe8uzSw",
    "tags": []
   },
   "outputs": [
    {
     "data": {
      "text/plain": [
       "[ObjectId('66272c67bb08c8426703fbf7'), ObjectId('66272c67bb08c8426703fbf8')]"
      ]
     },
     "execution_count": 15,
     "metadata": {},
     "output_type": "execute_result"
    }
   ],
   "source": [
    "result.inserted_ids"
   ]
  },
  {
   "cell_type": "markdown",
   "metadata": {
    "colab_type": "text",
    "id": "oQS2Xr3ruzS0"
   },
   "source": [
    "<font color='blue'>\n",
    "**Exercise**: Let's print all documents in the montours collection.\n",
    "</font><br>"
   ]
  },
  {
   "cell_type": "markdown",
   "metadata": {
    "colab_type": "text",
    "id": "pYcq-EZ-uzS0"
   },
   "source": [
    "### Update\n",
    "Now let's focus on how we can update documents in MongoDB. We can use `update_one()` or `update_many()` to update documents of a collection. The `update_one()` method updates a single document while `update_many()` can update all documents that match the criteria. But we cannot update the `_id` field.\n",
    "\n",
    "The following command updates the first document whose `tourPackage` equal to `MonITTour`. In the command, we  use `$set` to update the `tourName` field. After running the command, let's print the documents that match the condition."
   ]
  },
  {
   "cell_type": "code",
   "execution_count": 16,
   "metadata": {
    "colab": {},
    "colab_type": "code",
    "id": "11q5vWz2uzS1",
    "tags": []
   },
   "outputs": [],
   "source": [
    "result = montours.update_one( \\\n",
    "    {\"package\":\"MonITTour\"}, \\\n",
    "    { \\\n",
    "    \"$set\": {\\\n",
    "        \"name\":\"Monash IT Faculty Tour\"} \\\n",
    "    }\n",
    ")\n",
    "\n",
    "# OR this\n",
    "# result = montours.update_one({\"package\":\"MONITTour\"},{\"$set\":{\"name\":\"Monash IT Faculty Tour\"}})"
   ]
  },
  {
   "cell_type": "markdown",
   "metadata": {
    "colab_type": "text",
    "id": "iiFPX_l7uzS6"
   },
   "source": [
    "Let's print out how many documents were updated using the following:"
   ]
  },
  {
   "cell_type": "code",
   "execution_count": 17,
   "metadata": {
    "colab": {},
    "colab_type": "code",
    "id": "z65-OFVluzS8",
    "tags": []
   },
   "outputs": [
    {
     "data": {
      "text/plain": [
       "1"
      ]
     },
     "execution_count": 17,
     "metadata": {},
     "output_type": "execute_result"
    }
   ],
   "source": [
    "result.matched_count"
   ]
  },
  {
   "cell_type": "code",
   "execution_count": 18,
   "metadata": {},
   "outputs": [
    {
     "data": {
      "text/plain": [
       "{'n': 1, 'nModified': 1, 'ok': 1.0, 'updatedExisting': True}"
      ]
     },
     "execution_count": 18,
     "metadata": {},
     "output_type": "execute_result"
    }
   ],
   "source": [
    "result.raw_result"
   ]
  },
  {
   "cell_type": "code",
   "execution_count": 19,
   "metadata": {},
   "outputs": [
    {
     "data": {
      "text/plain": [
       "1"
      ]
     },
     "execution_count": 19,
     "metadata": {},
     "output_type": "execute_result"
    }
   ],
   "source": [
    "result.modified_count"
   ]
  },
  {
   "cell_type": "markdown",
   "metadata": {},
   "source": [
    "#### Upsert in MongoDB \n",
    "Upsert = Update + Insert\n",
    "- https://www.geeksforgeeks.org/upsert-in-mongodb/"
   ]
  },
  {
   "cell_type": "markdown",
   "metadata": {
    "colab_type": "text",
    "id": "fjgEvZncuzTA"
   },
   "source": [
    "#### Update embedded documents\n",
    "We can also update embedded documents. To update a field within an embedded document, we can use the \"dot\" notation. For example, if you want to update `person` in the embedded `organiser` document, you can update this field through: `organiser.person`.\n",
    "\n",
    "<font color='blue'>\n",
    "**Exercise**: Let's update the field 'person' of a tour with 'package' equal to 'MonArtTour' as 'Katherine McDonald'. Check the result.\n",
    "</font><br>\n",
    "\n",
    "**Solution and Expected Output**: \n",
    "```\n",
    "result = montours.update_one( \\\n",
    "    {\"package\":\"MonArtTour\"}, \\\n",
    "    { \\\n",
    "    \"$set\": {\\\n",
    "        \"organiser.person\":\"Katherine McDonald\"} \\\n",
    "    })\n",
    "result.matched_count\n",
    "```"
   ]
  },
  {
   "cell_type": "markdown",
   "metadata": {
    "colab_type": "text",
    "id": "hN8VJJNluzTG"
   },
   "source": [
    "We can also update multiple documents using the `update_many()` method. \n",
    "\n",
    "**Exercise:**\n",
    "<font color='blue'>\n",
    "**Exercise**: Let's update the field 'name' of tours with 'package' equal to 'MonITTour' as 'Exciting journey to Monash FIT'. Check the result.\n",
    "</font><br>\n",
    "\n",
    "**Solution and Expected Output**: \n",
    "```\n",
    "result = montours.update_many( \\\n",
    "    {\"package\":\"MonITTour\"}, \\\n",
    "    { \\\n",
    "    \"$set\": {\\\n",
    "        \"name\":\"Exciting journey to Monash FIT\"} \\\n",
    "    })\n",
    "```"
   ]
  },
  {
   "cell_type": "code",
   "execution_count": 20,
   "metadata": {},
   "outputs": [
    {
     "data": {
      "text/plain": [
       "1"
      ]
     },
     "execution_count": 20,
     "metadata": {},
     "output_type": "execute_result"
    }
   ],
   "source": [
    "result = montours.update_one( \\\n",
    "    {\"package\":\"MonArtTour\"}, \\\n",
    "    { \\\n",
    "    \"$set\": {\\\n",
    "        \"organiser.person\":\"Katherine McDonald\",\n",
    "        \"organiser.faculty\":\"AIYOYO\"} \\\n",
    "    })\n",
    "result.matched_count"
   ]
  },
  {
   "cell_type": "markdown",
   "metadata": {
    "colab_type": "text",
    "id": "7O2FIFXguzTG"
   },
   "source": [
    "#### Replace a Document\n",
    "Let's now replace an entire document except for the `_id` field. We can use the method `replace_one()`. For example, if we want to replace the first matching document in `montours` that matches the filter - \"its name is 'Exciting journey to Monash FIT'\", using the \"replacement document\" that only has `name` with `Monash FIT tour`, use the following:\n",
    "\n",
    "```\n",
    "result = montours.replace_one( \\\n",
    "    {\"name\":\"Exciting journey to Monash FIT\"}, \\\n",
    "    {\"name\":\"Monash FIT tour\"})\n",
    "```\n",
    "\n",
    "\n",
    "<font color='blue'>\n",
    "**Exercise**: Check the result printing the replaced document and printing all documents in `montours`.\n",
    "</font><br>\n"
   ]
  },
  {
   "cell_type": "code",
   "execution_count": 21,
   "metadata": {},
   "outputs": [
    {
     "name": "stdout",
     "output_type": "stream",
     "text": [
      "Updated Document:\n",
      "None\n",
      "\n",
      "All Documents:\n",
      "{'_id': ObjectId('66272ae1bb08c8426703fbf6'), 'package': 'MonITTour', 'name': 'Monash IT Faculty Tour', 'length': 1, 'price': 100, 'location': 'Caulfield', 'organiser': {'faculty': 'FIT', 'person': 'John Smith'}, 'tags': ['Monash', 'FIT', 'Caulfield']}\n",
      "{'_id': ObjectId('66272c67bb08c8426703fbf7'), 'package': 'MonArtTour', 'name': 'Monash Art Tour', 'length': 2, 'price': 50, 'location': 'Caulfield', 'organiser': {'faculty': 'AIYOYO', 'person': 'Katherine McDonald'}, 'tags': ['Monash', 'Art', 'Caulfield']}\n",
      "{'_id': ObjectId('66272c67bb08c8426703fbf8'), 'package': 'MonITTour', 'name': 'Monash IT Tour at Clayton', 'length': 3, 'price': 50, 'location': 'Clayton', 'organiser': {'faculty': 'FIT', 'person': 'Josh Gange'}, 'tags': ['Monash', 'FIT', 'Clayton']}\n"
     ]
    }
   ],
   "source": [
    "# Check the result (print the updated document)\n",
    "updated_document = montours.find_one({\"name\": \"Monash FIT tour\"})\n",
    "print(\"Updated Document:\")\n",
    "print(updated_document)\n",
    "\n",
    "# Print all documents in the collection\n",
    "all_documents = montours.find()\n",
    "print(\"\\nAll Documents:\")\n",
    "for doc in all_documents:\n",
    "    print(doc)"
   ]
  },
  {
   "cell_type": "markdown",
   "metadata": {
    "colab_type": "text",
    "id": "pc8d6XBLuzTH"
   },
   "source": [
    "### Delete\n",
    "\n",
    "Use `delete_one()` or `delete_many()` to delete documents from a collection. These methods take a condition to match the documents to be deleted. The syntax is simple. For example, let's delete one document that matches the following condition:"
   ]
  },
  {
   "cell_type": "code",
   "execution_count": null,
   "metadata": {
    "colab": {},
    "colab_type": "code",
    "id": "UeMH-4NuuzTI",
    "tags": []
   },
   "outputs": [],
   "source": [
    "result = montours.delete_one({\"package\":\"MonArtTour\"})"
   ]
  },
  {
   "cell_type": "markdown",
   "metadata": {
    "colab_type": "text",
    "id": "roxzR8uquzTL"
   },
   "source": [
    "The above command deletes the first document whose package is `MonArtTour`. We can check whether document(s) have been deleted or not using:\n",
    "```\n",
    "result.deleted_count\n",
    "```"
   ]
  },
  {
   "cell_type": "markdown",
   "metadata": {
    "colab_type": "text",
    "id": "WvBqx1CVuzTM"
   },
   "source": [
    "If we want all documents matching the condition, then use the `delete_many()` method. If you use `delete_many()` without any parameter, all documents from the specified collection will be deleted.\n",
    "\n",
    "<font color='blue'>\n",
    "**Exercise**: Delete all documents whose name is 'Monash FIT tour'. Check the result.\n",
    "</font><br>"
   ]
  },
  {
   "cell_type": "markdown",
   "metadata": {
    "colab_type": "text",
    "id": "G600-wcVuzTM"
   },
   "source": [
    "#### Drop\n",
    "To delete all documents from a collection, it may be more efficient to drop the entire collection, including the indexes. Use the `drop()` method to drop a collection, including any indexes. \n",
    "```\n",
    "yourCollectionName.drop()\n",
    "```\n",
    "\n",
    "Also, we can change the name of a collection using `rename()`. For example, if we want to change the name of `montours` with `monashTours`:\n",
    "```\n",
    "montours.rename(\"monashTours\")\n",
    "```\n",
    "Check the result on the `mongo` shell."
   ]
  },
  {
   "cell_type": "markdown",
   "metadata": {
    "colab_type": "text",
    "id": "pGb-m-zBuzTN"
   },
   "source": [
    "### Read\n",
    "\n",
    "Basically, to retrieve documents in a collection, we can use `find()`. If there is no document in `montours`, insert the above three documents into the collection again. \n",
    "\n",
    "The use of `find()` is very similar to the usage in the mongo shell. For example, run the following to see how to use `find()` in Python:"
   ]
  },
  {
   "cell_type": "code",
   "execution_count": null,
   "metadata": {
    "colab": {},
    "colab_type": "code",
    "id": "hrIlkPrFuzTO",
    "tags": []
   },
   "outputs": [],
   "source": [
    "allTours = montours.find()\n",
    "for tour in allTours:\n",
    "    pprint(tour)"
   ]
  },
  {
   "cell_type": "markdown",
   "metadata": {
    "colab_type": "text",
    "id": "6UWuSYC8uzTQ"
   },
   "source": [
    "Now let's find documents with a matching condition. Look at and run the code below to understand how we can specify such a condition, and print the result using `print()` and `pprint()`."
   ]
  },
  {
   "cell_type": "code",
   "execution_count": null,
   "metadata": {
    "colab": {},
    "colab_type": "code",
    "id": "NspLls3QuzTT",
    "tags": []
   },
   "outputs": [],
   "source": [
    "# Find the package having 'MonITTour'\n",
    "results = montours.find({\"package\":\"MonITTour\"})\n",
    "for doc in results:\n",
    "    print(doc)"
   ]
  },
  {
   "cell_type": "code",
   "execution_count": null,
   "metadata": {
    "colab": {},
    "colab_type": "code",
    "id": "zsY9uYS2uzTX",
    "tags": []
   },
   "outputs": [],
   "source": [
    "# We learned the usage of pprint.\n",
    "results = montours.find({\"package\":\"MonITTour\"})\n",
    "for doc in results:\n",
    "    pprint(doc)"
   ]
  },
  {
   "cell_type": "markdown",
   "metadata": {
    "colab_type": "text",
    "id": "hdL3uMpmuzTa"
   },
   "source": [
    "#### find_one\n",
    "The `find_one()` method returns a single document matching a query. Here, we use it to get the first document."
   ]
  },
  {
   "cell_type": "code",
   "execution_count": null,
   "metadata": {
    "colab": {},
    "colab_type": "code",
    "id": "TA7-un3uuzTb",
    "tags": []
   },
   "outputs": [],
   "source": [
    "pprint(montours.find_one({\"package\":\"MonITTour\"}))"
   ]
  },
  {
   "cell_type": "markdown",
   "metadata": {
    "colab_type": "text",
    "id": "qcfxpKYUuzTf"
   },
   "source": [
    "#### count\n",
    "To know how many documents match a query, we can perform the `count_documents()` operation. "
   ]
  },
  {
   "cell_type": "code",
   "execution_count": null,
   "metadata": {
    "colab": {},
    "colab_type": "code",
    "id": "f5qLSp6IuzTh",
    "tags": []
   },
   "outputs": [],
   "source": [
    "montours.count_documents({}) # count of all of the documents in a collection:"
   ]
  },
  {
   "cell_type": "markdown",
   "metadata": {
    "colab_type": "text",
    "id": "A4Hk9CzouzTl"
   },
   "source": [
    "<font color='blue'>\n",
    "**Exercise**: Count the number of documents whose package is 'MonITTour'.\n",
    "</font><br>\n",
    "\n",
    "**Solution and Expected Output**: \n",
    "```\n",
    "montours.count_documents({\"package\":\"MonITTour\"})\n",
    "```"
   ]
  },
  {
   "cell_type": "code",
   "execution_count": null,
   "metadata": {
    "tags": []
   },
   "outputs": [],
   "source": [
    "montours.count_documents({\"package\":\"MonITTour\"})"
   ]
  },
  {
   "cell_type": "markdown",
   "metadata": {
    "colab_type": "text",
    "id": "FVLhRZaKuzTm"
   },
   "source": [
    "#### range queries\n",
    "As we went through in our previous tutorials, MongoDB supports many different types of advanced queries. As an example, let's perform a query where we limit results to tours whose `price` is less than or equal to `50`, but also sort the results by `price`:"
   ]
  },
  {
   "cell_type": "code",
   "execution_count": null,
   "metadata": {
    "colab": {},
    "colab_type": "code",
    "id": "URuIQ2c8uzTm",
    "tags": []
   },
   "outputs": [],
   "source": [
    "results = montours.find({\"price\":{\"$lte\":50}}).sort(\"price\")\n",
    "for result in results:\n",
    "    pprint(result)"
   ]
  },
  {
   "cell_type": "markdown",
   "metadata": {
    "colab_type": "text",
    "id": "CXWkoYXwuzTp"
   },
   "source": [
    "<font color='blue'>\n",
    "**Exercise**: Let's do a query about finding tours with a field `price` greater than or equal to 50. Sort the results by the field'length'.\n",
    "</font><br>\n",
    "\n",
    "**Solution and Expected Output**: \n",
    "```\n",
    "results = montours.find({\"price\":{\"$gte\":50}}).sort(\"length\")\n",
    "for result in results:\n",
    "    pprint(result)\n",
    "```"
   ]
  },
  {
   "cell_type": "markdown",
   "metadata": {
    "colab_type": "text",
    "id": "2KMqjsSTuzTr"
   },
   "source": [
    "#### Mulitiple query conditions\n",
    "We can also combine multiple query conditions via logical conjunction (AND) and logical disjunctions (OR).\n",
    "\n",
    "Let's specify a logical conjunction for multiple query conditions separated by a comma in the conditions document. For example, if we want find tours whose package is `MonITTour` and price is greater than or equal to `100`:"
   ]
  },
  {
   "cell_type": "code",
   "execution_count": null,
   "metadata": {
    "colab": {},
    "colab_type": "code",
    "id": "_OLHqHdnuzTs",
    "tags": []
   },
   "outputs": [],
   "source": [
    "results = montours.find({\"package\":\"MonITTour\", \"price\":{\"$gte\":100}})\n",
    "for result in results:\n",
    "    pprint(result)"
   ]
  },
  {
   "cell_type": "markdown",
   "metadata": {
    "colab_type": "text",
    "id": "BVI1oruTuzTy"
   },
   "source": [
    "Now let's see how to specify a logical disjunction using the `$or` query operator. For example, if we want find tours whose package is `MonArtTour` or price is greater than or equal to `50`:"
   ]
  },
  {
   "cell_type": "code",
   "execution_count": null,
   "metadata": {
    "colab": {},
    "colab_type": "code",
    "id": "UhbGtndsuzT0",
    "tags": []
   },
   "outputs": [],
   "source": [
    "results = montours.find({\"$or\":[{\"package\":\"MonArtTour\"}, {\"price\":{\"$gte\":100}}]})\n",
    "for result in results:\n",
    "    pprint(result)"
   ]
  },
  {
   "cell_type": "markdown",
   "metadata": {
    "colab_type": "text",
    "id": "7Lgvt2pNuzT3"
   },
   "source": [
    "#### Sort the query results\n",
    "To specify an order for the result set, append the sort() method to the query. Pass to sort() method a document which contains the field(s) to sort by and the corresponding sort type, e.g. `pymongo.ASCENDING` for ascending and `pymongo.DESCENDING` for descending.\n",
    "\n",
    "Let's make a query where we limit results to tours whose `tourPrice` is greater than `1000`. Sort the results by `tourPrice` in ascending order and `tourName` by descending order."
   ]
  },
  {
   "cell_type": "code",
   "execution_count": null,
   "metadata": {
    "colab": {},
    "colab_type": "code",
    "id": "ocv9V06uuzT4",
    "tags": []
   },
   "outputs": [],
   "source": [
    "results = montours.find({\"tourPrice\":{\"$gt\":1000}}). \\\n",
    "sort([(\"tourPrice\", pymongo.ASCENDING), {\"tourName\", pymongo.DESCENDING}])\n",
    "for result in results:\n",
    "    pp.pprint(result)"
   ]
  },
  {
   "cell_type": "markdown",
   "metadata": {
    "colab_type": "text",
    "id": "YlbblI1SuzT8"
   },
   "source": [
    "#### Indexing\n",
    "Let's demonstrate how to create a unique index on a key that rejects a document whose value for that key already exists in the index.\n",
    "\n",
    "For this exercise, we will create a single key ascending index on the key `organiser.person`."
   ]
  },
  {
   "cell_type": "code",
   "execution_count": null,
   "metadata": {
    "colab": {},
    "colab_type": "code",
    "id": "gWDnpEHYuzT9",
    "tags": []
   },
   "outputs": [],
   "source": [
    "result = montours.create_index([('organiser.person', pymongo.ASCENDING)], unique=True)"
   ]
  },
  {
   "cell_type": "markdown",
   "metadata": {
    "colab_type": "text",
    "id": "cuZtksq4uzUA"
   },
   "source": [
    "Notice that we now have two indexes in `montours`: (1) the index on `_id` that MongoDB creates automatically, and (2) the index on `organiser.person`."
   ]
  },
  {
   "cell_type": "markdown",
   "metadata": {
    "colab_type": "text",
    "id": "yLkTq5RluzUA"
   },
   "source": [
    "<font color='blue'>\n",
    "**Exercise**: Create a document where its 'organiser.person' is 'Linda Adams'. Then, insert it into the 'montour' collection. What happended? Can you identify why this ocurred an error?\n",
    "</font><br>"
   ]
  },
  {
   "cell_type": "markdown",
   "metadata": {
    "colab_type": "text",
    "id": "qNB8wJ1GuzUB"
   },
   "source": [
    "Also, we can check what fields have indexes via the following:"
   ]
  },
  {
   "cell_type": "code",
   "execution_count": null,
   "metadata": {
    "colab": {},
    "colab_type": "code",
    "id": "QhRFtU-duzUC",
    "tags": []
   },
   "outputs": [],
   "source": [
    "sorted(list(montours.index_information()))"
   ]
  },
  {
   "cell_type": "markdown",
   "metadata": {
    "colab_type": "text",
    "id": "8XAuMPhguzUG"
   },
   "source": [
    "#### Aggregate\n",
    "In the previous tutorials, we learned that MongoDB can perform aggregation operations, such as grouping by a specified key and evaluating the total, count or average for each distinct group. In Python, we can also use aggregation using `aggregate()`. \n",
    "\n",
    "Let's count how many tours are in each package (i.e. the `package` field): \n",
    "\n",
    "```\n",
    "results = montours.aggregate([{\"$group\":{\"_id\":\"$package\", \"count\":{\"$sum\":1}}}])\n",
    "for document in results:\n",
    "    pprint(document)\n",
    "```"
   ]
  },
  {
   "cell_type": "markdown",
   "metadata": {
    "colab_type": "text",
    "id": "zJSMSgMIuzUH"
   },
   "source": [
    "<font color='blue'>\n",
    "**Exercise**: Find the count of tours in each organiser faculty. \n",
    "</font><br>\n",
    "\n",
    "**Solution and Expected Output**:\n",
    "```\n",
    "results = montours.aggregate([{\"$group\":{\"_id\":\"$organiser.faculty\", \"count\":{\"$sum\":1}}}])\n",
    "for document in results:\n",
    "    pprint(document)\n",
    "```"
   ]
  },
  {
   "cell_type": "markdown",
   "metadata": {
    "colab_type": "text",
    "id": "Ei8Fgb6EuzUJ"
   },
   "source": [
    "<font color='blue'>\n",
    "**Exercise**: What's the average price of the tours for each package? We will keep the count there as well.\n",
    "</font><br>\n",
    "**Solution and Expected Output**:\n",
    "```\n",
    "results = montours.aggregate([{\"$group\":{\"_id\":\"$price\", \"avg\":{\"$avg\":\"$price\"}, \"count\":{\"$sum\":1}}}])\n",
    "for document in results:\n",
    "    pprint(document)\n",
    "```"
   ]
  },
  {
   "cell_type": "markdown",
   "metadata": {
    "colab_type": "text",
    "id": "4JvtYOoBuzUM"
   },
   "source": [
    "## Joining Two Collections \n",
    "In our previous tutorial, we learned how to join two collection in `mongo`. Pymongo also provides the same function using `aggregate()`. To demonstrate it, we use the same collections that we used in the previous week used to explain the join operation. \n",
    "\n",
    "Let's first print documents in the `users` collection and the `units` collection."
   ]
  },
  {
   "cell_type": "code",
   "execution_count": null,
   "metadata": {
    "colab": {},
    "colab_type": "code",
    "id": "deDqlUpouzUN",
    "tags": []
   },
   "outputs": [],
   "source": [
    "users = db.users\n",
    "units = db.units\n",
    "results = users.find()\n",
    "for document in results:\n",
    "    pprint(document)\n",
    "\n",
    "results = units.find()\n",
    "for document in results:\n",
    "    pprint(document)"
   ]
  },
  {
   "cell_type": "markdown",
   "metadata": {
    "colab_type": "text",
    "id": "Puo6YVcOuzUW"
   },
   "source": [
    "Now let's apply a join operation using `$lookup` within `aggregation()`. Run the following code:"
   ]
  },
  {
   "cell_type": "code",
   "execution_count": null,
   "metadata": {
    "colab": {},
    "colab_type": "code",
    "id": "JR84yF3wuzUX",
    "tags": []
   },
   "outputs": [],
   "source": [
    "results = users.aggregate([{\n",
    "\"$lookup\":\n",
    "    {\n",
    "        \"from\": \"units\", # name of the collection to join with\n",
    "        \"localField\": \"sid\", # field in the 'users' collection to match on\n",
    "        \"foreignField\" : \"sid\", # field in the 'units' collection to match on\n",
    "        \"as\": \"completed_units\" # where to store your output\n",
    "    }\n",
    "}])\n",
    "for document in results:\n",
    "    pprint(document)"
   ]
  },
  {
   "cell_type": "markdown",
   "metadata": {
    "colab_type": "text",
    "id": "baW96TVfuzUZ"
   },
   "source": [
    "<font color='blue'>\n",
    "**Exercise**: Write Python code corresponding the following code in the `mongo` shell:\n",
    "```\n",
    "db.getCollection('units').aggregate([\n",
    "   {\n",
    "      $unwind: \"$sid\"\n",
    "   },\n",
    "   {\n",
    "    $lookup:\n",
    "        {\n",
    "            from: \"users\",\n",
    "            localField: \"sid\",\n",
    "            foreignField : \"sid\",\n",
    "            as: \"completed_units\"\n",
    "        }\n",
    "    }\n",
    "]).pretty()\n",
    "```\n",
    "</font><br>"
   ]
  },
  {
   "cell_type": "markdown",
   "metadata": {
    "colab_type": "text",
    "id": "kD2U1mDauzUa"
   },
   "source": [
    "**Solution and Expected Output**:\n",
    "```\n",
    "results = units.aggregate([\n",
    "{\"$unwind\": \"$sid\"},\n",
    "{\n",
    "\"$lookup\":\n",
    "    {\n",
    "    \"from\": \"users\",\n",
    "    \"localField\": \"sid\",\n",
    "    \"foreignField\": \"sid\",\n",
    "    \"as\": \"completed_units\"\n",
    "    }\n",
    "}])\n",
    "for document in results:\n",
    "    pprint(document)\n",
    "```"
   ]
  },
  {
   "cell_type": "markdown",
   "metadata": {
    "colab_type": "text",
    "id": "ctj2Cx7guzUb"
   },
   "source": [
    "## Text processing\n",
    "Now, let's apply CRUD operations in MongoDB on a text file using `PyMongo`.  This activity will help you apply what you've learned as to CRUD operations and provide you with a good opportunity to understand how to build an application using PyMongo.\n",
    "\n",
    "Let's get started!\n",
    "\n",
    "The following code reminds you of how to get a MongoDB database and a collection in Python."
   ]
  },
  {
   "cell_type": "code",
   "execution_count": null,
   "metadata": {
    "colab": {},
    "colab_type": "code",
    "id": "u_Opcp0AuzUb",
    "outputId": "d7482da8-5a25-4647-f361-200eb13fd2dc",
    "tags": []
   },
   "outputs": [],
   "source": [
    "from pymongo import MongoClient\n",
    "from pprint import pprint\n",
    "\n",
    "# Create a MongoClient\n",
    "client = MongoClient()\n",
    "\n",
    "# We will use the database: fit3182\n",
    "db = client.fit3182_db\n",
    "\n",
    "# The collection name is units\n",
    "units = db.units\n",
    "\n",
    "# Finally, we'll finish off by adding the main function\n",
    "if __name__ == \"__main__\":\n",
    "   print(\"This is main function\")"
   ]
  },
  {
   "cell_type": "markdown",
   "metadata": {
    "colab_type": "text",
    "id": "N_PNZNHtuzUg"
   },
   "source": [
    "The running outcome of the above coude should be:\n",
    "```\n",
    "This is main function\n",
    "```"
   ]
  },
  {
   "cell_type": "markdown",
   "metadata": {
    "colab_type": "text",
    "id": "31T5ZlaWuzUg"
   },
   "source": [
    "Before we get to the database interaction, let's read the lines from the text file \"unit_synopsis.txt\". In this file, we see the combination of a unit code and its synopsis. Use the following code to read the data:\n",
    "```\n",
    "with open('unit_synopsis.txt') as file:\n",
    "    synopsis_set = file.readlines()\n",
    "    synopsis_set = [line.strip() for line in synopsis_set] \n",
    "```\n",
    "\n",
    "In the above code, `strip()` is used remove the leading and trailing white space in each line."
   ]
  },
  {
   "cell_type": "markdown",
   "metadata": {
    "colab_type": "text",
    "id": "AcEepyuLuzUh"
   },
   "source": [
    "### Create\n",
    "Let's create data in the new collection `synopsis`. We now define a function: `create_synopsis()` which extracts the synopsis for units. The unit code and its synopsis will be inserted into the `synopsis` collection.\n",
    "\n",
    "Since we need to know the list of unit codes avialable, we assume that such list exists in an array, `unit_code_list`:\n",
    "```\n",
    "unit_code_list = ['FIT3182', 'FIT9131', 'FIT9132']\n",
    "```\n",
    "\n",
    "```\n",
    "def create_synopsis(myCol):\n",
    "    unit_code = \"\"\n",
    "\n",
    "    for line in synopsis_set:\n",
    "        if line in unit_code_list:\n",
    "            unit_code = line\n",
    "            continue\n",
    "        elif unit_code == \"\":\n",
    "            continue\n",
    "        else:\n",
    "            synopsis_record = {\n",
    "                'unit_code':unit_code,\n",
    "                'synopsis':line\n",
    "            }\n",
    "            myCol.insert(synopsis_record)\n",
    "myCol = db.synopsis\n",
    "create_synopsis(myCol)\n",
    "```\n",
    "\n",
    "Run the above code, and check whether the new collection `synopsis` contains records."
   ]
  },
  {
   "cell_type": "markdown",
   "metadata": {
    "colab_type": "text",
    "id": "i_dexZBiuzUj"
   },
   "source": [
    "### Update\n",
    "Now let's focus on update.  We will update the lowercase names of all keywords to capitalized words on the `synopsis` field. Assume that the keywords are provided via a variable `keyword_set`:\n",
    "```\n",
    "keyword_set = ['software', 'database', 'programming', 'development', 'reasoning']\n",
    "```\n",
    "\n",
    "For this, we will use `regex` and replace lowercase keywords with capital letters, and update the collection. We will use the following code:\n",
    "\n",
    "```\n",
    "def update_synopsis(myCol):\n",
    "    for keyword in keyword_set:\n",
    "        for line in myCol.find({'synopsis': {'$regex':keyword}}):\n",
    "            new_synopsis = line['synopsis'].replace(keyword, keyword.upper())\n",
    "            myCol.update_many( {'_id':line[\"_id\"]}, {'$set': {\"synopsis\":new_synopsis}})\n",
    "myCol = db.synopsis\n",
    "update_synopsis(myCol)\n",
    "```\n",
    "Run the above code, and check with the mongo shell to see whether update has been successfully working."
   ]
  },
  {
   "cell_type": "markdown",
   "metadata": {
    "colab_type": "text",
    "id": "60oCUb1QuzUk"
   },
   "source": [
    "### Delete\n",
    "Now let's move on to the delete operation.\n",
    "\n",
    "<font color='blue'>\n",
    "**Exercise**: Delete all documents in which the 'synopsis' field having 'SOFTWARE' or 'DATA'. You need to define a function, 'delete_synopsis()'. Use 'regex' to define searching patterns. Check the result.\n",
    "</font><br>\n",
    "\n",
    "\n",
    "**Solution and Expected Output**:\n",
    "```\n",
    "def delete_synopsis(myCol):\n",
    "    pattern = \"SOFTWARE|DATA\"\n",
    "    myCol.remove({'synopsis': {'$regex': pattern}})\n",
    "```"
   ]
  },
  {
   "cell_type": "markdown",
   "metadata": {
    "colab_type": "text",
    "id": "cSBciB34uzUk"
   },
   "source": [
    "**Congratulations on finishing this activity!**"
   ]
  },
  {
   "cell_type": "code",
   "execution_count": null,
   "metadata": {},
   "outputs": [],
   "source": []
  }
 ],
 "metadata": {
  "colab": {
   "collapsed_sections": [
    "fjgEvZncuzTA",
    "7O2FIFXguzTG",
    "G600-wcVuzTM",
    "hdL3uMpmuzTa",
    "qcfxpKYUuzTf",
    "FVLhRZaKuzTm",
    "2KMqjsSTuzTr",
    "7Lgvt2pNuzT3",
    "YlbblI1SuzT8",
    "8XAuMPhguzUG"
   ],
   "name": "FIT5148 - MongoDB with Python.ipynb",
   "provenance": [],
   "version": "0.3.2"
  },
  "kernelspec": {
   "display_name": "Python 3 (ipykernel)",
   "language": "python",
   "name": "python3"
  },
  "language_info": {
   "codemirror_mode": {
    "name": "ipython",
    "version": 3
   },
   "file_extension": ".py",
   "mimetype": "text/x-python",
   "name": "python",
   "nbconvert_exporter": "python",
   "pygments_lexer": "ipython3",
   "version": "3.8.16"
  }
 },
 "nbformat": 4,
 "nbformat_minor": 4
}
