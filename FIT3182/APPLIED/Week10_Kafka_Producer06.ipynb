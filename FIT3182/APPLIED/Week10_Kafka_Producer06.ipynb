{
 "cells": [
  {
   "cell_type": "markdown",
   "metadata": {},
   "source": [
    "# Producer 6\n",
    "\n",
    "Publishes records to Kafka topic `Scenario06`. Each record has no `key` and a `value = \"data:$N\"` where `$N` is a random integer in the interval $[0,100)$. Every 10-th record will have `value = \"data:\"`, or in other words, there will be missing data."
   ]
  },
  {
   "cell_type": "code",
   "execution_count": null,
   "metadata": {},
   "outputs": [],
   "source": [
    "from time import sleep\n",
    "from json import dumps\n",
    "from kafka3 import KafkaProducer\n",
    "import random\n",
    "import datetime as dt"
   ]
  },
  {
   "cell_type": "code",
   "execution_count": null,
   "metadata": {},
   "outputs": [],
   "source": [
    "hostip = \"10.192.45.88\" # change it to your IP\n",
    "\n",
    "def publish_message(producer_instance, topic_name, data):\n",
    "    try:\n",
    "        value_bytes = bytes(data, encoding='utf-8')\n",
    "        producer_instance.send(topic_name, value=value_bytes)\n",
    "        print('Message published successfully. ' + data)\n",
    "    except Exception as ex:\n",
    "        print('Exception in publishing message.')\n",
    "        print(str(ex))\n",
    "        "
   ]
  },
  {
   "cell_type": "code",
   "execution_count": null,
   "metadata": {},
   "outputs": [],
   "source": [
    "def connect_kafka_producer():\n",
    "    _producer = None\n",
    "    try:\n",
    "        _producer = KafkaProducer(bootstrap_servers=[f'{hostip}:9092'],\n",
    "                                  api_version=(0, 10))\n",
    "    except Exception as ex:\n",
    "        print('Exception while connecting Kafka.')\n",
    "        print(str(ex))\n",
    "    finally:\n",
    "        return _producer\n",
    "    "
   ]
  },
  {
   "cell_type": "code",
   "execution_count": null,
   "metadata": {
    "tags": []
   },
   "outputs": [],
   "source": [
    "if __name__ == '__main__':\n",
    "    topic = 'Scenario06'\n",
    "    print('Publishing records..')\n",
    "    producer06 = connect_kafka_producer()\n",
    "    \n",
    "    for e in range(100):\n",
    "        if e % 10 != 0:\n",
    "            data = \"data:\" + str(random.randrange(0,100))\n",
    "        else: # every 10th record will have missing data\n",
    "            data = \"data:\" \n",
    "        publish_message(producer06, topic, data)\n",
    "        sleep(1)"
   ]
  }
 ],
 "metadata": {
  "kernelspec": {
   "display_name": "Python 3 (ipykernel)",
   "language": "python",
   "name": "python3"
  },
  "language_info": {
   "codemirror_mode": {
    "name": "ipython",
    "version": 3
   },
   "file_extension": ".py",
   "mimetype": "text/x-python",
   "name": "python",
   "nbconvert_exporter": "python",
   "pygments_lexer": "ipython3",
   "version": "3.8.16"
  }
 },
 "nbformat": 4,
 "nbformat_minor": 4
}
