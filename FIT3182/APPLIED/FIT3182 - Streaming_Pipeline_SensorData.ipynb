{
 "cells": [
  {
   "cell_type": "markdown",
   "metadata": {},
   "source": [
    "# FIT3182 - Big data management and processing\n",
    "\n",
    "# Activity: Working with real sensor data #\n",
    "\n",
    "In this activity, we will learn and practice accessing real sensors data and some simple data preparation and visualisation. We will be following the same pipeline we did in Week 10 shown below.\n",
    "![Apache kafka and Apache Spark Pipeline](http://tlfvincent.github.io/img/kafka_spark_pipeline.png)\n",
    "\n",
    "**The following is the plan of our tasks to be done this week**:\n",
    "- Accessing the open senors data using Apache Kafka Producer\n",
    "- Data Preparation and inserting into MongoDB using Apache Spark\n",
    "- Visualisation on Maps\n",
    "\n",
    "**Lab Instructions**:\n",
    "1. Read and understand provided code, make sure you can run the code.  \n",
    "2. In this application, all unoccupied parking bays are labelled and show in the map. However, you're only interested in a bay that allows parking for more than 2 hours. Please implement this feature.  \n",
    "\n",
    "Think: You can filter the data at source, during the streaming processing or at the visualization stage. Which approach is the best?\n",
    "\n",
    "Hint 1: You may need two additional dataset available at the following URLs:  \n",
    "https://data.melbourne.vic.gov.au/explore/dataset/on-street-car-park-bay-restrictions/information/  \n",
    "https://data.melbourne.vic.gov.au/explore/dataset/on-street-parking-bays/information/  \n",
    "\n",
    "Hine 2: Due to city of Melbourne's system upgrade, bay_id is not provided in the sensor dataset. You may need to use Geo location.  \n",
    "\n",
    "(note: This task is similiar to assignment 3, therefore no solution will be provided. However, please feel free to discuss with your tutor or ask for help.)\n",
    "\n",
    "\n",
    "# Reference:\n",
    "- https://data.melbourne.vic.gov.au/explore/dataset/on-street-parking-bay-sensors/information/\n",
    "- https://pypi.org/project/gmplot/\n",
    "- https://github.com/vgm64/gmplot\n",
    "- https://developers.google.com/api-client-library/python/guide/aaa_apikeys\n",
    "\n",
    "    \n"
   ]
  },
  {
   "cell_type": "markdown",
   "metadata": {},
   "source": [
    "<font color='blue'>\n",
    "**What you need to remember**:\n",
    "- Run your cells using SHIFT+ENTER (or \"Run cell\")\n",
    "- Run the current cell and insert a new cell below: ALT+ENTER\n",
    "- To see more commands, please click the \"menu\" option (e.g. \"Insert\", \"Cell\")\n",
    "- To see more keyboard shortcuts, click the above \"keyboard image\" button. Use \"Esc\" to enter command mode. Then, you can use a command. Some of the popular shortcuts are \n",
    "    - Basic navigation: enter, shift-enter, up/k, down/j\n",
    "    - Saving the notebook: s\n",
    "    - Cell creation: a (above), b (below)"
   ]
  },
  {
   "cell_type": "markdown",
   "metadata": {},
   "source": [
    "# On-street-Parking-Bay-Sensor Melbourne City\n",
    "We will use open sensor data from Melbourne's open data platform in particular on-street parking bay sensors data. This data contains information from in-ground car parking bay sensors across the city with status indicating if a car is present or not present, the spatial coordinate of the sensor, and the street marker id. We will use this data and present the available parking spaces in the google maps.\n",
    "\n",
    "Information on the python libraries used in this activity:\n",
    "\n",
    "**sodapy** - sodapy is a python binding for the Socrata Open Data API that allows you to programmatically access a wealth of open data resources from government, non-profits, and NGOs around the world.\n",
    "\n",
    "**folium** - folium builds on the data wrangling strengths of the Python ecosystem and the mapping strengths of the leaflet.js library. Manipulate your data in Python, then visualize it in on a Leaflet map via folium.\n"
   ]
  },
  {
   "cell_type": "code",
   "execution_count": 2,
   "metadata": {},
   "outputs": [
    {
     "name": "stdout",
     "output_type": "stream",
     "text": [
      "Collecting folium\n",
      "  Downloading folium-0.16.0-py2.py3-none-any.whl (100 kB)\n",
      "\u001b[2K     \u001b[90m━━━━━━━━━━━━━━━━━━━━━━━━━━━━━━━━━━━━━━━\u001b[0m \u001b[32m100.0/100.0 kB\u001b[0m \u001b[31m1.2 MB/s\u001b[0m eta \u001b[36m0:00:00\u001b[0ma \u001b[36m0:00:01\u001b[0m\n",
      "\u001b[?25hCollecting branca>=0.6.0\n",
      "  Downloading branca-0.7.2-py3-none-any.whl (25 kB)\n",
      "Requirement already satisfied: numpy in /opt/conda/lib/python3.8/site-packages (from folium) (1.23.5)\n",
      "Requirement already satisfied: jinja2>=2.9 in /opt/conda/lib/python3.8/site-packages (from folium) (3.1.2)\n",
      "Requirement already satisfied: requests in /opt/conda/lib/python3.8/site-packages (from folium) (2.28.2)\n",
      "Requirement already satisfied: xyzservices in /opt/conda/lib/python3.8/site-packages (from folium) (2022.9.0)\n",
      "Requirement already satisfied: MarkupSafe>=2.0 in /opt/conda/lib/python3.8/site-packages (from jinja2>=2.9->folium) (2.1.2)\n",
      "Requirement already satisfied: charset-normalizer<4,>=2 in /opt/conda/lib/python3.8/site-packages (from requests->folium) (2.1.1)\n",
      "Requirement already satisfied: idna<4,>=2.5 in /opt/conda/lib/python3.8/site-packages (from requests->folium) (3.4)\n",
      "Requirement already satisfied: urllib3<1.27,>=1.21.1 in /opt/conda/lib/python3.8/site-packages (from requests->folium) (1.26.14)\n",
      "Requirement already satisfied: certifi>=2017.4.17 in /opt/conda/lib/python3.8/site-packages (from requests->folium) (2022.12.7)\n",
      "Installing collected packages: branca, folium\n",
      "Successfully installed branca-0.7.2 folium-0.16.0\n"
     ]
    }
   ],
   "source": [
    "# Make sure to install these packages before running (Uncomment to install):\n",
    "# !pip install sodapy\n",
    "!pip install folium"
   ]
  },
  {
   "cell_type": "markdown",
   "metadata": {},
   "source": [
    "Run the following files in sequential order to see the maps visualization in action.\n",
    "- Week11_Kafka_Producer.ipynb\n",
    "- Week11_Spark_Stream_Processor.ipnyb\n",
    "- Week11_Data_Visualization.ipnyb"
   ]
  }
 ],
 "metadata": {
  "kernelspec": {
   "display_name": "Python 3 (ipykernel)",
   "language": "python",
   "name": "python3"
  },
  "language_info": {
   "codemirror_mode": {
    "name": "ipython",
    "version": 3
   },
   "file_extension": ".py",
   "mimetype": "text/x-python",
   "name": "python",
   "nbconvert_exporter": "python",
   "pygments_lexer": "ipython3",
   "version": "3.8.16"
  }
 },
 "nbformat": 4,
 "nbformat_minor": 4
}
