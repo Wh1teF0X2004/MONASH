{
 "cells": [
  {
   "cell_type": "code",
   "execution_count": 1,
   "metadata": {},
   "outputs": [],
   "source": [
    "import numpy as np"
   ]
  },
  {
   "cell_type": "code",
   "execution_count": 2,
   "metadata": {},
   "outputs": [],
   "source": [
    "# R consists of 15 pairs, each comprising two attributes (nominal and numeric)\n",
    "R = [('Adele',8),('Bob',22),('Clement',16),('Dave',23),('Ed',11),\n",
    "     ('Fung',25),('Goel',3),('Harry',17),('Irene',14),('Joanna',2),\n",
    "     ('Kelly',6),('Lim',20),('Meng',1),('Noor',5),('Omar',19)]\n",
    "\n",
    "# S consists of 8 pairs, each comprising two attributes (nominal and numeric)\n",
    "S = [('Arts',8),('Business',15),('CompSc',2),('Dance',12),('Engineering',7),\n",
    "     ('Finance',21),('Geology',10),('Health',11),('IT',18)]"
   ]
  },
  {
   "cell_type": "markdown",
   "metadata": {},
   "source": [
    "# Outer join"
   ]
  },
  {
   "cell_type": "code",
   "execution_count": 13,
   "metadata": {},
   "outputs": [],
   "source": [
    "# Complete an outer join algorithm (left, right and inner) based on the aforementioned tables.\n",
    "\n",
    "def H(r):\n",
    "    \"\"\"\n",
    "    We define a hash function 'H' that is used in the hashing process works \n",
    "    by summing the first and second digits of the hashed attribute, which\n",
    "    in this case is the join attribute. \n",
    "    \n",
    "    Arguments:\n",
    "    r -- a record where hashing will be applied on its join attribute\n",
    "\n",
    "    Return:\n",
    "    result -- the hash index of the record r\n",
    "    \"\"\"\n",
    "    \n",
    "    # Convert the value of the join attribute into the digits (to be completed)\n",
    "    #! 21 = [2, 1]\n",
    "    digits = [int(d) for d in str(r[1])]\n",
    "    \n",
    "    # Calulate the sum of elemenets in the digits (to be completed)\n",
    "    #! sums the first and second digits of the join attribute of a record\n",
    "    return sum(digits)\n",
    "\n",
    "def outer_join(L, R, join=\"left\"):\n",
    "    \"\"\"outer join using Hash-based join algorithm\"\"\"\n",
    "    # Complete this function\n",
    "    if join == \"right\":\n",
    "        L, R = R, L\n",
    "        \n",
    "    # Inner join\n",
    "    if join == \"inner\":\n",
    "        # Creates a dictionary\n",
    "        h_dic = {}\n",
    "        # Stores the records in R hash by their join attribute using hash function\n",
    "        for r in R:\n",
    "            h_r = H(r)\n",
    "            if h_r in h_dic.keys():\n",
    "                h_dic[h_r].add(r)\n",
    "            else:\n",
    "                h_dic[h_r] = {r}\n",
    "                \n",
    "        result = []\n",
    "        \n",
    "        for l in L:\n",
    "            h_l = H(l)\n",
    "            # If a match is found\n",
    "            if h_l in h_dic.keys():\n",
    "                for item in h_dic[h_l]:\n",
    "                    if item[1] == l[1]:\n",
    "                        # Appends a 3-element list to the result list\n",
    "                        result.append([l[0], item[1], item[0]])\n",
    "                        \n",
    "        return result\n",
    "    \n",
    "    elif join in [\"left\", \"right\"]:\n",
    "        # Create a dictionary\n",
    "        h_dic = {}\n",
    "        for r in R:\n",
    "            h_r = H(r)\n",
    "            if h_r in h_dic.keys():\n",
    "                h_dic[h_r].add(r)\n",
    "            else:\n",
    "                h_dic[h_r] = {r}\n",
    "                \n",
    "        result = []\n",
    "        # We iterate over each record in L (for a left join) or R (for a right join)\n",
    "        for l in L:\n",
    "            isFound = False # This is to check if there is a match found\n",
    "            h_l = H(l)\n",
    "            if h_l in h_dic.keys():\n",
    "                for item in h_dic[h_l]:\n",
    "                    if item[1] == l[1]:\n",
    "                        result.append([l[0], item[1], item[0]])\n",
    "                        isFound = True\n",
    "                        break\n",
    "                        \n",
    "            # If no match is found\n",
    "            # This is the difference between outer and inner join\n",
    "            if not isFound:\n",
    "                result.append([l[0], l[1], str(np.nan)])\n",
    "                \n",
    "        return result\n",
    "    \n",
    "    else:\n",
    "        raise AttributeError(\"Join should be in left, right, inner\")\n",
    "    "
   ]
  },
  {
   "cell_type": "markdown",
   "metadata": {},
   "source": [
    "Attribute Error: Trying to access a non-existent attribute of an object OR call a non-existant methods of an object OR access a module attribute that doesn't exits"
   ]
  },
  {
   "cell_type": "code",
   "execution_count": 6,
   "metadata": {},
   "outputs": [
    {
     "data": {
      "text/plain": [
       "[['Adele', 8, 'Arts'], ['Ed', 11, 'Health'], ['Joanna', 2, 'CompSc']]"
      ]
     },
     "execution_count": 6,
     "metadata": {},
     "output_type": "execute_result"
    }
   ],
   "source": [
    "outer_join(R,S,join='inner')"
   ]
  },
  {
   "cell_type": "code",
   "execution_count": 14,
   "metadata": {},
   "outputs": [
    {
     "data": {
      "text/plain": [
       "[['Adele', 8, 'Arts'],\n",
       " ['Bob', 22, 'nan'],\n",
       " ['Clement', 16, 'nan'],\n",
       " ['Dave', 23, 'nan'],\n",
       " ['Ed', 11, 'Health'],\n",
       " ['Fung', 25, 'nan'],\n",
       " ['Goel', 3, 'nan'],\n",
       " ['Harry', 17, 'nan'],\n",
       " ['Irene', 14, 'nan'],\n",
       " ['Joanna', 2, 'CompSc'],\n",
       " ['Kelly', 6, 'nan'],\n",
       " ['Lim', 20, 'nan'],\n",
       " ['Meng', 1, 'nan'],\n",
       " ['Noor', 5, 'nan'],\n",
       " ['Omar', 19, 'nan']]"
      ]
     },
     "execution_count": 14,
     "metadata": {},
     "output_type": "execute_result"
    }
   ],
   "source": [
    "outer_join(R,S,join=\"left\")"
   ]
  },
  {
   "cell_type": "markdown",
   "metadata": {},
   "source": [
    "# Parallel outer join"
   ]
  },
  {
   "cell_type": "code",
   "execution_count": 19,
   "metadata": {},
   "outputs": [],
   "source": [
    "def hash_distribution(T, n):\n",
    "    \"\"\"\n",
    "    distribute data using hash partitioning\n",
    "    n --> number of partitions\n",
    "    \"\"\"\n",
    "    \n",
    "    # Define a simple hash function for demonstration\n",
    "    def s_hash(x, n):\n",
    "        h = x%n\n",
    "        return h\n",
    "    \n",
    "    # Complete this function\n",
    "    result = {}\n",
    "    for t in T:\n",
    "        h_key = s_hash(t[1], n)\n",
    "        \n",
    "        if h_key in result.keys():\n",
    "            result[h_key].add(t)\n",
    "        else:\n",
    "            result[h_key] = {tuple(t)}\n",
    "            \n",
    "    return result\n",
    "    "
   ]
  },
  {
   "cell_type": "markdown",
   "metadata": {},
   "source": [
    "## ROJA"
   ]
  },
  {
   "cell_type": "markdown",
   "metadata": {},
   "source": [
    "<font color=\"darkgreen\">\n",
    "\n",
    "- Is a variant od Disjoin Partitioning Based Parallel Join Algorithmn (Week 3) = using local outer join instead of local inner join\n",
    "- 2 steps:\n",
    "1. Redistribution (Partitioning)\n",
    "2. Local outer join"
   ]
  },
  {
   "cell_type": "code",
   "execution_count": 20,
   "metadata": {},
   "outputs": [],
   "source": [
    "import multiprocessing as mp\n",
    "\n",
    "def ROJA(L, R, n):\n",
    "    \"\"\"\n",
    "    left outer join using ROJA\n",
    "    \n",
    "    L --> A list of records from LEFT relation\n",
    "    R --> A list of records from RIGHT relation\n",
    "    n --> Number of partitions\n",
    "    \"\"\"\n",
    "    \n",
    "    # Complete this function\n",
    "    # DISTRIBUTION USING HASH PARTITIONING\n",
    "    l_dis = hash_distribution[L, n]\n",
    "    r_dis = hash_distribution[R, n]\n",
    "    \n",
    "    # Apply LEFT outer join FOR EACH PROCESSORS\n",
    "    pool = mp.Pool(n)\n",
    "    results = []\n",
    "    for i in l_dis.keys():\n",
    "        result = pool.apply_async(outer_join, [l_dis[i], r_dis[i]])\n",
    "        # use async cus you want them to perform outer join at the same time\n",
    "        results.append(result)\n",
    "\n",
    "    # GET THE RESULTS\n",
    "    output = []\n",
    "    for x in results:\n",
    "        # Add all elements of an iterable to the end of an existing list\n",
    "        # 'extend' function is more efficient than 'append' if you want to append all elements in an iterable\n",
    "        # BUT\n",
    "        # IF YOU ARE JUST ADDING ONE ELEMENT, JUST USE 'APPEND', because in this case, 'append' is faster\n",
    "        output.extend(x.get())\n",
    "        \n",
    "    output = sorted(output, key=lambda x:x[0])\n",
    "    return output"
   ]
  },
  {
   "cell_type": "code",
   "execution_count": 21,
   "metadata": {},
   "outputs": [
    {
     "ename": "TypeError",
     "evalue": "'function' object is not subscriptable",
     "output_type": "error",
     "traceback": [
      "\u001b[0;31m---------------------------------------------------------------------------\u001b[0m",
      "\u001b[0;31mTypeError\u001b[0m                                 Traceback (most recent call last)",
      "Cell \u001b[0;32mIn[21], line 1\u001b[0m\n\u001b[0;32m----> 1\u001b[0m \u001b[43mROJA\u001b[49m\u001b[43m(\u001b[49m\u001b[43mR\u001b[49m\u001b[43m,\u001b[49m\u001b[43mS\u001b[49m\u001b[43m,\u001b[49m\u001b[38;5;241;43m3\u001b[39;49m\u001b[43m)\u001b[49m\n",
      "Cell \u001b[0;32mIn[20], line 14\u001b[0m, in \u001b[0;36mROJA\u001b[0;34m(L, R, n)\u001b[0m\n\u001b[1;32m      4\u001b[0m \u001b[38;5;250m\u001b[39m\u001b[38;5;124;03m\"\"\"\u001b[39;00m\n\u001b[1;32m      5\u001b[0m \u001b[38;5;124;03mleft outer join using ROJA\u001b[39;00m\n\u001b[1;32m      6\u001b[0m \u001b[38;5;124;03m\u001b[39;00m\n\u001b[0;32m   (...)\u001b[0m\n\u001b[1;32m      9\u001b[0m \u001b[38;5;124;03mn --> Number of partitions\u001b[39;00m\n\u001b[1;32m     10\u001b[0m \u001b[38;5;124;03m\"\"\"\u001b[39;00m\n\u001b[1;32m     12\u001b[0m \u001b[38;5;66;03m# Complete this function\u001b[39;00m\n\u001b[1;32m     13\u001b[0m \u001b[38;5;66;03m# DISTRIBUTION USING HASH PARTITIONING\u001b[39;00m\n\u001b[0;32m---> 14\u001b[0m l_dis \u001b[38;5;241m=\u001b[39m \u001b[43mhash_distribution\u001b[49m\u001b[43m[\u001b[49m\u001b[43mL\u001b[49m\u001b[43m,\u001b[49m\u001b[43m \u001b[49m\u001b[43mn\u001b[49m\u001b[43m]\u001b[49m\n\u001b[1;32m     15\u001b[0m r_dis \u001b[38;5;241m=\u001b[39m hash_distribution[R, n]\n\u001b[1;32m     17\u001b[0m \u001b[38;5;66;03m# Apply LEFT outer join FOR EACH PROCESSORS\u001b[39;00m\n",
      "\u001b[0;31mTypeError\u001b[0m: 'function' object is not subscriptable"
     ]
    }
   ],
   "source": [
    "ROJA(R,S,3)"
   ]
  },
  {
   "cell_type": "markdown",
   "metadata": {},
   "source": [
    "## Attempt DOJA & DER on your own - Withour tutor's aid "
   ]
  }
 ],
 "metadata": {
  "kernelspec": {
   "display_name": "Python 3 (ipykernel)",
   "language": "python",
   "name": "python3"
  },
  "language_info": {
   "codemirror_mode": {
    "name": "ipython",
    "version": 3
   },
   "file_extension": ".py",
   "mimetype": "text/x-python",
   "name": "python",
   "nbconvert_exporter": "python",
   "pygments_lexer": "ipython3",
   "version": "3.8.16"
  }
 },
 "nbformat": 4,
 "nbformat_minor": 2
}
