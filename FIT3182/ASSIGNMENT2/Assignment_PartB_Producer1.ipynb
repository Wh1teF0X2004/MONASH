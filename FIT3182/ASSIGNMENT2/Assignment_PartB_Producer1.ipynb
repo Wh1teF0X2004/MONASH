{
 "cells": [
  {
   "cell_type": "markdown",
   "id": "61bad6a4",
   "metadata": {},
   "source": [
    "<div style= \"text-align: right\">\n",
    "    <p style= \"text-align: right; font-weight: bold; font-size: x-large;\">FIT3182 Big Data Management and Processing</p>\n",
    "    <p style= \"text-align: right; font-weight: bold; font-size: large;\">Assignment 2</p>\n",
    "    <p style= \"text-align: right\">Foo Kai Yan</p>\n",
    "    <p style= \"text-align: right\">kfoo0012@student.monash.edu<br><br><i>33085625<br><br><i>18<sup>th</sup> May 2024</i></p>\n",
    "<div>\n",
    "<hr style=\"border-color: black;\">"
   ]
  },
  {
   "cell_type": "markdown",
   "id": "0a28f319",
   "metadata": {},
   "source": [
    "## Student Statement\n",
    "The assignment was completed with the assistance of some code obtained from seminar/tutorial/lab/applied class."
   ]
  },
  {
   "cell_type": "markdown",
   "id": "5b5fc701",
   "metadata": {},
   "source": [
    "### Installing PyMongo"
   ]
  },
  {
   "cell_type": "code",
   "execution_count": 1,
   "id": "dae485fa",
   "metadata": {
    "scrolled": true
   },
   "outputs": [
    {
     "name": "stdout",
     "output_type": "stream",
     "text": [
      "Requirement already satisfied: pymongo in /opt/conda/lib/python3.8/site-packages (4.3.3)\n",
      "Requirement already satisfied: dnspython<3.0.0,>=1.16.0 in /opt/conda/lib/python3.8/site-packages (from pymongo) (2.3.0)\n"
     ]
    }
   ],
   "source": [
    "!pip install pymongo"
   ]
  },
  {
   "cell_type": "markdown",
   "id": "98215dc7",
   "metadata": {},
   "source": [
    "### Import required Libraries"
   ]
  },
  {
   "cell_type": "code",
   "execution_count": 2,
   "id": "8606e9e0",
   "metadata": {},
   "outputs": [],
   "source": [
    "import os\n",
    "import csv\n",
    "import random\n",
    "import pandas as pd\n",
    "import datetime as dt\n",
    "from time import sleep\n",
    "from json import dumps\n",
    "from pprint import pprint\n",
    "from pymongo import MongoClient\n",
    "from kafka3 import KafkaProducer"
   ]
  },
  {
   "cell_type": "markdown",
   "id": "01a9f3f8",
   "metadata": {},
   "source": [
    "### Check working directory"
   ]
  },
  {
   "cell_type": "code",
   "execution_count": 3,
   "id": "285c6915",
   "metadata": {},
   "outputs": [
    {
     "data": {
      "text/plain": [
       "'/home/student/ASSIGNMENT2'"
      ]
     },
     "execution_count": 3,
     "metadata": {},
     "output_type": "execute_result"
    }
   ],
   "source": [
    "os.getcwd()"
   ]
  },
  {
   "cell_type": "markdown",
   "id": "cbb6d796",
   "metadata": {},
   "source": [
    "## Producer 1"
   ]
  },
  {
   "cell_type": "code",
   "execution_count": 4,
   "id": "9520d665",
   "metadata": {
    "scrolled": false
   },
   "outputs": [
    {
     "name": "stdout",
     "output_type": "stream",
     "text": [
      "Publishing records...\n",
      "Message published successfully. Data: {'latitude': -36.759, 'longitude': 144.158, 'air_temperature_celcius': 14.0, 'relative_humidity': 52.5, 'windspeed_knots': 7.0, 'max_wind_speed': 13.0, 'GHI_w/m2': 118.0, 'precipitation_flag': 'G', 'precipitation': 0.0, 'latest_date': '2024-01-02T00:00:00', 'producer_id': 'producer1_climate'}\n",
      "Message published successfully. Data: {'latitude': -37.618, 'longitude': 149.281, 'air_temperature_celcius': 19.0, 'relative_humidity': 53.8, 'windspeed_knots': 9.2, 'max_wind_speed': 15.0, 'GHI_w/m2': 158.0, 'precipitation_flag': 'G', 'precipitation': 0.02, 'latest_date': '2024-01-03T00:00:00', 'producer_id': 'producer1_climate'}\n",
      "Message published successfully. Data: {'latitude': -38.226, 'longitude': 147.167, 'air_temperature_celcius': 10.0, 'relative_humidity': 43.7, 'windspeed_knots': 7.2, 'max_wind_speed': 11.1, 'GHI_w/m2': 90.0, 'precipitation_flag': 'I', 'precipitation': 0.0, 'latest_date': '2024-01-04T00:00:00', 'producer_id': 'producer1_climate'}\n",
      "Message published successfully. Data: {'latitude': -36.779, 'longitude': 146.108, 'air_temperature_celcius': 13.0, 'relative_humidity': 42.0, 'windspeed_knots': 11.4, 'max_wind_speed': 16.9, 'GHI_w/m2': 119.0, 'precipitation_flag': 'G', 'precipitation': 0.0, 'latest_date': '2024-01-05T00:00:00', 'producer_id': 'producer1_climate'}\n",
      "Message published successfully. Data: {'latitude': -36.293, 'longitude': 146.148, 'air_temperature_celcius': 16.0, 'relative_humidity': 50.8, 'windspeed_knots': 5.8, 'max_wind_speed': 12.0, 'GHI_w/m2': 136.0, 'precipitation_flag': 'I', 'precipitation': 0.0, 'latest_date': '2024-01-06T00:00:00', 'producer_id': 'producer1_climate'}\n",
      "Message published successfully. Data: {'latitude': -37.242, 'longitude': 141.153, 'air_temperature_celcius': 12.0, 'relative_humidity': 42.8, 'windspeed_knots': 12.1, 'max_wind_speed': 19.0, 'GHI_w/m2': 109.0, 'precipitation_flag': 'G', 'precipitation': 0.04, 'latest_date': '2024-01-07T00:00:00', 'producer_id': 'producer1_climate'}\n",
      "Message published successfully. Data: {'latitude': -38.912, 'longitude': 146.272, 'air_temperature_celcius': 18.0, 'relative_humidity': 53.3, 'windspeed_knots': 10.8, 'max_wind_speed': 15.0, 'GHI_w/m2': 150.0, 'precipitation_flag': 'G', 'precipitation': 0.0, 'latest_date': '2024-01-08T00:00:00', 'producer_id': 'producer1_climate'}\n",
      "Message published successfully. Data: {'latitude': -37.856, 'longitude': 143.416, 'air_temperature_celcius': 14.0, 'relative_humidity': 51.0, 'windspeed_knots': 9.1, 'max_wind_speed': 12.0, 'GHI_w/m2': 119.0, 'precipitation_flag': 'G', 'precipitation': 0.0, 'latest_date': '2024-01-09T00:00:00', 'producer_id': 'producer1_climate'}\n",
      "Message published successfully. Data: {'latitude': -37.478, 'longitude': 148.117, 'air_temperature_celcius': 11.0, 'relative_humidity': 43.9, 'windspeed_knots': 11.2, 'max_wind_speed': 16.9, 'GHI_w/m2': 99.0, 'precipitation_flag': 'G', 'precipitation': 0.12, 'latest_date': '2024-01-10T00:00:00', 'producer_id': 'producer1_climate'}\n",
      "Message published successfully. Data: {'latitude': -37.611, 'longitude': 149.277, 'air_temperature_celcius': 18.0, 'relative_humidity': 49.4, 'windspeed_knots': 9.3, 'max_wind_speed': 13.0, 'GHI_w/m2': 155.0, 'precipitation_flag': 'I', 'precipitation': 0.0, 'latest_date': '2024-01-11T00:00:00', 'producer_id': 'producer1_climate'}\n",
      "Message published successfully. Data: {'latitude': -37.296, 'longitude': 144.386, 'air_temperature_celcius': 11.0, 'relative_humidity': 40.8, 'windspeed_knots': 12.2, 'max_wind_speed': 20.0, 'GHI_w/m2': 102.0, 'precipitation_flag': 'G', 'precipitation': 0.24, 'latest_date': '2024-01-12T00:00:00', 'producer_id': 'producer1_climate'}\n",
      "Message published successfully. Data: {'latitude': -38.527, 'longitude': 143.493, 'air_temperature_celcius': 19.0, 'relative_humidity': 51.5, 'windspeed_knots': 10.2, 'max_wind_speed': 20.0, 'GHI_w/m2': 161.0, 'precipitation_flag': 'I', 'precipitation': 0.0, 'latest_date': '2024-01-13T00:00:00', 'producer_id': 'producer1_climate'}\n",
      "Message published successfully. Data: {'latitude': -37.926, 'longitude': 144.0898, 'air_temperature_celcius': 15.0, 'relative_humidity': 51.0, 'windspeed_knots': 9.0, 'max_wind_speed': 13.0, 'GHI_w/m2': 128.0, 'precipitation_flag': 'G', 'precipitation': 1.26, 'latest_date': '2024-01-14T00:00:00', 'producer_id': 'producer1_climate'}\n",
      "Message published successfully. Data: {'latitude': -37.365, 'longitude': 148.052, 'air_temperature_celcius': 11.0, 'relative_humidity': 43.8, 'windspeed_knots': 6.5, 'max_wind_speed': 12.0, 'GHI_w/m2': 99.0, 'precipitation_flag': 'G', 'precipitation': 0.02, 'latest_date': '2024-01-15T00:00:00', 'producer_id': 'producer1_climate'}\n",
      "Message published successfully. Data: {'latitude': -36.277, 'longitude': 146.165, 'air_temperature_celcius': 20.0, 'relative_humidity': 57.0, 'windspeed_knots': 8.7, 'max_wind_speed': 13.0, 'GHI_w/m2': 161.0, 'precipitation_flag': 'I', 'precipitation': 0.0, 'latest_date': '2024-01-16T00:00:00', 'producer_id': 'producer1_climate'}\n",
      "Message published successfully. Data: {'latitude': -37.368, 'longitude': 148.05, 'air_temperature_celcius': 10.0, 'relative_humidity': 41.4, 'windspeed_knots': 9.4, 'max_wind_speed': 14.0, 'GHI_w/m2': 92.0, 'precipitation_flag': 'I', 'precipitation': 0.0, 'latest_date': '2024-01-17T00:00:00', 'producer_id': 'producer1_climate'}\n",
      "Message published successfully. Data: {'latitude': -37.437, 'longitude': 148.104, 'air_temperature_celcius': 12.0, 'relative_humidity': 40.7, 'windspeed_knots': 16.7, 'max_wind_speed': 21.0, 'GHI_w/m2': 111.0, 'precipitation_flag': 'G', 'precipitation': 0.12, 'latest_date': '2024-01-18T00:00:00', 'producer_id': 'producer1_climate'}\n",
      "Message published successfully. Data: {'latitude': -35.323, 'longitude': 143.509, 'air_temperature_celcius': 15.0, 'relative_humidity': 49.3, 'windspeed_knots': 3.6, 'max_wind_speed': 7.0, 'GHI_w/m2': 129.0, 'precipitation_flag': 'I', 'precipitation': 0.0, 'latest_date': '2024-01-19T00:00:00', 'producer_id': 'producer1_climate'}\n",
      "Message published successfully. Data: {'latitude': -36.0459, 'longitude': 143.8907, 'air_temperature_celcius': 21.0, 'relative_humidity': 58.7, 'windspeed_knots': 7.8, 'max_wind_speed': 13.0, 'GHI_w/m2': 167.0, 'precipitation_flag': 'I', 'precipitation': 0.0, 'latest_date': '2024-01-20T00:00:00', 'producer_id': 'producer1_climate'}\n",
      "Message published successfully. Data: {'latitude': -36.1346, 'longitude': 145.2196, 'air_temperature_celcius': 8.0, 'relative_humidity': 37.2, 'windspeed_knots': 5.5, 'max_wind_speed': 11.1, 'GHI_w/m2': 76.0, 'precipitation_flag': 'G', 'precipitation': 0.0, 'latest_date': '2024-01-21T00:00:00', 'producer_id': 'producer1_climate'}\n",
      "Message published successfully. Data: {'latitude': -37.062, 'longitude': 141.373, 'air_temperature_celcius': 26.0, 'relative_humidity': 52.2, 'windspeed_knots': 13.7, 'max_wind_speed': 16.9, 'GHI_w/m2': 219.0, 'precipitation_flag': 'I', 'precipitation': 0.0, 'latest_date': '2024-01-22T00:00:00', 'producer_id': 'producer1_climate'}\n",
      "Message published successfully. Data: {'latitude': -37.227, 'longitude': 141.151, 'air_temperature_celcius': 9.0, 'relative_humidity': 41.2, 'windspeed_knots': 10.0, 'max_wind_speed': 13.0, 'GHI_w/m2': 83.0, 'precipitation_flag': 'G', 'precipitation': 0.02, 'latest_date': '2024-01-23T00:00:00', 'producer_id': 'producer1_climate'}\n",
      "Message published successfully. Data: {'latitude': -37.606, 'longitude': 149.312, 'air_temperature_celcius': 16.0, 'relative_humidity': 51.0, 'windspeed_knots': 6.0, 'max_wind_speed': 13.0, 'GHI_w/m2': 136.0, 'precipitation_flag': 'G', 'precipitation': 0.0, 'latest_date': '2024-01-24T00:00:00', 'producer_id': 'producer1_climate'}\n",
      "Message published successfully. Data: {'latitude': -37.63, 'longitude': 149.232, 'air_temperature_celcius': 18.0, 'relative_humidity': 57.0, 'windspeed_knots': 7.4, 'max_wind_speed': 15.0, 'GHI_w/m2': 145.0, 'precipitation_flag': 'I', 'precipitation': 0.0, 'latest_date': '2024-01-25T00:00:00', 'producer_id': 'producer1_climate'}\n",
      "Message published successfully. Data: {'latitude': -37.46, 'longitude': 148.113, 'air_temperature_celcius': 11.0, 'relative_humidity': 44.2, 'windspeed_knots': 8.7, 'max_wind_speed': 15.9, 'GHI_w/m2': 99.0, 'precipitation_flag': 'G', 'precipitation': 0.04, 'latest_date': '2024-01-26T00:00:00', 'producer_id': 'producer1_climate'}\n"
     ]
    },
    {
     "name": "stdout",
     "output_type": "stream",
     "text": [
      "Message published successfully. Data: {'latitude': -36.1346, 'longitude': 145.2196, 'air_temperature_celcius': 8.0, 'relative_humidity': 37.2, 'windspeed_knots': 5.5, 'max_wind_speed': 11.1, 'GHI_w/m2': 76.0, 'precipitation_flag': 'G', 'precipitation': 0.0, 'latest_date': '2024-01-27T00:00:00', 'producer_id': 'producer1_climate'}\n",
      "Message published successfully. Data: {'latitude': -35.937, 'longitude': 145.607, 'air_temperature_celcius': 10.0, 'relative_humidity': 43.3, 'windspeed_knots': 2.6, 'max_wind_speed': 7.0, 'GHI_w/m2': 91.0, 'precipitation_flag': 'I', 'precipitation': 0.0, 'latest_date': '2024-01-28T00:00:00', 'producer_id': 'producer1_climate'}\n",
      "Message published successfully. Data: {'latitude': -36.765, 'longitude': 144.176, 'air_temperature_celcius': 16.0, 'relative_humidity': 54.9, 'windspeed_knots': 5.9, 'max_wind_speed': 9.9, 'GHI_w/m2': 132.0, 'precipitation_flag': 'I', 'precipitation': 0.0, 'latest_date': '2024-01-29T00:00:00', 'producer_id': 'producer1_climate'}\n",
      "Message published successfully. Data: {'latitude': -36.6833, 'longitude': 141.6347, 'air_temperature_celcius': 15.0, 'relative_humidity': 56.2, 'windspeed_knots': 16.9, 'max_wind_speed': 20.0, 'GHI_w/m2': 122.0, 'precipitation_flag': 'G', 'precipitation': 1.77, 'latest_date': '2024-01-30T00:00:00', 'producer_id': 'producer1_climate'}\n",
      "Message published successfully. Data: {'latitude': -37.4661, 'longitude': 143.2419, 'air_temperature_celcius': 14.0, 'relative_humidity': 48.2, 'windspeed_knots': 9.1, 'max_wind_speed': 15.0, 'GHI_w/m2': 122.0, 'precipitation_flag': 'G', 'precipitation': 0.0, 'latest_date': '2024-01-31T00:00:00', 'producer_id': 'producer1_climate'}\n",
      "Message published successfully. Data: {'latitude': -37.59, 'longitude': 149.31, 'air_temperature_celcius': 19.0, 'relative_humidity': 57.2, 'windspeed_knots': 8.9, 'max_wind_speed': 15.0, 'GHI_w/m2': 153.0, 'precipitation_flag': 'G', 'precipitation': 0.98, 'latest_date': '2024-02-01T00:00:00', 'producer_id': 'producer1_climate'}\n",
      "Message published successfully. Data: {'latitude': -37.0046, 'longitude': 141.8047, 'air_temperature_celcius': 10.0, 'relative_humidity': 41.4, 'windspeed_knots': 6.9, 'max_wind_speed': 8.9, 'GHI_w/m2': 92.0, 'precipitation_flag': 'G', 'precipitation': 0.0, 'latest_date': '2024-02-02T00:00:00', 'producer_id': 'producer1_climate'}\n",
      "Message published successfully. Data: {'latitude': -37.453, 'longitude': 148.099, 'air_temperature_celcius': 10.0, 'relative_humidity': 45.7, 'windspeed_knots': 3.6, 'max_wind_speed': 7.0, 'GHI_w/m2': 89.0, 'precipitation_flag': 'G', 'precipitation': 0.01, 'latest_date': '2024-02-03T00:00:00', 'producer_id': 'producer1_climate'}\n",
      "Message published successfully. Data: {'latitude': -37.758, 'longitude': 144.693, 'air_temperature_celcius': 20.0, 'relative_humidity': 58.8, 'windspeed_knots': 11.5, 'max_wind_speed': 15.9, 'GHI_w/m2': 159.0, 'precipitation_flag': 'I', 'precipitation': 0.0, 'latest_date': '2024-02-04T00:00:00', 'producer_id': 'producer1_climate'}\n",
      "Message published successfully. Data: {'latitude': -37.886, 'longitude': 147.207, 'air_temperature_celcius': 19.0, 'relative_humidity': 54.3, 'windspeed_knots': 5.9, 'max_wind_speed': 12.0, 'GHI_w/m2': 157.0, 'precipitation_flag': 'I', 'precipitation': 0.0, 'latest_date': '2024-02-05T00:00:00', 'producer_id': 'producer1_climate'}\n",
      "Message published successfully. Data: {'latitude': -37.6745, 'longitude': 142.9848, 'air_temperature_celcius': 15.0, 'relative_humidity': 44.5, 'windspeed_knots': 10.2, 'max_wind_speed': 14.0, 'GHI_w/m2': 134.0, 'precipitation_flag': 'G', 'precipitation': 0.0, 'latest_date': '2024-02-06T00:00:00', 'producer_id': 'producer1_climate'}\n",
      "Message published successfully. Data: {'latitude': -36.758, 'longitude': 145.19, 'air_temperature_celcius': 20.0, 'relative_humidity': 58.4, 'windspeed_knots': 6.1, 'max_wind_speed': 11.1, 'GHI_w/m2': 159.0, 'precipitation_flag': 'I', 'precipitation': 0.0, 'latest_date': '2024-02-07T00:00:00', 'producer_id': 'producer1_climate'}\n",
      "Message published successfully. Data: {'latitude': -36.0966, 'longitude': 142.3635, 'air_temperature_celcius': 22.0, 'relative_humidity': 57.0, 'windspeed_knots': 8.5, 'max_wind_speed': 15.0, 'GHI_w/m2': 178.0, 'precipitation_flag': 'G', 'precipitation': 0.0, 'latest_date': '2024-02-08T00:00:00', 'producer_id': 'producer1_climate'}\n",
      "Message published successfully. Data: {'latitude': -36.939, 'longitude': 143.28, 'air_temperature_celcius': 20.0, 'relative_humidity': 67.4, 'windspeed_knots': 8.5, 'max_wind_speed': 14.0, 'GHI_w/m2': 147.0, 'precipitation_flag': 'G', 'precipitation': 0.63, 'latest_date': '2024-02-09T00:00:00', 'producer_id': 'producer1_climate'}\n",
      "Message published successfully. Data: {'latitude': -36.3114, 'longitude': 142.7605, 'air_temperature_celcius': 28.0, 'relative_humidity': 56.7, 'windspeed_knots': 9.3, 'max_wind_speed': 16.9, 'GHI_w/m2': 227.0, 'precipitation_flag': 'I', 'precipitation': 0.0, 'latest_date': '2024-02-10T00:00:00', 'producer_id': 'producer1_climate'}\n",
      "Message published successfully. Data: {'latitude': -37.608, 'longitude': 149.292, 'air_temperature_celcius': 15.0, 'relative_humidity': 44.6, 'windspeed_knots': 9.7, 'max_wind_speed': 12.0, 'GHI_w/m2': 134.0, 'precipitation_flag': 'G', 'precipitation': 0.02, 'latest_date': '2024-02-11T00:00:00', 'producer_id': 'producer1_climate'}\n",
      "Message published successfully. Data: {'latitude': -36.575, 'longitude': 146.6668, 'air_temperature_celcius': 18.0, 'relative_humidity': 53.6, 'windspeed_knots': 7.9, 'max_wind_speed': 15.9, 'GHI_w/m2': 150.0, 'precipitation_flag': 'G', 'precipitation': 0.0, 'latest_date': '2024-02-12T00:00:00', 'producer_id': 'producer1_climate'}\n",
      "Message published successfully. Data: {'latitude': -37.62, 'longitude': 149.294, 'air_temperature_celcius': 21.0, 'relative_humidity': 60.4, 'windspeed_knots': 6.8, 'max_wind_speed': 12.0, 'GHI_w/m2': 164.0, 'precipitation_flag': 'I', 'precipitation': 0.0, 'latest_date': '2024-02-13T00:00:00', 'producer_id': 'producer1_climate'}\n",
      "Message published successfully. Data: {'latitude': -37.472, 'longitude': 148.119, 'air_temperature_celcius': 15.0, 'relative_humidity': 49.9, 'windspeed_knots': 7.9, 'max_wind_speed': 13.0, 'GHI_w/m2': 129.0, 'precipitation_flag': 'G', 'precipitation': 0.01, 'latest_date': '2024-02-14T00:00:00', 'producer_id': 'producer1_climate'}\n",
      "Message published successfully. Data: {'latitude': -35.954, 'longitude': 141.076, 'air_temperature_celcius': 10.0, 'relative_humidity': 42.1, 'windspeed_knots': 9.4, 'max_wind_speed': 15.0, 'GHI_w/m2': 91.0, 'precipitation_flag': 'B', 'precipitation': 0.13, 'latest_date': '2024-02-15T00:00:00', 'producer_id': 'producer1_climate'}\n",
      "Message published successfully. Data: {'latitude': -36.279, 'longitude': 141.6716, 'air_temperature_celcius': 13.0, 'relative_humidity': 42.5, 'windspeed_knots': 8.0, 'max_wind_speed': 15.0, 'GHI_w/m2': 118.0, 'precipitation_flag': 'I', 'precipitation': 0.0, 'latest_date': '2024-02-16T00:00:00', 'producer_id': 'producer1_climate'}\n",
      "Message published successfully. Data: {'latitude': -36.284, 'longitude': 146.145, 'air_temperature_celcius': 19.0, 'relative_humidity': 54.1, 'windspeed_knots': 11.2, 'max_wind_speed': 18.1, 'GHI_w/m2': 157.0, 'precipitation_flag': 'G', 'precipitation': 0.31, 'latest_date': '2024-02-17T00:00:00', 'producer_id': 'producer1_climate'}\n",
      "Message published successfully. Data: {'latitude': -37.247, 'longitude': 141.278, 'air_temperature_celcius': 14.0, 'relative_humidity': 47.4, 'windspeed_knots': 7.1, 'max_wind_speed': 14.0, 'GHI_w/m2': 123.0, 'precipitation_flag': 'I', 'precipitation': 0.0, 'latest_date': '2024-02-18T00:00:00', 'producer_id': 'producer1_climate'}\n",
      "Message published successfully. Data: {'latitude': -37.618, 'longitude': 149.281, 'air_temperature_celcius': 19.0, 'relative_humidity': 53.8, 'windspeed_knots': 9.2, 'max_wind_speed': 15.0, 'GHI_w/m2': 158.0, 'precipitation_flag': 'G', 'precipitation': 0.02, 'latest_date': '2024-02-19T00:00:00', 'producer_id': 'producer1_climate'}\n",
      "Message published successfully. Data: {'latitude': -35.321, 'longitude': 143.502, 'air_temperature_celcius': 12.0, 'relative_humidity': 44.0, 'windspeed_knots': 4.7, 'max_wind_speed': 7.0, 'GHI_w/m2': 108.0, 'precipitation_flag': 'G', 'precipitation': 0.0, 'latest_date': '2024-02-20T00:00:00', 'producer_id': 'producer1_climate'}\n"
     ]
    },
    {
     "name": "stdout",
     "output_type": "stream",
     "text": [
      "Message published successfully. Data: {'latitude': -36.779, 'longitude': 146.108, 'air_temperature_celcius': 15.0, 'relative_humidity': 51.0, 'windspeed_knots': 9.6, 'max_wind_speed': 15.9, 'GHI_w/m2': 128.0, 'precipitation_flag': 'G', 'precipitation': 0.16, 'latest_date': '2024-02-21T00:00:00', 'producer_id': 'producer1_climate'}\n",
      "Message published successfully. Data: {'latitude': -37.478, 'longitude': 148.117, 'air_temperature_celcius': 11.0, 'relative_humidity': 43.9, 'windspeed_knots': 11.2, 'max_wind_speed': 16.9, 'GHI_w/m2': 99.0, 'precipitation_flag': 'G', 'precipitation': 0.12, 'latest_date': '2024-02-22T00:00:00', 'producer_id': 'producer1_climate'}\n",
      "Message published successfully. Data: {'latitude': -37.976, 'longitude': 145.649, 'air_temperature_celcius': 22.0, 'relative_humidity': 62.0, 'windspeed_knots': 7.9, 'max_wind_speed': 11.1, 'GHI_w/m2': 170.0, 'precipitation_flag': 'I', 'precipitation': 0.0, 'latest_date': '2024-02-23T00:00:00', 'producer_id': 'producer1_climate'}\n",
      "Message published successfully. Data: {'latitude': -37.618, 'longitude': 143.0013, 'air_temperature_celcius': 14.0, 'relative_humidity': 36.0, 'windspeed_knots': 15.9, 'max_wind_speed': 22.0, 'GHI_w/m2': 134.0, 'precipitation_flag': 'I', 'precipitation': 0.0, 'latest_date': '2024-02-24T00:00:00', 'producer_id': 'producer1_climate'}\n",
      "Message published successfully. Data: {'latitude': -35.6374, 'longitude': 142.3787, 'air_temperature_celcius': 14.0, 'relative_humidity': 41.6, 'windspeed_knots': 13.1, 'max_wind_speed': 18.1, 'GHI_w/m2': 128.0, 'precipitation_flag': 'I', 'precipitation': 0.0, 'latest_date': '2024-02-25T00:00:00', 'producer_id': 'producer1_climate'}\n",
      "Message published successfully. Data: {'latitude': -37.363, 'longitude': 148.06, 'air_temperature_celcius': 11.0, 'relative_humidity': 35.3, 'windspeed_knots': 18.2, 'max_wind_speed': 25.1, 'GHI_w/m2': 106.0, 'precipitation_flag': 'I', 'precipitation': 0.0, 'latest_date': '2024-02-26T00:00:00', 'producer_id': 'producer1_climate'}\n",
      "Message published successfully. Data: {'latitude': -36.5794, 'longitude': 142.5959, 'air_temperature_celcius': 24.0, 'relative_humidity': 51.8, 'windspeed_knots': 7.9, 'max_wind_speed': 15.0, 'GHI_w/m2': 203.0, 'precipitation_flag': 'I', 'precipitation': 0.0, 'latest_date': '2024-02-27T00:00:00', 'producer_id': 'producer1_climate'}\n"
     ]
    },
    {
     "ename": "KeyboardInterrupt",
     "evalue": "",
     "output_type": "error",
     "traceback": [
      "\u001b[0;31m---------------------------------------------------------------------------\u001b[0m",
      "\u001b[0;31mKeyboardInterrupt\u001b[0m                         Traceback (most recent call last)",
      "Cell \u001b[0;32mIn[4], line 95\u001b[0m\n\u001b[1;32m     91\u001b[0m selected_data[\u001b[38;5;124m\"\u001b[39m\u001b[38;5;124mproducer_id\u001b[39m\u001b[38;5;124m\"\u001b[39m] \u001b[38;5;241m=\u001b[39m \u001b[38;5;124m\"\u001b[39m\u001b[38;5;124mproducer1_climate\u001b[39m\u001b[38;5;124m\"\u001b[39m\n\u001b[1;32m     93\u001b[0m publish_message(producer, topic_name, selected_data) \u001b[38;5;66;03m# Publish message\u001b[39;00m\n\u001b[0;32m---> 95\u001b[0m \u001b[43msleep\u001b[49m\u001b[43m(\u001b[49m\u001b[38;5;241;43m10\u001b[39;49m\u001b[43m)\u001b[49m\n",
      "\u001b[0;31mKeyboardInterrupt\u001b[0m: "
     ]
    }
   ],
   "source": [
    "# hostip obtained using `ipconfig` command in command prompt\n",
    "hostip = \"10.192.45.141\"\n",
    "\n",
    "# By opening the climate_streaming.csv, the column names is already known so one by one copy paste method was used to get the data from the climate_streaming.csv\n",
    "def readClimateStreamingCSV():\n",
    "    '''\n",
    "    readClimateStreamingCSV function:\n",
    "    - reads data from 'climate_streaming.csv' using pandas\n",
    "    - returns an array\n",
    "    '''\n",
    "    # Read the CSV file into a DataFrame\n",
    "    climate_streaming_data = pd.read_csv('climate_streaming.csv')\n",
    "    climate_streaming_data_array = []\n",
    "    \n",
    "    # Iterate through each row in the DataFrame using the index\n",
    "    for index in range(len(climate_streaming_data)):\n",
    "        # Access the row by its index\n",
    "        row = climate_streaming_data.iloc[index]\n",
    "        \n",
    "        # Create a dictionary for each row's data\n",
    "        climate_streaming_data_point = {\n",
    "            \"latitude\": float(row[\"latitude\"]),\n",
    "            \"longitude\": float(row[\"longitude\"]),\n",
    "            \"air_temperature_celcius\": float(row[\"air_temperature_celcius\"]),\n",
    "            \"relative_humidity\": float(row[\"relative_humidity\"]),\n",
    "            \"windspeed_knots\": float(row[\"windspeed_knots\"]),\n",
    "            \"max_wind_speed\": float(row[\"max_wind_speed\"]),\n",
    "            \"GHI_w/m2\": float(row[\"GHI_w/m2\"])\n",
    "        }\n",
    "        \n",
    "        # Process the precipitation data\n",
    "        precipitation = str(row[\"precipitation \"]).strip()  # Remove any leading/trailing whitespace\n",
    "        if precipitation:\n",
    "            # Split precipitation type and amount\n",
    "            climate_streaming_data_point['precipitation_flag'] = precipitation[-1]\n",
    "            climate_streaming_data_point[\"precipitation\"] = float(precipitation[:-1])\n",
    "        else:\n",
    "            # Handle missing or empty precipitation data\n",
    "            climate_streaming_data_point['precipitation_flag'] = None\n",
    "            climate_streaming_data_point[\"precipitation\"] = None\n",
    "        \n",
    "        # Append the dictionary to the array\n",
    "        climate_streaming_data_array.append(climate_streaming_data_point)\n",
    "\n",
    "    return climate_streaming_data_array\n",
    "\n",
    "def publish_message(producer_instance, topic_name, data):\n",
    "    '''\n",
    "    publish_message function: \n",
    "    - takes a Kafka producer instance, a topic name, and data\n",
    "    - then attempts to send the data to the specified Kafka topic. \n",
    "    - If successful, it prints a confirmation message; otherwise, it prints an error message.\n",
    "    '''\n",
    "    try:\n",
    "        producer_instance.send(topic_name, value=data)\n",
    "        producer_instance.flush()\n",
    "        print('Message published successfully. Data: ' + str(data))\n",
    "    except Exception as ex:\n",
    "        print('Exception in publishing message.')\n",
    "        print(str(ex))\n",
    "\n",
    "def connect_kafka_producer():\n",
    "    '''\n",
    "    connect_kafka_producer function: \n",
    "    - attempts to connect to a Kafka producer using the host IP initialised beforehand and port 9092\n",
    "    - returning the producer instance or None if unsuccessful.\n",
    "    '''\n",
    "    _producer = None\n",
    "    try:\n",
    "        _producer = KafkaProducer(bootstrap_servers=[f'{hostip}:9092'],\n",
    "                                  value_serializer=lambda x: dumps(x).encode('utf-8'),\n",
    "                                  api_version=(0, 10))\n",
    "    except Exception as ex:\n",
    "        print('Exception while connecting Kafka.')\n",
    "        print(str(ex))\n",
    "    finally:\n",
    "        return _producer\n",
    "\n",
    "if __name__ == '__main__':\n",
    "    data = readClimateStreamingCSV()\n",
    "    topic_name = \"Climate\"\n",
    "    producer = connect_kafka_producer()\n",
    "    latest_date = dt.datetime(2024, 1, 1) # Last date from historic CSV is 1/1/2024\n",
    "    print(\"Publishing records...\")\n",
    "\n",
    "    while True:\n",
    "        random_number = random.randrange(0, len(data))\n",
    "        selected_data = data[random_number] # Pick a random climate data point\n",
    "        latest_date += dt.timedelta(days=1) # Increase date from previous date\n",
    "        selected_data[\"latest_date\"] = latest_date.isoformat() # Set date to string format (to be stored in JSON)\n",
    "        selected_data[\"producer_id\"] = \"producer1_climate\"\n",
    "\n",
    "        publish_message(producer, topic_name, selected_data) # Publish message\n",
    "\n",
    "        sleep(10)"
   ]
  },
  {
   "cell_type": "markdown",
   "id": "f3ce8f93",
   "metadata": {},
   "source": [
    "The code above read climate data from 'climate_streaming.csv' and publish it to a Kafka topic. \n",
    "- The function `readClimateStreamingCSV` reads data from 'climate_streaming.csv' using pandas.\n",
    "- Each row is processed to extract climate attributes, and stores them in a list of dictionaries. \n",
    "- `publish_message` function takes a Kafka producer instance, a topic name, and data, then attempts to send the data to the specified Kafka topic. If successful, it prints a confirmation message; otherwise, it prints an error message. \n",
    "- `connect_kafka_producer` function attempts to connect to a Kafka producer using the host IP initialised beforehand and port 9092, returning the producer instance or `None` if unsuccessful.\n",
    "\n",
    "In the main execution block, \n",
    "```\n",
    "if __name__ == '__main__':\n",
    "```\n",
    "- Climate streaming data is read with `readClimateStreamingCSV`\n",
    "- Kafka producer is connected with `connect_kafka_producer`\n",
    "- A date variable with the last date from the historic CSV file is initialised with `latest_date`\n",
    "- An infinite loop is entered where it selects a random data point from the climate data, increments the date by one day, formats the date for JSON storage, adds a producer ID, and publishes the message to the Kafka topic `Climate`. \n",
    "    - The loop pauses for 10 seconds before repeating the process, effectively streaming the climate data to the Kafka topic at regular intervals. "
   ]
  }
 ],
 "metadata": {
  "kernelspec": {
   "display_name": "Python 3 (ipykernel)",
   "language": "python",
   "name": "python3"
  },
  "language_info": {
   "codemirror_mode": {
    "name": "ipython",
    "version": 3
   },
   "file_extension": ".py",
   "mimetype": "text/x-python",
   "name": "python",
   "nbconvert_exporter": "python",
   "pygments_lexer": "ipython3",
   "version": "3.8.16"
  }
 },
 "nbformat": 4,
 "nbformat_minor": 5
}
