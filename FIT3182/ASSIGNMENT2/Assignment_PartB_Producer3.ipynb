{
 "cells": [
  {
   "cell_type": "markdown",
   "id": "0e0422f6",
   "metadata": {},
   "source": [
    "<div style= \"text-align: right\">\n",
    "    <p style= \"text-align: right; font-weight: bold; font-size: x-large;\">FIT3182 Big Data Management and Processing</p>\n",
    "    <p style= \"text-align: right; font-weight: bold; font-size: large;\">Assignment 2</p>\n",
    "    <p style= \"text-align: right\">Foo Kai Yan</p>\n",
    "    <p style= \"text-align: right\">kfoo0012@student.monash.edu<br><br><i>33085625<br><br><i>18<sup>th</sup> May 2024</i></p>\n",
    "<div>\n",
    "<hr style=\"border-color: black;\">"
   ]
  },
  {
   "cell_type": "markdown",
   "id": "11a88376",
   "metadata": {},
   "source": [
    "## Student Statement\n",
    "The assignment was completed with the assistance of some code obtained from seminar/tutorial/lab/applied class."
   ]
  },
  {
   "cell_type": "markdown",
   "id": "3ce768c0",
   "metadata": {},
   "source": [
    "### Installing PyMongo"
   ]
  },
  {
   "cell_type": "code",
   "execution_count": 1,
   "id": "2d5bc036",
   "metadata": {},
   "outputs": [
    {
     "name": "stdout",
     "output_type": "stream",
     "text": [
      "Requirement already satisfied: pymongo in /opt/conda/lib/python3.8/site-packages (4.3.3)\n",
      "Requirement already satisfied: dnspython<3.0.0,>=1.16.0 in /opt/conda/lib/python3.8/site-packages (from pymongo) (2.3.0)\n"
     ]
    }
   ],
   "source": [
    "!pip install pymongo"
   ]
  },
  {
   "cell_type": "markdown",
   "id": "3d2e5e37",
   "metadata": {},
   "source": [
    "### Import required Libraries"
   ]
  },
  {
   "cell_type": "code",
   "execution_count": 2,
   "id": "5f964e0f",
   "metadata": {},
   "outputs": [],
   "source": [
    "import os\n",
    "import csv\n",
    "import random\n",
    "import pandas as pd\n",
    "import datetime as dt\n",
    "from time import sleep\n",
    "from json import dumps\n",
    "from pprint import pprint\n",
    "from pymongo import MongoClient\n",
    "from kafka3 import KafkaProducer"
   ]
  },
  {
   "cell_type": "markdown",
   "id": "65a05cc2",
   "metadata": {},
   "source": [
    "### Check working directory"
   ]
  },
  {
   "cell_type": "code",
   "execution_count": 3,
   "id": "53acd3cd",
   "metadata": {},
   "outputs": [
    {
     "data": {
      "text/plain": [
       "'/home/student/ASSIGNMENT2'"
      ]
     },
     "execution_count": 3,
     "metadata": {},
     "output_type": "execute_result"
    }
   ],
   "source": [
    "os.getcwd()"
   ]
  },
  {
   "cell_type": "markdown",
   "id": "ac80082e",
   "metadata": {},
   "source": [
    "## Producer 3"
   ]
  },
  {
   "cell_type": "code",
   "execution_count": 4,
   "id": "27d39e87",
   "metadata": {
    "scrolled": false
   },
   "outputs": [
    {
     "name": "stdout",
     "output_type": "stream",
     "text": [
      "Message published successfully. Data: {'latitude': -36.433, 'longitude': 141.5953, 'confidence': 75.0, 'surface_temperature_celcius': 49.0, 'created_time': '12:49:45', 'producer_id': 'producer3_hotspot_terra'}\n",
      "Message published successfully. Data: {'latitude': -36.6384, 'longitude': 142.4075, 'confidence': 90.0, 'surface_temperature_celcius': 66.0, 'created_time': '12:49:45', 'producer_id': 'producer3_hotspot_terra'}\n",
      "Message published successfully. Data: {'latitude': -34.2594, 'longitude': 141.6139, 'confidence': 81.0, 'surface_temperature_celcius': 54.0, 'created_time': '12:49:45', 'producer_id': 'producer3_hotspot_terra'}\n",
      "Message published successfully. Data: {'latitude': -36.5548, 'longitude': 142.5237, 'confidence': 70.0, 'surface_temperature_celcius': 45.0, 'created_time': '12:49:45', 'producer_id': 'producer3_hotspot_terra'}\n",
      "Message published successfully. Data: {'latitude': -36.6511, 'longitude': 143.915, 'confidence': 88.0, 'surface_temperature_celcius': 64.0, 'created_time': '12:49:45', 'producer_id': 'producer3_hotspot_terra'}\n",
      "Message published successfully. Data: {'latitude': -36.279, 'longitude': 141.6716, 'confidence': 81.0, 'surface_temperature_celcius': 54.0, 'created_time': '12:49:45', 'producer_id': 'producer3_hotspot_terra'}\n",
      "Message published successfully. Data: {'latitude': -37.34, 'longitude': 149.3668, 'confidence': 67.0, 'surface_temperature_celcius': 74.0, 'created_time': '12:49:45', 'producer_id': 'producer3_hotspot_terra'}\n",
      "Message published successfully. Data: {'latitude': -37.8057, 'longitude': 142.252, 'confidence': 75.0, 'surface_temperature_celcius': 49.0, 'created_time': '12:49:45', 'producer_id': 'producer3_hotspot_terra'}\n",
      "Message published successfully. Data: {'latitude': -36.7063, 'longitude': 142.0025, 'confidence': 54.0, 'surface_temperature_celcius': 39.0, 'created_time': '12:49:45', 'producer_id': 'producer3_hotspot_terra'}\n",
      "Message published successfully. Data: {'latitude': -36.3674, 'longitude': 143.7295, 'confidence': 78.0, 'surface_temperature_celcius': 51.0, 'created_time': '12:49:45', 'producer_id': 'producer3_hotspot_terra'}\n",
      "Message published successfully. Data: {'latitude': -37.61, 'longitude': 149.296, 'confidence': 81.0, 'surface_temperature_celcius': 56.0, 'created_time': '12:49:45', 'producer_id': 'producer3_hotspot_terra'}\n",
      "Message published successfully. Data: {'latitude': -36.085, 'longitude': 145.9096, 'confidence': 64.0, 'surface_temperature_celcius': 42.0, 'created_time': '12:49:45', 'producer_id': 'producer3_hotspot_terra'}\n",
      "Message published successfully. Data: {'latitude': -37.466, 'longitude': 148.1, 'confidence': 50.0, 'surface_temperature_celcius': 29.0, 'created_time': '12:49:45', 'producer_id': 'producer3_hotspot_terra'}\n",
      "Message published successfully. Data: {'latitude': -36.3153, 'longitude': 140.9789, 'confidence': 91.0, 'surface_temperature_celcius': 69.0, 'created_time': '12:49:45', 'producer_id': 'producer3_hotspot_terra'}\n",
      "Message published successfully. Data: {'latitude': -37.379, 'longitude': 148.132, 'confidence': 62.0, 'surface_temperature_celcius': 78.0, 'created_time': '12:49:45', 'producer_id': 'producer3_hotspot_terra'}\n",
      "Message published successfully. Data: {'latitude': -36.8094, 'longitude': 142.8885, 'confidence': 96.0, 'surface_temperature_celcius': 77.0, 'created_time': '12:49:45', 'producer_id': 'producer3_hotspot_terra'}\n",
      "Message published successfully. Data: {'latitude': -36.649, 'longitude': 145.5037, 'confidence': 74.0, 'surface_temperature_celcius': 48.0, 'created_time': '12:49:45', 'producer_id': 'producer3_hotspot_terra'}\n",
      "Message published successfully. Data: {'latitude': -36.888, 'longitude': 142.2484, 'confidence': 79.0, 'surface_temperature_celcius': 52.0, 'created_time': '12:49:45', 'producer_id': 'producer3_hotspot_terra'}\n",
      "Message published successfully. Data: {'latitude': -36.767, 'longitude': 142.6811, 'confidence': 55.0, 'surface_temperature_celcius': 39.0, 'created_time': '12:49:45', 'producer_id': 'producer3_hotspot_terra'}\n",
      "Message published successfully. Data: {'latitude': -36.4371, 'longitude': 141.7692, 'confidence': 74.0, 'surface_temperature_celcius': 48.0, 'created_time': '12:49:45', 'producer_id': 'producer3_hotspot_terra'}\n",
      "Message published successfully. Data: {'latitude': -37.903, 'longitude': 145.25, 'confidence': 53.0, 'surface_temperature_celcius': 44.0, 'created_time': '12:49:45', 'producer_id': 'producer3_hotspot_terra'}\n",
      "Message published successfully. Data: {'latitude': -36.1771, 'longitude': 145.7451, 'confidence': 100.0, 'surface_temperature_celcius': 93.0, 'created_time': '12:49:45', 'producer_id': 'producer3_hotspot_terra'}\n",
      "Message published successfully. Data: {'latitude': -36.1887, 'longitude': 143.4722, 'confidence': 56.0, 'surface_temperature_celcius': 39.0, 'created_time': '12:49:45', 'producer_id': 'producer3_hotspot_terra'}\n",
      "Message published successfully. Data: {'latitude': -36.7469, 'longitude': 141.3318, 'confidence': 86.0, 'surface_temperature_celcius': 61.0, 'created_time': '12:49:45', 'producer_id': 'producer3_hotspot_terra'}\n",
      "Message published successfully. Data: {'latitude': -36.0434, 'longitude': 143.1899, 'confidence': 58.0, 'surface_temperature_celcius': 40.0, 'created_time': '12:49:45', 'producer_id': 'producer3_hotspot_terra'}\n",
      "Message published successfully. Data: {'latitude': -36.7032, 'longitude': 144.0992, 'confidence': 90.0, 'surface_temperature_celcius': 66.0, 'created_time': '12:49:45', 'producer_id': 'producer3_hotspot_terra'}\n",
      "Message published successfully. Data: {'latitude': -36.7056, 'longitude': 145.2481, 'confidence': 71.0, 'surface_temperature_celcius': 45.0, 'created_time': '12:49:45', 'producer_id': 'producer3_hotspot_terra'}\n",
      "Message published successfully. Data: {'latitude': -35.937, 'longitude': 145.607, 'confidence': 73.0, 'surface_temperature_celcius': 51.0, 'created_time': '12:49:45', 'producer_id': 'producer3_hotspot_terra'}\n",
      "Message published successfully. Data: {'latitude': -36.8922, 'longitude': 145.1252, 'confidence': 60.0, 'surface_temperature_celcius': 40.0, 'created_time': '12:49:45', 'producer_id': 'producer3_hotspot_terra'}\n",
      "Message published successfully. Data: {'latitude': -37.8254, 'longitude': 143.3904, 'confidence': 62.0, 'surface_temperature_celcius': 43.0, 'created_time': '12:49:45', 'producer_id': 'producer3_hotspot_terra'}\n",
      "Message published successfully. Data: {'latitude': -36.7439, 'longitude': 141.8553, 'confidence': 71.0, 'surface_temperature_celcius': 46.0, 'created_time': '12:49:45', 'producer_id': 'producer3_hotspot_terra'}\n",
      "Message published successfully. Data: {'latitude': -36.7165, 'longitude': 142.6155, 'confidence': 90.0, 'surface_temperature_celcius': 66.0, 'created_time': '12:49:45', 'producer_id': 'producer3_hotspot_terra'}\n",
      "Message published successfully. Data: {'latitude': -37.0595, 'longitude': 142.8366, 'confidence': 80.0, 'surface_temperature_celcius': 53.0, 'created_time': '12:49:45', 'producer_id': 'producer3_hotspot_terra'}\n",
      "Message published successfully. Data: {'latitude': -36.941, 'longitude': 143.268, 'confidence': 80.0, 'surface_temperature_celcius': 37.0, 'created_time': '12:49:45', 'producer_id': 'producer3_hotspot_terra'}\n",
      "Message published successfully. Data: {'latitude': -36.1021, 'longitude': 145.7792, 'confidence': 74.0, 'surface_temperature_celcius': 47.0, 'created_time': '12:49:45', 'producer_id': 'producer3_hotspot_terra'}\n",
      "Message published successfully. Data: {'latitude': -36.664, 'longitude': 142.8802, 'confidence': 100.0, 'surface_temperature_celcius': 87.0, 'created_time': '12:49:45', 'producer_id': 'producer3_hotspot_terra'}\n",
      "Message published successfully. Data: {'latitude': -36.059, 'longitude': 143.7718, 'confidence': 69.0, 'surface_temperature_celcius': 44.0, 'created_time': '12:49:45', 'producer_id': 'producer3_hotspot_terra'}\n",
      "Message published successfully. Data: {'latitude': -36.1722, 'longitude': 145.9429, 'confidence': 74.0, 'surface_temperature_celcius': 48.0, 'created_time': '12:49:45', 'producer_id': 'producer3_hotspot_terra'}\n",
      "Message published successfully. Data: {'latitude': -37.7974, 'longitude': 145.9535, 'confidence': 87.0, 'surface_temperature_celcius': 97.0, 'created_time': '12:49:45', 'producer_id': 'producer3_hotspot_terra'}\n"
     ]
    },
    {
     "name": "stdout",
     "output_type": "stream",
     "text": [
      "Message published successfully. Data: {'latitude': -35.9979, 'longitude': 143.6803, 'confidence': 82.0, 'surface_temperature_celcius': 56.0, 'created_time': '12:49:45', 'producer_id': 'producer3_hotspot_terra'}\n",
      "Message published successfully. Data: {'latitude': -37.7583, 'longitude': 143.41, 'confidence': 70.0, 'surface_temperature_celcius': 45.0, 'created_time': '12:49:45', 'producer_id': 'producer3_hotspot_terra'}\n",
      "Message published successfully. Data: {'latitude': -36.1552, 'longitude': 141.7256, 'confidence': 80.0, 'surface_temperature_celcius': 53.0, 'created_time': '12:49:45', 'producer_id': 'producer3_hotspot_terra'}\n",
      "Message published successfully. Data: {'latitude': -36.3636, 'longitude': 144.4821, 'confidence': 81.0, 'surface_temperature_celcius': 55.0, 'created_time': '12:49:45', 'producer_id': 'producer3_hotspot_terra'}\n",
      "Message published successfully. Data: {'latitude': -35.323, 'longitude': 143.509, 'confidence': 100.0, 'surface_temperature_celcius': 53.0, 'created_time': '12:49:45', 'producer_id': 'producer3_hotspot_terra'}\n",
      "Message published successfully. Data: {'latitude': -37.8947, 'longitude': 142.8497, 'confidence': 76.0, 'surface_temperature_celcius': 49.0, 'created_time': '12:49:45', 'producer_id': 'producer3_hotspot_terra'}\n",
      "Message published successfully. Data: {'latitude': -36.5824, 'longitude': 142.2004, 'confidence': 74.0, 'surface_temperature_celcius': 48.0, 'created_time': '12:49:45', 'producer_id': 'producer3_hotspot_terra'}\n",
      "Message published successfully. Data: {'latitude': -38.2026, 'longitude': 147.0856, 'confidence': 81.0, 'surface_temperature_celcius': 54.0, 'created_time': '12:49:45', 'producer_id': 'producer3_hotspot_terra'}\n",
      "Message published successfully. Data: {'latitude': -36.8946, 'longitude': 141.9795, 'confidence': 65.0, 'surface_temperature_celcius': 48.0, 'created_time': '12:49:45', 'producer_id': 'producer3_hotspot_terra'}\n",
      "Message published successfully. Data: {'latitude': -37.8658, 'longitude': 143.4162, 'confidence': 92.0, 'surface_temperature_celcius': 43.0, 'created_time': '12:49:45', 'producer_id': 'producer3_hotspot_terra'}\n",
      "Message published successfully. Data: {'latitude': -37.7509, 'longitude': 143.4023, 'confidence': 98.0, 'surface_temperature_celcius': 82.0, 'created_time': '12:49:45', 'producer_id': 'producer3_hotspot_terra'}\n",
      "Message published successfully. Data: {'latitude': -36.2938, 'longitude': 145.6237, 'confidence': 63.0, 'surface_temperature_celcius': 42.0, 'created_time': '12:49:45', 'producer_id': 'producer3_hotspot_terra'}\n",
      "Message published successfully. Data: {'latitude': -36.3909, 'longitude': 141.1843, 'confidence': 54.0, 'surface_temperature_celcius': 39.0, 'created_time': '12:49:45', 'producer_id': 'producer3_hotspot_terra'}\n",
      "Message published successfully. Data: {'latitude': -37.238, 'longitude': 141.145, 'confidence': 76.0, 'surface_temperature_celcius': 43.0, 'created_time': '12:49:45', 'producer_id': 'producer3_hotspot_terra'}\n",
      "Message published successfully. Data: {'latitude': -35.6374, 'longitude': 142.3787, 'confidence': 100.0, 'surface_temperature_celcius': 95.0, 'created_time': '12:49:45', 'producer_id': 'producer3_hotspot_terra'}\n",
      "Message published successfully. Data: {'latitude': -36.907, 'longitude': 143.508, 'confidence': 74.0, 'surface_temperature_celcius': 48.0, 'created_time': '12:49:45', 'producer_id': 'producer3_hotspot_terra'}\n",
      "Message published successfully. Data: {'latitude': -36.5077, 'longitude': 144.5817, 'confidence': 73.0, 'surface_temperature_celcius': 47.0, 'created_time': '12:49:45', 'producer_id': 'producer3_hotspot_terra'}\n",
      "Message published successfully. Data: {'latitude': -37.077, 'longitude': 143.604, 'confidence': 74.0, 'surface_temperature_celcius': 48.0, 'created_time': '12:49:45', 'producer_id': 'producer3_hotspot_terra'}\n",
      "Message published successfully. Data: {'latitude': -36.2756, 'longitude': 145.811, 'confidence': 50.0, 'surface_temperature_celcius': 39.0, 'created_time': '12:49:45', 'producer_id': 'producer3_hotspot_terra'}\n",
      "Message published successfully. Data: {'latitude': -38.219, 'longitude': 143.7352, 'confidence': 68.0, 'surface_temperature_celcius': 44.0, 'created_time': '12:49:45', 'producer_id': 'producer3_hotspot_terra'}\n",
      "Message published successfully. Data: {'latitude': -35.9701, 'longitude': 145.7061, 'confidence': 71.0, 'surface_temperature_celcius': 46.0, 'created_time': '12:49:45', 'producer_id': 'producer3_hotspot_terra'}\n",
      "Message published successfully. Data: {'latitude': -38.0505, 'longitude': 142.4791, 'confidence': 57.0, 'surface_temperature_celcius': 40.0, 'created_time': '12:49:45', 'producer_id': 'producer3_hotspot_terra'}\n",
      "Message published successfully. Data: {'latitude': -36.634, 'longitude': 144.5408, 'confidence': 73.0, 'surface_temperature_celcius': 47.0, 'created_time': '12:49:45', 'producer_id': 'producer3_hotspot_terra'}\n",
      "Message published successfully. Data: {'latitude': -35.7108, 'longitude': 143.7836, 'confidence': 86.0, 'surface_temperature_celcius': 60.0, 'created_time': '12:49:45', 'producer_id': 'producer3_hotspot_terra'}\n",
      "Message published successfully. Data: {'latitude': -36.8084, 'longitude': 145.9198, 'confidence': 67.0, 'surface_temperature_celcius': 43.0, 'created_time': '12:49:45', 'producer_id': 'producer3_hotspot_terra'}\n",
      "Message published successfully. Data: {'latitude': -36.9189, 'longitude': 147.5603, 'confidence': 63.0, 'surface_temperature_celcius': 52.0, 'created_time': '12:49:45', 'producer_id': 'producer3_hotspot_terra'}\n",
      "Message published successfully. Data: {'latitude': -37.687, 'longitude': 143.4397, 'confidence': 88.0, 'surface_temperature_celcius': 64.0, 'created_time': '12:49:45', 'producer_id': 'producer3_hotspot_terra'}\n",
      "Message published successfully. Data: {'latitude': -37.8635, 'longitude': 143.1986, 'confidence': 57.0, 'surface_temperature_celcius': 39.0, 'created_time': '12:49:45', 'producer_id': 'producer3_hotspot_terra'}\n",
      "Message published successfully. Data: {'latitude': -36.0106, 'longitude': 144.9927, 'confidence': 73.0, 'surface_temperature_celcius': 47.0, 'created_time': '12:49:45', 'producer_id': 'producer3_hotspot_terra'}\n",
      "Message published successfully. Data: {'latitude': -37.4634, 'longitude': 143.053, 'confidence': 72.0, 'surface_temperature_celcius': 46.0, 'created_time': '12:49:45', 'producer_id': 'producer3_hotspot_terra'}\n",
      "Message published successfully. Data: {'latitude': -36.767, 'longitude': 142.6811, 'confidence': 55.0, 'surface_temperature_celcius': 39.0, 'created_time': '12:49:45', 'producer_id': 'producer3_hotspot_terra'}\n",
      "Message published successfully. Data: {'latitude': -37.3556, 'longitude': 146.1085, 'confidence': 50.0, 'surface_temperature_celcius': 47.0, 'created_time': '12:49:45', 'producer_id': 'producer3_hotspot_terra'}\n",
      "Message published successfully. Data: {'latitude': -35.2881, 'longitude': 142.5679, 'confidence': 80.0, 'surface_temperature_celcius': 53.0, 'created_time': '12:49:45', 'producer_id': 'producer3_hotspot_terra'}\n",
      "Message published successfully. Data: {'latitude': -36.1112, 'longitude': 146.5388, 'confidence': 67.0, 'surface_temperature_celcius': 43.0, 'created_time': '12:49:45', 'producer_id': 'producer3_hotspot_terra'}\n",
      "Message published successfully. Data: {'latitude': -36.9363, 'longitude': 143.0852, 'confidence': 94.0, 'surface_temperature_celcius': 103.0, 'created_time': '12:49:45', 'producer_id': 'producer3_hotspot_terra'}\n",
      "Message published successfully. Data: {'latitude': -36.1649, 'longitude': 145.9352, 'confidence': 68.0, 'surface_temperature_celcius': 44.0, 'created_time': '12:49:45', 'producer_id': 'producer3_hotspot_terra'}\n",
      "Message published successfully. Data: {'latitude': -36.2542, 'longitude': 143.6256, 'confidence': 52.0, 'surface_temperature_celcius': 38.0, 'created_time': '12:49:45', 'producer_id': 'producer3_hotspot_terra'}\n",
      "Message published successfully. Data: {'latitude': -36.9199, 'longitude': 145.8429, 'confidence': 75.0, 'surface_temperature_celcius': 48.0, 'created_time': '12:49:45', 'producer_id': 'producer3_hotspot_terra'}\n",
      "Message published successfully. Data: {'latitude': -37.294, 'longitude': 141.232, 'confidence': 100.0, 'surface_temperature_celcius': 87.0, 'created_time': '12:49:45', 'producer_id': 'producer3_hotspot_terra'}\n"
     ]
    },
    {
     "name": "stdout",
     "output_type": "stream",
     "text": [
      "Message published successfully. Data: {'latitude': -36.8403, 'longitude': 147.5354, 'confidence': 69.0, 'surface_temperature_celcius': 45.0, 'created_time': '12:49:45', 'producer_id': 'producer3_hotspot_terra'}\n",
      "Message published successfully. Data: {'latitude': -36.6778, 'longitude': 141.7388, 'confidence': 76.0, 'surface_temperature_celcius': 49.0, 'created_time': '12:49:45', 'producer_id': 'producer3_hotspot_terra'}\n",
      "Message published successfully. Data: {'latitude': -36.9442, 'longitude': 142.9619, 'confidence': 86.0, 'surface_temperature_celcius': 61.0, 'created_time': '12:49:45', 'producer_id': 'producer3_hotspot_terra'}\n",
      "Message published successfully. Data: {'latitude': -38.1719, 'longitude': 143.0705, 'confidence': 68.0, 'surface_temperature_celcius': 44.0, 'created_time': '12:49:45', 'producer_id': 'producer3_hotspot_terra'}\n",
      "Message published successfully. Data: {'latitude': -36.7801, 'longitude': 142.7151, 'confidence': 91.0, 'surface_temperature_celcius': 68.0, 'created_time': '12:49:45', 'producer_id': 'producer3_hotspot_terra'}\n",
      "Message published successfully. Data: {'latitude': -36.9381, 'longitude': 143.4883, 'confidence': 86.0, 'surface_temperature_celcius': 60.0, 'created_time': '12:49:45', 'producer_id': 'producer3_hotspot_terra'}\n",
      "Message published successfully. Data: {'latitude': -37.7966, 'longitude': 142.3196, 'confidence': 76.0, 'surface_temperature_celcius': 66.0, 'created_time': '12:49:45', 'producer_id': 'producer3_hotspot_terra'}\n",
      "Message published successfully. Data: {'latitude': -36.3872, 'longitude': 145.3858, 'confidence': 60.0, 'surface_temperature_celcius': 40.0, 'created_time': '12:49:45', 'producer_id': 'producer3_hotspot_terra'}\n",
      "Message published successfully. Data: {'latitude': -36.8847, 'longitude': 141.0956, 'confidence': 87.0, 'surface_temperature_celcius': 62.0, 'created_time': '12:49:45', 'producer_id': 'producer3_hotspot_terra'}\n",
      "Message published successfully. Data: {'latitude': -36.704, 'longitude': 142.9089, 'confidence': 78.0, 'surface_temperature_celcius': 51.0, 'created_time': '12:49:45', 'producer_id': 'producer3_hotspot_terra'}\n",
      "Message published successfully. Data: {'latitude': -37.1999, 'longitude': 143.6425, 'confidence': 62.0, 'surface_temperature_celcius': 41.0, 'created_time': '12:49:45', 'producer_id': 'producer3_hotspot_terra'}\n",
      "Message published successfully. Data: {'latitude': -37.3911, 'longitude': 147.037, 'confidence': 61.0, 'surface_temperature_celcius': 50.0, 'created_time': '12:49:45', 'producer_id': 'producer3_hotspot_terra'}\n",
      "Message published successfully. Data: {'latitude': -36.2531, 'longitude': 142.0113, 'confidence': 70.0, 'surface_temperature_celcius': 45.0, 'created_time': '12:49:45', 'producer_id': 'producer3_hotspot_terra'}\n",
      "Message published successfully. Data: {'latitude': -37.8567, 'longitude': 147.1576, 'confidence': 62.0, 'surface_temperature_celcius': 48.0, 'created_time': '12:49:45', 'producer_id': 'producer3_hotspot_terra'}\n",
      "Message published successfully. Data: {'latitude': -36.6672, 'longitude': 143.8631, 'confidence': 79.0, 'surface_temperature_celcius': 52.0, 'created_time': '12:49:45', 'producer_id': 'producer3_hotspot_terra'}\n",
      "Message published successfully. Data: {'latitude': -37.6841, 'longitude': 147.5667, 'confidence': 58.0, 'surface_temperature_celcius': 40.0, 'created_time': '12:49:45', 'producer_id': 'producer3_hotspot_terra'}\n",
      "Message published successfully. Data: {'latitude': -37.6606, 'longitude': 142.9932, 'confidence': 64.0, 'surface_temperature_celcius': 43.0, 'created_time': '12:49:45', 'producer_id': 'producer3_hotspot_terra'}\n",
      "Message published successfully. Data: {'latitude': -36.2032, 'longitude': 145.3025, 'confidence': 64.0, 'surface_temperature_celcius': 42.0, 'created_time': '12:49:45', 'producer_id': 'producer3_hotspot_terra'}\n",
      "Message published successfully. Data: {'latitude': -36.4441, 'longitude': 142.4715, 'confidence': 80.0, 'surface_temperature_celcius': 53.0, 'created_time': '12:49:45', 'producer_id': 'producer3_hotspot_terra'}\n",
      "Message published successfully. Data: {'latitude': -36.4936, 'longitude': 143.9868, 'confidence': 72.0, 'surface_temperature_celcius': 46.0, 'created_time': '12:49:45', 'producer_id': 'producer3_hotspot_terra'}\n",
      "Message published successfully. Data: {'latitude': -37.6868, 'longitude': 142.3949, 'confidence': 59.0, 'surface_temperature_celcius': 40.0, 'created_time': '12:49:45', 'producer_id': 'producer3_hotspot_terra'}\n",
      "Message published successfully. Data: {'latitude': -37.3735, 'longitude': 145.886, 'confidence': 87.0, 'surface_temperature_celcius': 96.0, 'created_time': '12:49:45', 'producer_id': 'producer3_hotspot_terra'}\n",
      "Message published successfully. Data: {'latitude': -36.4441, 'longitude': 142.4715, 'confidence': 80.0, 'surface_temperature_celcius': 53.0, 'created_time': '12:49:45', 'producer_id': 'producer3_hotspot_terra'}\n",
      "Message published successfully. Data: {'latitude': -37.8758, 'longitude': 145.8371, 'confidence': 78.0, 'surface_temperature_celcius': 52.0, 'created_time': '12:49:45', 'producer_id': 'producer3_hotspot_terra'}\n",
      "Message published successfully. Data: {'latitude': -36.1303, 'longitude': 146.3606, 'confidence': 90.0, 'surface_temperature_celcius': 67.0, 'created_time': '12:49:45', 'producer_id': 'producer3_hotspot_terra'}\n",
      "Message published successfully. Data: {'latitude': -36.4173, 'longitude': 141.1549, 'confidence': 84.0, 'surface_temperature_celcius': 58.0, 'created_time': '12:49:45', 'producer_id': 'producer3_hotspot_terra'}\n",
      "Message published successfully. Data: {'latitude': -36.7314, 'longitude': 141.8698, 'confidence': 67.0, 'surface_temperature_celcius': 44.0, 'created_time': '12:49:45', 'producer_id': 'producer3_hotspot_terra'}\n",
      "Message published successfully. Data: {'latitude': -37.5949, 'longitude': 142.6857, 'confidence': 100.0, 'surface_temperature_celcius': 98.0, 'created_time': '12:49:45', 'producer_id': 'producer3_hotspot_terra'}\n",
      "Message published successfully. Data: {'latitude': -37.5036, 'longitude': 142.8753, 'confidence': 83.0, 'surface_temperature_celcius': 63.0, 'created_time': '12:49:45', 'producer_id': 'producer3_hotspot_terra'}\n",
      "Message published successfully. Data: {'latitude': -37.5005, 'longitude': 143.1305, 'confidence': 79.0, 'surface_temperature_celcius': 52.0, 'created_time': '12:49:45', 'producer_id': 'producer3_hotspot_terra'}\n",
      "Message published successfully. Data: {'latitude': -36.6701, 'longitude': 141.3566, 'confidence': 61.0, 'surface_temperature_celcius': 50.0, 'created_time': '12:49:45', 'producer_id': 'producer3_hotspot_terra'}\n",
      "Message published successfully. Data: {'latitude': -36.2083, 'longitude': 143.9386, 'confidence': 81.0, 'surface_temperature_celcius': 54.0, 'created_time': '12:49:45', 'producer_id': 'producer3_hotspot_terra'}\n",
      "Message published successfully. Data: {'latitude': -37.7457, 'longitude': 142.9428, 'confidence': 80.0, 'surface_temperature_celcius': 53.0, 'created_time': '12:49:45', 'producer_id': 'producer3_hotspot_terra'}\n",
      "Message published successfully. Data: {'latitude': -37.7578, 'longitude': 142.227, 'confidence': 60.0, 'surface_temperature_celcius': 40.0, 'created_time': '12:49:45', 'producer_id': 'producer3_hotspot_terra'}\n",
      "Message published successfully. Data: {'latitude': -38.0045, 'longitude': 143.9075, 'confidence': 77.0, 'surface_temperature_celcius': 64.0, 'created_time': '12:49:45', 'producer_id': 'producer3_hotspot_terra'}\n",
      "Message published successfully. Data: {'latitude': -36.7063, 'longitude': 141.8673, 'confidence': 59.0, 'surface_temperature_celcius': 40.0, 'created_time': '12:49:45', 'producer_id': 'producer3_hotspot_terra'}\n",
      "Message published successfully. Data: {'latitude': -37.3723, 'longitude': 143.8406, 'confidence': 52.0, 'surface_temperature_celcius': 42.0, 'created_time': '12:49:45', 'producer_id': 'producer3_hotspot_terra'}\n",
      "Message published successfully. Data: {'latitude': -37.0434, 'longitude': 142.001, 'confidence': 54.0, 'surface_temperature_celcius': 41.0, 'created_time': '12:49:45', 'producer_id': 'producer3_hotspot_terra'}\n",
      "Message published successfully. Data: {'latitude': -37.0201, 'longitude': 141.7743, 'confidence': 76.0, 'surface_temperature_celcius': 54.0, 'created_time': '12:49:45', 'producer_id': 'producer3_hotspot_terra'}\n"
     ]
    },
    {
     "name": "stdout",
     "output_type": "stream",
     "text": [
      "Message published successfully. Data: {'latitude': -36.4449, 'longitude': 140.9836, 'confidence': 91.0, 'surface_temperature_celcius': 68.0, 'created_time': '12:49:45', 'producer_id': 'producer3_hotspot_terra'}\n",
      "Message published successfully. Data: {'latitude': -36.3019, 'longitude': 146.4343, 'confidence': 67.0, 'surface_temperature_celcius': 43.0, 'created_time': '12:49:45', 'producer_id': 'producer3_hotspot_terra'}\n",
      "Message published successfully. Data: {'latitude': -36.686, 'longitude': 143.8575, 'confidence': 71.0, 'surface_temperature_celcius': 46.0, 'created_time': '12:49:45', 'producer_id': 'producer3_hotspot_terra'}\n",
      "Message published successfully. Data: {'latitude': -36.7321, 'longitude': 143.1978, 'confidence': 54.0, 'surface_temperature_celcius': 46.0, 'created_time': '12:49:45', 'producer_id': 'producer3_hotspot_terra'}\n",
      "Message published successfully. Data: {'latitude': -37.8189, 'longitude': 143.2016, 'confidence': 72.0, 'surface_temperature_celcius': 46.0, 'created_time': '12:49:45', 'producer_id': 'producer3_hotspot_terra'}\n",
      "Message published successfully. Data: {'latitude': -37.8247, 'longitude': 143.6243, 'confidence': 95.0, 'surface_temperature_celcius': 77.0, 'created_time': '12:49:45', 'producer_id': 'producer3_hotspot_terra'}\n",
      "Message published successfully. Data: {'latitude': -36.2685, 'longitude': 141.0912, 'confidence': 60.0, 'surface_temperature_celcius': 40.0, 'created_time': '12:49:45', 'producer_id': 'producer3_hotspot_terra'}\n",
      "Message published successfully. Data: {'latitude': -37.8131, 'longitude': 143.1175, 'confidence': 69.0, 'surface_temperature_celcius': 45.0, 'created_time': '12:49:45', 'producer_id': 'producer3_hotspot_terra'}\n",
      "Message published successfully. Data: {'latitude': -36.4501, 'longitude': 141.2288, 'confidence': 72.0, 'surface_temperature_celcius': 56.0, 'created_time': '12:49:45', 'producer_id': 'producer3_hotspot_terra'}\n",
      "Message published successfully. Data: {'latitude': -37.7331, 'longitude': 142.923, 'confidence': 66.0, 'surface_temperature_celcius': 45.0, 'created_time': '12:49:45', 'producer_id': 'producer3_hotspot_terra'}\n",
      "Message published successfully. Data: {'latitude': -36.2761, 'longitude': 145.8256, 'confidence': 53.0, 'surface_temperature_celcius': 43.0, 'created_time': '12:49:45', 'producer_id': 'producer3_hotspot_terra'}\n",
      "Message published successfully. Data: {'latitude': -38.036, 'longitude': 143.9012, 'confidence': 67.0, 'surface_temperature_celcius': 45.0, 'created_time': '12:49:45', 'producer_id': 'producer3_hotspot_terra'}\n",
      "Message published successfully. Data: {'latitude': -36.4403, 'longitude': 145.826, 'confidence': 86.0, 'surface_temperature_celcius': 60.0, 'created_time': '12:49:45', 'producer_id': 'producer3_hotspot_terra'}\n",
      "Message published successfully. Data: {'latitude': -34.3526, 'longitude': 141.6458, 'confidence': 98.0, 'surface_temperature_celcius': 82.0, 'created_time': '12:49:45', 'producer_id': 'producer3_hotspot_terra'}\n",
      "Message published successfully. Data: {'latitude': -37.602, 'longitude': 149.295, 'confidence': 62.0, 'surface_temperature_celcius': 33.0, 'created_time': '12:49:45', 'producer_id': 'producer3_hotspot_terra'}\n",
      "Message published successfully. Data: {'latitude': -37.9078, 'longitude': 145.8655, 'confidence': 100.0, 'surface_temperature_celcius': 111.0, 'created_time': '12:49:45', 'producer_id': 'producer3_hotspot_terra'}\n",
      "Message published successfully. Data: {'latitude': -37.7416, 'longitude': 143.2885, 'confidence': 61.0, 'surface_temperature_celcius': 41.0, 'created_time': '12:49:45', 'producer_id': 'producer3_hotspot_terra'}\n"
     ]
    },
    {
     "ename": "KeyboardInterrupt",
     "evalue": "",
     "output_type": "error",
     "traceback": [
      "\u001b[0;31m---------------------------------------------------------------------------\u001b[0m",
      "\u001b[0;31mKeyboardInterrupt\u001b[0m                         Traceback (most recent call last)",
      "Cell \u001b[0;32mIn[4], line 89\u001b[0m\n\u001b[1;32m     85\u001b[0m selected_data_point[\u001b[38;5;124m\"\u001b[39m\u001b[38;5;124mproducer_id\u001b[39m\u001b[38;5;124m\"\u001b[39m] \u001b[38;5;241m=\u001b[39m \u001b[38;5;124m\"\u001b[39m\u001b[38;5;124mproducer3_hotspot_terra\u001b[39m\u001b[38;5;124m\"\u001b[39m\n\u001b[1;32m     87\u001b[0m publish_message(producer, topic_name, selected_data_point)\n\u001b[0;32m---> 89\u001b[0m \u001b[43msleep\u001b[49m\u001b[43m(\u001b[49m\u001b[43mrandom_integer\u001b[49m\u001b[43m)\u001b[49m\n",
      "\u001b[0;31mKeyboardInterrupt\u001b[0m: "
     ]
    }
   ],
   "source": [
    "# hostip obtained using `ipconfig` command in command prompt\n",
    "hostip = \"10.192.45.141\"\n",
    "\n",
    "# By opening the hotspot_TERRA_streaming.csv, the column names is already known so one by one copy paste method was used to get the data from the hotspot_TERRA_streaming.csv\n",
    "def readHotspotTerraCSV():\n",
    "    '''\n",
    "    readHotspotTerraCSV function:\n",
    "    - reads data from 'hotspot_TERRA_streaming.csv' using pandas\n",
    "    - return an array\n",
    "    '''\n",
    "    # Read the CSV file into a DataFrame\n",
    "    hotspot_TERRA_streaming_data = pd.read_csv(\"hotspot_TERRA_streaming.csv\")\n",
    "    hotspot_TERRA_streaming_data_array = []\n",
    "    \n",
    "    # Iterate through each row in the DataFrame\n",
    "    for index in range(len(hotspot_TERRA_streaming_data)):\n",
    "        # Access the row by its index\n",
    "        row = hotspot_TERRA_streaming_data.iloc[index]\n",
    "        \n",
    "        # Create a dictionary for each row's data\n",
    "        hotspot_TERRA_streaming_data_point = {\n",
    "            \"latitude\": float(row[\"latitude\"]),\n",
    "            \"longitude\": float(row[\"longitude\"]),\n",
    "            \"confidence\": float(row[\"confidence\"]),\n",
    "            \"surface_temperature_celcius\": float(row[\"surface_temperature_celcius\"])\n",
    "        }\n",
    "        \n",
    "        # Append the dictionary to the array\n",
    "        hotspot_TERRA_streaming_data_array.append(hotspot_TERRA_streaming_data_point)\n",
    "\n",
    "    return hotspot_TERRA_streaming_data_array\n",
    "\n",
    "def publish_message(producer_instance, topic_name, data):\n",
    "    '''\n",
    "    publish_message function: \n",
    "    - takes a Kafka producer instance, a topic name, and data\n",
    "    - then attempts to send the data to the specified Kafka topic. \n",
    "    - If successful, it prints a confirmation message; otherwise, it prints an error message.\n",
    "    '''\n",
    "    try:\n",
    "        producer_instance.send(topic_name, value=data)\n",
    "        producer_instance.flush()\n",
    "        print(\"Message published successfully. Data: \" + str(data))\n",
    "    except Exception as ex:\n",
    "        print(\"Exception in publishing message.\")\n",
    "        print(str(ex))\n",
    "\n",
    "\n",
    "def connect_kafka_producer():\n",
    "    '''\n",
    "    connect_kafka_producer function: \n",
    "    - attempts to connect to a Kafka producer using the host IP initialised beforehand and port 9092\n",
    "    - returning the producer instance or None if unsuccessful.\n",
    "    '''\n",
    "    _producer = None\n",
    "    try:\n",
    "        _producer = KafkaProducer(bootstrap_servers=[f'{hostip}:9092'],\n",
    "                                  value_serializer=lambda x: dumps(x).encode(\"ascii\"),\n",
    "                                  api_version=(0, 10))\n",
    "    except Exception as ex:\n",
    "        print(\"Exception while connecting Kafka.\")\n",
    "        print(str(ex))\n",
    "    finally:\n",
    "        return _producer\n",
    "    \n",
    "if __name__ == '__main__':\n",
    "    data = readHotspotTerraCSV() # Read all data from CSV at one time.\n",
    "    topic_name = \"Hotspot_TERRA\"\n",
    "    producer = connect_kafka_producer()\n",
    "    \n",
    "    random_integer = random.randint(1,10) # min is 1, max is 10\n",
    "    \n",
    "    random_date = str(dt.datetime.now()) # Random date (I choose tdy as the 'random date')\n",
    "    created_date = dt.datetime.strptime(random_date, \"%Y-%m-%d %H:%M:%S.%f\")\n",
    "    \n",
    "    data_length = len(data)\n",
    "    for alldata in range(data_length):\n",
    "        # Choose random terra data point\n",
    "        random_index_number = random.randrange(0, data_length)\n",
    "        selected_data_point = data[random_index_number]\n",
    "        # random_integer max is 10 cus since 10s = 24 so the hr would be 24/10*random_integer\n",
    "        the_hours = (24/10)*random_integer\n",
    "        new_date = created_date + dt.timedelta(hours = the_hours)\n",
    "        selected_data_point[\"created_time\"] = new_date.strftime(\"%H:%M:%S\") # Formating the time\n",
    "        selected_data_point[\"producer_id\"] = \"producer3_hotspot_terra\"\n",
    "\n",
    "        publish_message(producer, topic_name, selected_data_point)\n",
    "\n",
    "        sleep(random_integer)"
   ]
  },
  {
   "cell_type": "markdown",
   "id": "bee0d9d7",
   "metadata": {},
   "source": [
    "The code above read climate data from 'hotspot_TERRA_streaming.csv' and publish it to a Kafka topic. \n",
    "- The function `readHotspotTerraCSV` reads data from 'hotspot_TERRA_streaming.csv' using pandas.\n",
    "- Each row is processed to extract hotspot TERRA attributes, and stores them in a list of dictionaries. \n",
    "- `publish_message` function takes a Kafka producer instance, a topic name, and data, then attempts to send the data to the specified Kafka topic. If successful, it prints a confirmation message; otherwise, it prints an error message. \n",
    "- `connect_kafka_producer` function attempts to connect to a Kafka producer using the host IP initialised beforehand and port 9092, returning the producer instance or `None` if unsuccessful.\n",
    "\n",
    "In the main execution block, \n",
    "```\n",
    "if __name__ == '__main__':\n",
    "```\n",
    "- Hotspot streaming data is read with `readHotspotTerraCSV`\n",
    "- Kafka producer is connected with `connect_kafka_producer`\n",
    "- `random_integer = random.randint(1,10)` generates a random integer between 1 and 10\n",
    "- `random_date = str(dt.datetime.now())` gets the current date and time as a string which will be converted back into a datetime object in `created_date`\n",
    "- An for loop is entered where it selects a random data point from the Hotspot data, formats the date for JSON storage, adds a `producer_id`, and publishes the message to the Kafka topic `Hotspot_TERRA`. \n",
    "    - `the_hours = (24/10)*random_integer` calculates a new time offset based on the random integer\n",
    "    - `new_date = created_date + dt.timedelta(hours = the_hours)` adds the time offset to the created_date\n",
    "    - The loop pauses for n seconds before repeating the process where n is random_integer between 1 and 10"
   ]
  }
 ],
 "metadata": {
  "kernelspec": {
   "display_name": "Python 3 (ipykernel)",
   "language": "python",
   "name": "python3"
  },
  "language_info": {
   "codemirror_mode": {
    "name": "ipython",
    "version": 3
   },
   "file_extension": ".py",
   "mimetype": "text/x-python",
   "name": "python",
   "nbconvert_exporter": "python",
   "pygments_lexer": "ipython3",
   "version": "3.8.16"
  }
 },
 "nbformat": 4,
 "nbformat_minor": 5
}
