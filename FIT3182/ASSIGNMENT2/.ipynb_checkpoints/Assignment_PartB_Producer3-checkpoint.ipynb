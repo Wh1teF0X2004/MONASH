{
 "cells": [
  {
   "cell_type": "markdown",
   "id": "0e0422f6",
   "metadata": {},
   "source": [
    "<div style= \"text-align: right\">\n",
    "    <p style= \"text-align: right; font-weight: bold; font-size: x-large;\">FIT3182 Big Data Management and Processing</p>\n",
    "    <p style= \"text-align: right; font-weight: bold; font-size: large;\">Assignment 2</p>\n",
    "    <p style= \"text-align: right\">Foo Kai Yan</p>\n",
    "    <p style= \"text-align: right\">kfoo0012@student.monash.edu<br><br><i>33085625<br><br><i>18<sup>th</sup> May 2024</i></p>\n",
    "<div>\n",
    "<hr style=\"border-color: black;\">"
   ]
  },
  {
   "cell_type": "markdown",
   "id": "11a88376",
   "metadata": {},
   "source": [
    "## Student Statement\n",
    "The assignment was completed with the assistance of some code obtained from seminar/tutorial/lab/applied class."
   ]
  },
  {
   "cell_type": "markdown",
   "id": "3ce768c0",
   "metadata": {},
   "source": [
    "### Installing PyMongo"
   ]
  },
  {
   "cell_type": "code",
   "execution_count": 1,
   "id": "2d5bc036",
   "metadata": {},
   "outputs": [
    {
     "name": "stdout",
     "output_type": "stream",
     "text": [
      "Requirement already satisfied: pymongo in /opt/conda/lib/python3.8/site-packages (4.3.3)\n",
      "Requirement already satisfied: dnspython<3.0.0,>=1.16.0 in /opt/conda/lib/python3.8/site-packages (from pymongo) (2.3.0)\n"
     ]
    }
   ],
   "source": [
    "!pip install pymongo"
   ]
  },
  {
   "cell_type": "markdown",
   "id": "3d2e5e37",
   "metadata": {},
   "source": [
    "### Import required Libraries"
   ]
  },
  {
   "cell_type": "code",
   "execution_count": 2,
   "id": "5f964e0f",
   "metadata": {},
   "outputs": [],
   "source": [
    "import os\n",
    "import csv\n",
    "import random\n",
    "import pandas as pd\n",
    "import datetime as dt\n",
    "from time import sleep\n",
    "from json import dumps\n",
    "from pprint import pprint\n",
    "from pymongo import MongoClient\n",
    "from kafka3 import KafkaProducer"
   ]
  },
  {
   "cell_type": "markdown",
   "id": "65a05cc2",
   "metadata": {},
   "source": [
    "### Check working directory"
   ]
  },
  {
   "cell_type": "code",
   "execution_count": 3,
   "id": "53acd3cd",
   "metadata": {},
   "outputs": [
    {
     "data": {
      "text/plain": [
       "'/home/student/ASSIGNMENT2'"
      ]
     },
     "execution_count": 3,
     "metadata": {},
     "output_type": "execute_result"
    }
   ],
   "source": [
    "os.getcwd()"
   ]
  },
  {
   "cell_type": "markdown",
   "id": "ac80082e",
   "metadata": {},
   "source": [
    "## Producer 3"
   ]
  },
  {
   "cell_type": "code",
   "execution_count": 4,
   "id": "27d39e87",
   "metadata": {
    "scrolled": false
   },
   "outputs": [
    {
     "name": "stdout",
     "output_type": "stream",
     "text": [
      "Message published successfully. Data: {'latitude': -37.3942, 'longitude': 147.0455, 'confidence': 60.0, 'surface_temperature_celcius': 44.0, 'created_time': '15:12:20', 'producer_id': 'producer3_hotspot_terra'}\n",
      "Message published successfully. Data: {'latitude': -36.5956, 'longitude': 145.206, 'confidence': 78.0, 'surface_temperature_celcius': 51.0, 'created_time': '15:12:20', 'producer_id': 'producer3_hotspot_terra'}\n",
      "Message published successfully. Data: {'latitude': -36.995, 'longitude': 148.268, 'confidence': 56.0, 'surface_temperature_celcius': 37.0, 'created_time': '15:12:20', 'producer_id': 'producer3_hotspot_terra'}\n",
      "Message published successfully. Data: {'latitude': -34.7979, 'longitude': 141.5966, 'confidence': 77.0, 'surface_temperature_celcius': 50.0, 'created_time': '15:12:20', 'producer_id': 'producer3_hotspot_terra'}\n",
      "Message published successfully. Data: {'latitude': -36.0063, 'longitude': 142.4512, 'confidence': 62.0, 'surface_temperature_celcius': 41.0, 'created_time': '15:12:20', 'producer_id': 'producer3_hotspot_terra'}\n",
      "Message published successfully. Data: {'latitude': -36.6217, 'longitude': 142.0944, 'confidence': 55.0, 'surface_temperature_celcius': 39.0, 'created_time': '15:12:20', 'producer_id': 'producer3_hotspot_terra'}\n",
      "Message published successfully. Data: {'latitude': -36.8359, 'longitude': 146.6448, 'confidence': 96.0, 'surface_temperature_celcius': 78.0, 'created_time': '15:12:20', 'producer_id': 'producer3_hotspot_terra'}\n",
      "Message published successfully. Data: {'latitude': -36.939, 'longitude': 143.28, 'confidence': 100.0, 'surface_temperature_celcius': 59.0, 'created_time': '15:12:20', 'producer_id': 'producer3_hotspot_terra'}\n",
      "Message published successfully. Data: {'latitude': -36.9817, 'longitude': 143.5051, 'confidence': 100.0, 'surface_temperature_celcius': 113.0, 'created_time': '15:12:20', 'producer_id': 'producer3_hotspot_terra'}\n",
      "Message published successfully. Data: {'latitude': -37.3632, 'longitude': 145.8356, 'confidence': 75.0, 'surface_temperature_celcius': 53.0, 'created_time': '15:12:20', 'producer_id': 'producer3_hotspot_terra'}\n",
      "Message published successfully. Data: {'latitude': -36.4125, 'longitude': 143.1189, 'confidence': 100.0, 'surface_temperature_celcius': 92.0, 'created_time': '15:12:20', 'producer_id': 'producer3_hotspot_terra'}\n",
      "Message published successfully. Data: {'latitude': -36.995, 'longitude': 148.268, 'confidence': 56.0, 'surface_temperature_celcius': 37.0, 'created_time': '15:12:20', 'producer_id': 'producer3_hotspot_terra'}\n",
      "Message published successfully. Data: {'latitude': -37.8375, 'longitude': 143.4153, 'confidence': 52.0, 'surface_temperature_celcius': 39.0, 'created_time': '15:12:20', 'producer_id': 'producer3_hotspot_terra'}\n",
      "Message published successfully. Data: {'latitude': -37.608, 'longitude': 149.292, 'confidence': 100.0, 'surface_temperature_celcius': 55.0, 'created_time': '15:12:20', 'producer_id': 'producer3_hotspot_terra'}\n"
     ]
    },
    {
     "ename": "KeyboardInterrupt",
     "evalue": "",
     "output_type": "error",
     "traceback": [
      "\u001b[0;31m---------------------------------------------------------------------------\u001b[0m",
      "\u001b[0;31mKeyboardInterrupt\u001b[0m                         Traceback (most recent call last)",
      "Cell \u001b[0;32mIn[4], line 89\u001b[0m\n\u001b[1;32m     85\u001b[0m selected_data_point[\u001b[38;5;124m\"\u001b[39m\u001b[38;5;124mproducer_id\u001b[39m\u001b[38;5;124m\"\u001b[39m] \u001b[38;5;241m=\u001b[39m \u001b[38;5;124m\"\u001b[39m\u001b[38;5;124mproducer3_hotspot_terra\u001b[39m\u001b[38;5;124m\"\u001b[39m\n\u001b[1;32m     87\u001b[0m publish_message(producer, topic_name, selected_data_point)\n\u001b[0;32m---> 89\u001b[0m \u001b[43msleep\u001b[49m\u001b[43m(\u001b[49m\u001b[43mrandom_integer\u001b[49m\u001b[43m)\u001b[49m\n",
      "\u001b[0;31mKeyboardInterrupt\u001b[0m: "
     ]
    }
   ],
   "source": [
    "# hostip obtained using `ipconfig` command in command prompt\n",
    "hostip = \"192.168.68.58\"\n",
    "\n",
    "# By opening the hotspot_TERRA_streaming.csv, the column names is already known so one by one copy paste method was used to get the data from the hotspot_TERRA_streaming.csv\n",
    "def readHotspotTerraCSV():\n",
    "    '''\n",
    "    readHotspotTerraCSV function:\n",
    "    - reads data from 'hotspot_TERRA_streaming.csv' using pandas\n",
    "    - return an array\n",
    "    '''\n",
    "    # Read the CSV file into a DataFrame\n",
    "    hotspot_TERRA_streaming_data = pd.read_csv(\"hotspot_TERRA_streaming.csv\")\n",
    "    hotspot_TERRA_streaming_data_array = []\n",
    "    \n",
    "    # Iterate through each row in the DataFrame\n",
    "    for index in range(len(hotspot_TERRA_streaming_data)):\n",
    "        # Access the row by its index\n",
    "        row = hotspot_TERRA_streaming_data.iloc[index]\n",
    "        \n",
    "        # Create a dictionary for each row's data\n",
    "        hotspot_TERRA_streaming_data_point = {\n",
    "            \"latitude\": float(row[\"latitude\"]),\n",
    "            \"longitude\": float(row[\"longitude\"]),\n",
    "            \"confidence\": float(row[\"confidence\"]),\n",
    "            \"surface_temperature_celcius\": float(row[\"surface_temperature_celcius\"])\n",
    "        }\n",
    "        \n",
    "        # Append the dictionary to the array\n",
    "        hotspot_TERRA_streaming_data_array.append(hotspot_TERRA_streaming_data_point)\n",
    "\n",
    "    return hotspot_TERRA_streaming_data_array\n",
    "\n",
    "def publish_message(producer_instance, topic_name, data):\n",
    "    '''\n",
    "    publish_message function: \n",
    "    - takes a Kafka producer instance, a topic name, and data\n",
    "    - then attempts to send the data to the specified Kafka topic. \n",
    "    - If successful, it prints a confirmation message; otherwise, it prints an error message.\n",
    "    '''\n",
    "    try:\n",
    "        producer_instance.send(topic_name, value=data)\n",
    "        producer_instance.flush()\n",
    "        print(\"Message published successfully. Data: \" + str(data))\n",
    "    except Exception as ex:\n",
    "        print(\"Exception in publishing message.\")\n",
    "        print(str(ex))\n",
    "\n",
    "\n",
    "def connect_kafka_producer():\n",
    "    '''\n",
    "    connect_kafka_producer function: \n",
    "    - attempts to connect to a Kafka producer using the host IP initialised beforehand and port 9092\n",
    "    - returning the producer instance or None if unsuccessful.\n",
    "    '''\n",
    "    _producer = None\n",
    "    try:\n",
    "        _producer = KafkaProducer(bootstrap_servers=[f'{hostip}:9092'],\n",
    "                                  value_serializer=lambda x: dumps(x).encode(\"ascii\"),\n",
    "                                  api_version=(0, 10))\n",
    "    except Exception as ex:\n",
    "        print(\"Exception while connecting Kafka.\")\n",
    "        print(str(ex))\n",
    "    finally:\n",
    "        return _producer\n",
    "    \n",
    "if __name__ == '__main__':\n",
    "    data = readHotspotTerraCSV() # Read all data from CSV at one time.\n",
    "    topic_name = \"Hotspot_TERRA\"\n",
    "    producer = connect_kafka_producer()\n",
    "    \n",
    "    random_integer = random.randint(1,10) # min is 1, max is 10\n",
    "    \n",
    "    random_date = str(dt.datetime.now()) # Random date (I choose tdy as the 'random date')\n",
    "    created_date = dt.datetime.strptime(random_date, \"%Y-%m-%d %H:%M:%S.%f\")\n",
    "    \n",
    "    data_length = len(data)\n",
    "    for alldata in range(data_length):\n",
    "        # Choose random terra data point\n",
    "        random_index_number = random.randrange(0, data_length)\n",
    "        selected_data_point = data[random_index_number]\n",
    "        # random_integer max is 10 cus since 10s = 24 so the hr would be 24/10*random_integer\n",
    "        the_hours = (24/10)*random_integer\n",
    "        new_date = created_date + dt.timedelta(hours = the_hours)\n",
    "        selected_data_point[\"created_time\"] = new_date.strftime(\"%H:%M:%S\") # Formating the time\n",
    "        selected_data_point[\"producer_id\"] = \"producer3_hotspot_terra\"\n",
    "\n",
    "        publish_message(producer, topic_name, selected_data_point)\n",
    "\n",
    "        sleep(random_integer)"
   ]
  },
  {
   "cell_type": "markdown",
   "id": "bee0d9d7",
   "metadata": {},
   "source": [
    "The code above read climate data from 'hotspot_TERRA_streaming.csv' and publish it to a Kafka topic. \n",
    "- The function `readHotspotTerraCSV` reads data from 'hotspot_TERRA_streaming.csv' using pandas.\n",
    "- Each row is processed to extract hotspot TERRA attributes, and stores them in a list of dictionaries. \n",
    "- `publish_message` function takes a Kafka producer instance, a topic name, and data, then attempts to send the data to the specified Kafka topic. If successful, it prints a confirmation message; otherwise, it prints an error message. \n",
    "- `connect_kafka_producer` function attempts to connect to a Kafka producer using the host IP initialised beforehand and port 9092, returning the producer instance or `None` if unsuccessful.\n",
    "\n",
    "In the main execution block, \n",
    "```\n",
    "if __name__ == '__main__':\n",
    "```\n",
    "- Hotspot streaming data is read with `readHotspotTerraCSV`\n",
    "- Kafka producer is connected with `connect_kafka_producer`\n",
    "- `random_integer = random.randint(1,10)` generates a random integer between 1 and 10\n",
    "- `random_date = str(dt.datetime.now())` gets the current date and time as a string which will be converted back into a datetime object in `created_date`\n",
    "- An for loop is entered where it selects a random data point from the Hotspot data, formats the date for JSON storage, adds a `producer_id`, and publishes the message to the Kafka topic `Hotspot_TERRA`. \n",
    "    - `the_hours = (24/10)*random_integer` calculates a new time offset based on the random integer\n",
    "    - `new_date = created_date + dt.timedelta(hours = the_hours)` adds the time offset to the created_date\n",
    "    - The loop pauses for n seconds before repeating the process where n is random_integer between 1 and 10"
   ]
  }
 ],
 "metadata": {
  "kernelspec": {
   "display_name": "Python 3 (ipykernel)",
   "language": "python",
   "name": "python3"
  },
  "language_info": {
   "codemirror_mode": {
    "name": "ipython",
    "version": 3
   },
   "file_extension": ".py",
   "mimetype": "text/x-python",
   "name": "python",
   "nbconvert_exporter": "python",
   "pygments_lexer": "ipython3",
   "version": "3.8.16"
  }
 },
 "nbformat": 4,
 "nbformat_minor": 5
}
