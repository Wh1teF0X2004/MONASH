{
 "cells": [
  {
   "cell_type": "markdown",
   "id": "ef98b91d",
   "metadata": {},
   "source": [
    "# Simple Linear Regression With scikit-learn"
   ]
  },
  {
   "cell_type": "markdown",
   "id": "20b07275",
   "metadata": {},
   "source": [
    "These steps are more or less general for most of the regression approaches and implementations. Throughout the rest of the tutorial, you’ll learn how to do these steps for several different scenarios."
   ]
  },
  {
   "cell_type": "markdown",
   "id": "c2518008",
   "metadata": {},
   "source": [
    "## Step 1: Import packages and classes\n"
   ]
  },
  {
   "cell_type": "markdown",
   "id": "25a415aa",
   "metadata": {},
   "source": [
    "The first step is to import the package ```numpy``` and the class ```LinearRegression``` from ```sklearn.linear_model```:"
   ]
  },
  {
   "cell_type": "code",
   "execution_count": 13,
   "id": "7e176b4d",
   "metadata": {},
   "outputs": [],
   "source": [
    "import numpy as np\n",
    "from sklearn.linear_model import LinearRegression"
   ]
  },
  {
   "cell_type": "markdown",
   "id": "be48d56b",
   "metadata": {},
   "source": [
    "The fundamental data type of NumPy is the array type called numpy.ndarray. The rest of this tutorial uses the term **array** to refer to instances of the type numpy.ndarray."
   ]
  },
  {
   "cell_type": "markdown",
   "id": "35a70d8b",
   "metadata": {},
   "source": [
    "If you dont know much about Numpy, it is strongly encourage to look it up : https://docs.scipy.org/doc/numpy/user You may google other resources as well."
   ]
  },
  {
   "cell_type": "markdown",
   "id": "d73daa58",
   "metadata": {},
   "source": [
    "## Step 2: Provide data"
   ]
  },
  {
   "cell_type": "markdown",
   "id": "08624a07",
   "metadata": {},
   "source": [
    "The second step is defining data to work with. The inputs (regressors, 𝑥) and output (response, 𝑦) should be arrays or similar objects. This is the simplest way of providing data for regression:"
   ]
  },
  {
   "cell_type": "code",
   "execution_count": 14,
   "id": "9c1ede08",
   "metadata": {},
   "outputs": [],
   "source": [
    "x = np.array([5, 15, 25, 35, 45, 55]).reshape((-1, 1))\n",
    "y = np.array([5, 20, 14, 32, 22, 38])"
   ]
  },
  {
   "cell_type": "markdown",
   "id": "6f35885a",
   "metadata": {},
   "source": [
    "you have two arrays: the input, x, and the output, y. You should call ```.reshape()``` on x because this array must be **two-dimensional**, or more precisely, it must have **one column** and **as many rows as necessary**. That’s exactly what the argument (-1, 1) of .reshape() specifies.\n"
   ]
  },
  {
   "cell_type": "code",
   "execution_count": 15,
   "id": "91766057",
   "metadata": {},
   "outputs": [
    {
     "data": {
      "text/plain": [
       "array([[ 5],\n",
       "       [15],\n",
       "       [25],\n",
       "       [35],\n",
       "       [45],\n",
       "       [55]])"
      ]
     },
     "execution_count": 15,
     "metadata": {},
     "output_type": "execute_result"
    }
   ],
   "source": [
    "x"
   ]
  },
  {
   "cell_type": "code",
   "execution_count": 16,
   "id": "fc7c4a62",
   "metadata": {},
   "outputs": [
    {
     "data": {
      "text/plain": [
       "array([ 5, 20, 14, 32, 22, 38])"
      ]
     },
     "execution_count": 16,
     "metadata": {},
     "output_type": "execute_result"
    }
   ],
   "source": [
    "y"
   ]
  },
  {
   "cell_type": "markdown",
   "id": "43736565",
   "metadata": {},
   "source": [
    "Your array should have the following shape:\n",
    "\n",
    "\n",
    "x has two dimensions, and x.shape is (6, 1), while y has a single dimension, and y.shape is (6,)"
   ]
  },
  {
   "cell_type": "markdown",
   "id": "de5cc4aa",
   "metadata": {},
   "source": [
    "## Step 3: Create a model and fit it"
   ]
  },
  {
   "cell_type": "markdown",
   "id": "aee3b9c9",
   "metadata": {},
   "source": [
    "Create a linear regression model and fit it using the existing data. Create an instance of the class LinearRegression, which will represent the regression model:\n",
    "\n"
   ]
  },
  {
   "cell_type": "markdown",
   "id": "a2b9b870",
   "metadata": {},
   "source": [
    "It's ok if you do not understand the concept of class, can just see it as creating a new object of similar behaviour. In our case, we are looking at Linear Regression behavior."
   ]
  },
  {
   "cell_type": "code",
   "execution_count": 17,
   "id": "2d2998a6",
   "metadata": {},
   "outputs": [],
   "source": [
    "model = LinearRegression()"
   ]
  },
  {
   "cell_type": "markdown",
   "id": "d1e7e1a9",
   "metadata": {},
   "source": [
    "I will explain some default values of this class."
   ]
  },
  {
   "cell_type": "markdown",
   "id": "afbf0fbb",
   "metadata": {},
   "source": [
    "It’s time to start using the model. First, you need to call .fit() on model:"
   ]
  },
  {
   "cell_type": "code",
   "execution_count": 18,
   "id": "38ffed10",
   "metadata": {},
   "outputs": [
    {
     "data": {
      "text/plain": [
       "LinearRegression()"
      ]
     },
     "execution_count": 18,
     "metadata": {},
     "output_type": "execute_result"
    }
   ],
   "source": [
    "model.fit(x, y)"
   ]
  },
  {
   "cell_type": "markdown",
   "id": "10d0cda0",
   "metadata": {},
   "source": [
    "With .fit(), you calculate the optimal values of the weights 𝑏₀ and 𝑏₁, using the existing input and output, x and y, as the arguments. In other words, .fit() fits the model. It returns self, which is the variable model itself. That’s why you can replace the last two statements with this one:"
   ]
  },
  {
   "cell_type": "code",
   "execution_count": 19,
   "id": "389f811a",
   "metadata": {},
   "outputs": [],
   "source": [
    "model = LinearRegression().fit(x, y)"
   ]
  },
  {
   "cell_type": "markdown",
   "id": "ce878e7e",
   "metadata": {},
   "source": [
    "This statement does the same thing as the previous two. It’s just shorter."
   ]
  },
  {
   "cell_type": "markdown",
   "id": "18602d78",
   "metadata": {},
   "source": [
    "## Step 4: Get results"
   ]
  },
  {
   "cell_type": "markdown",
   "id": "13071704",
   "metadata": {},
   "source": [
    "Get the results to check whether the model works satisfactorily and to interpret it."
   ]
  },
  {
   "cell_type": "markdown",
   "id": "cf24ad15",
   "metadata": {},
   "source": [
    "You can obtain the coefficient of determination, 𝑅², with .score() called on model:"
   ]
  },
  {
   "cell_type": "code",
   "execution_count": 20,
   "id": "95f83707",
   "metadata": {},
   "outputs": [
    {
     "name": "stdout",
     "output_type": "stream",
     "text": [
      "coefficient of determination: 0.715875613747954\n"
     ]
    }
   ],
   "source": [
    "r_sq = model.score(x, y)\n",
    "print(f\"coefficient of determination: {r_sq}\")"
   ]
  },
  {
   "cell_type": "markdown",
   "id": "ba953d19",
   "metadata": {},
   "source": [
    "When you’re applying .score(), the arguments are also the predictor x and response y, and the return value is 𝑅².\n",
    "\n",
    "The attributes of model are .intercept_, which represents the coefficient 𝑏₀, and .coef_, which represents 𝑏₁:"
   ]
  },
  {
   "cell_type": "code",
   "execution_count": 21,
   "id": "f4fd3069",
   "metadata": {},
   "outputs": [
    {
     "name": "stdout",
     "output_type": "stream",
     "text": [
      "intercept: 5.633333333333329\n"
     ]
    }
   ],
   "source": [
    "print(f\"intercept: {model.intercept_}\")"
   ]
  },
  {
   "cell_type": "code",
   "execution_count": 22,
   "id": "5153eacb",
   "metadata": {},
   "outputs": [
    {
     "name": "stdout",
     "output_type": "stream",
     "text": [
      "slope: [0.54]\n"
     ]
    }
   ],
   "source": [
    "print(f\"slope: {model.coef_}\")"
   ]
  },
  {
   "cell_type": "markdown",
   "id": "ff1fe048",
   "metadata": {},
   "source": [
    "The code above illustrates how to get 𝑏₀ and 𝑏₁. You can notice that .intercept_ is a scalar, while .coef_ is an array."
   ]
  },
  {
   "cell_type": "markdown",
   "id": "28c61b3c",
   "metadata": {},
   "source": [
    "Note:  In scikit-learn, by convention (https://scikit-learn.org/stable/developers/develop.html#estimated-attributes), a trailing underscore indicates that an attribute is estimated. In this example, .intercept_ and .coef_ are estimated values."
   ]
  },
  {
   "cell_type": "markdown",
   "id": "a8449012",
   "metadata": {},
   "source": [
    "The value of 𝑏₀ is approximately 5.63. This illustrates that your model predicts the response 5.63 when 𝑥 is zero. The value 𝑏₁ = 0.54 means that the predicted response rises by 0.54 when 𝑥 is increased by one.\n",
    "\n",
    "You’ll notice that you can provide y as a two-dimensional array as well. In this case, you’ll get a similar result. This is how it might look:"
   ]
  },
  {
   "cell_type": "code",
   "execution_count": 23,
   "id": "073d26de",
   "metadata": {},
   "outputs": [],
   "source": [
    "new_model = LinearRegression().fit(x, y.reshape((-1, 1)))"
   ]
  },
  {
   "cell_type": "code",
   "execution_count": 24,
   "id": "bd017e4a",
   "metadata": {},
   "outputs": [
    {
     "name": "stdout",
     "output_type": "stream",
     "text": [
      "intercept: [5.63333333]\n"
     ]
    }
   ],
   "source": [
    "print(f\"intercept: {new_model.intercept_}\")"
   ]
  },
  {
   "cell_type": "code",
   "execution_count": 25,
   "id": "0159cf51",
   "metadata": {},
   "outputs": [
    {
     "name": "stdout",
     "output_type": "stream",
     "text": [
      "slope: [[0.54]]\n"
     ]
    }
   ],
   "source": [
    "print(f\"slope: {new_model.coef_}\")"
   ]
  },
  {
   "cell_type": "markdown",
   "id": "b261e2d8",
   "metadata": {},
   "source": [
    "## Predict response"
   ]
  },
  {
   "cell_type": "markdown",
   "id": "6a93ac63",
   "metadata": {},
   "source": [
    "Once you have a satisfactory model, then you can use it for predictions with either existing or new data. To obtain the predicted response, use .predict():"
   ]
  },
  {
   "cell_type": "code",
   "execution_count": 26,
   "id": "a04d737e",
   "metadata": {},
   "outputs": [],
   "source": [
    "y_pred = model.predict(x)"
   ]
  },
  {
   "cell_type": "code",
   "execution_count": 27,
   "id": "5d198f58",
   "metadata": {},
   "outputs": [
    {
     "name": "stdout",
     "output_type": "stream",
     "text": [
      "predicted response:\n",
      "[ 8.33333333 13.73333333 19.13333333 24.53333333 29.93333333 35.33333333]\n"
     ]
    }
   ],
   "source": [
    "print(f\"predicted response:\\n{y_pred}\")"
   ]
  },
  {
   "cell_type": "markdown",
   "id": "2a495407",
   "metadata": {},
   "source": [
    "When applying .predict(), you pass the regressor as the argument and get the corresponding predicted response. This is a nearly identical way to predict the response:"
   ]
  },
  {
   "cell_type": "code",
   "execution_count": 28,
   "id": "b03fd331",
   "metadata": {},
   "outputs": [],
   "source": [
    "y_pred = model.intercept_ + model.coef_ * x"
   ]
  },
  {
   "cell_type": "code",
   "execution_count": 29,
   "id": "047249a5",
   "metadata": {},
   "outputs": [
    {
     "name": "stdout",
     "output_type": "stream",
     "text": [
      "predicted response:\n",
      "[[ 8.33333333]\n",
      " [13.73333333]\n",
      " [19.13333333]\n",
      " [24.53333333]\n",
      " [29.93333333]\n",
      " [35.33333333]]\n"
     ]
    }
   ],
   "source": [
    "print(f\"predicted response:\\n{y_pred}\")"
   ]
  },
  {
   "cell_type": "markdown",
   "id": "b37a96fb",
   "metadata": {},
   "source": [
    "In this case, you multiply each element of x with model.coef_ and add model.intercept_ to the product.\n",
    "\n",
    "The output here differs from the previous example only in dimensions. The predicted response is now a two-dimensional array, while in the previous case, it had one dimension.\n",
    "\n",
    "If you reduce the number of dimensions of x to one, then these two approaches will yield the same result. You can do this by replacing x with x.reshape(-1), x.flatten(), or x.ravel() when multiplying it with model.coef_.\n",
    "\n",
    "In practice, regression models are often applied for forecasts. This means that you can use fitted models to calculate the outputs based on new inputs:"
   ]
  },
  {
   "cell_type": "code",
   "execution_count": 30,
   "id": "877be436",
   "metadata": {},
   "outputs": [],
   "source": [
    "x_new = np.arange(5).reshape((-1, 1))"
   ]
  },
  {
   "cell_type": "code",
   "execution_count": 31,
   "id": "3eb64a85",
   "metadata": {},
   "outputs": [
    {
     "data": {
      "text/plain": [
       "array([[0],\n",
       "       [1],\n",
       "       [2],\n",
       "       [3],\n",
       "       [4]])"
      ]
     },
     "execution_count": 31,
     "metadata": {},
     "output_type": "execute_result"
    }
   ],
   "source": [
    "x_new"
   ]
  },
  {
   "cell_type": "code",
   "execution_count": 32,
   "id": "d833600e",
   "metadata": {},
   "outputs": [],
   "source": [
    "y_new = model.predict(x_new)"
   ]
  },
  {
   "cell_type": "code",
   "execution_count": 33,
   "id": "0bd35961",
   "metadata": {},
   "outputs": [
    {
     "data": {
      "text/plain": [
       "array([5.63333333, 6.17333333, 6.71333333, 7.25333333, 7.79333333])"
      ]
     },
     "execution_count": 33,
     "metadata": {},
     "output_type": "execute_result"
    }
   ],
   "source": [
    "y_new"
   ]
  },
  {
   "cell_type": "markdown",
   "id": "fe14f480",
   "metadata": {},
   "source": [
    "Here .predict() is applied to the new regressor x_new and yields the response y_new. This example conveniently uses arange() from numpy to generate an array with the elements from 0, inclusive, up to but excluding 5—that is, 0, 1, 2, 3, and 4."
   ]
  },
  {
   "cell_type": "markdown",
   "id": "0b7fc81a",
   "metadata": {},
   "source": [
    "For more information on LinearRegression with scikit-learn. Head to https://scikit-learn.org/stable/modules/generated/sklearn.linear_model.LinearRegression.html\n",
    "    "
   ]
  },
  {
   "cell_type": "markdown",
   "id": "f601b652",
   "metadata": {},
   "source": [
    "## Multiple Linear Regression With scikit-learn"
   ]
  },
  {
   "cell_type": "markdown",
   "id": "589cdf15",
   "metadata": {},
   "source": [
    "You can implement multiple linear regression following the same steps as you would for simple regression. The main difference is that your x array will now have two or more columns."
   ]
  },
  {
   "cell_type": "markdown",
   "id": "dca60f5a",
   "metadata": {},
   "source": [
    "## Steps 1 and 2: Import packages and classes, and provide data"
   ]
  },
  {
   "cell_type": "markdown",
   "id": "9f8fd20f",
   "metadata": {},
   "source": [
    "First, you import numpy and sklearn.linear_model.LinearRegression and provide known inputs and output:"
   ]
  },
  {
   "cell_type": "code",
   "execution_count": 34,
   "id": "9ad05e0b",
   "metadata": {},
   "outputs": [],
   "source": [
    "import numpy as np\n",
    "from sklearn.linear_model import LinearRegression\n",
    "\n",
    "x = [[0, 1], [5, 1], [15, 2], [25, 5], [35, 11], [45, 15], [55, 34], [60, 35]]\n",
    "y = [4, 5, 20, 14, 32, 22, 38, 43]\n",
    "\n",
    "x, y = np.array(x), np.array(y)"
   ]
  },
  {
   "cell_type": "markdown",
   "id": "28861d68",
   "metadata": {},
   "source": [
    "That’s a simple way to define the input x and output y. You can print x and y to see how they look now:"
   ]
  },
  {
   "cell_type": "code",
   "execution_count": 35,
   "id": "14a6cdc3",
   "metadata": {},
   "outputs": [
    {
     "data": {
      "text/plain": [
       "array([[ 0,  1],\n",
       "       [ 5,  1],\n",
       "       [15,  2],\n",
       "       [25,  5],\n",
       "       [35, 11],\n",
       "       [45, 15],\n",
       "       [55, 34],\n",
       "       [60, 35]])"
      ]
     },
     "execution_count": 35,
     "metadata": {},
     "output_type": "execute_result"
    }
   ],
   "source": [
    "x"
   ]
  },
  {
   "cell_type": "code",
   "execution_count": 36,
   "id": "1fc616ed",
   "metadata": {},
   "outputs": [
    {
     "data": {
      "text/plain": [
       "array([ 4,  5, 20, 14, 32, 22, 38, 43])"
      ]
     },
     "execution_count": 36,
     "metadata": {},
     "output_type": "execute_result"
    }
   ],
   "source": [
    "y"
   ]
  },
  {
   "cell_type": "markdown",
   "id": "155a362a",
   "metadata": {},
   "source": [
    "In multiple linear regression, x is a two-dimensional array with at least two columns, while y is usually a one-dimensional array. This is a simple example of multiple linear regression, and x has exactly two columns."
   ]
  },
  {
   "cell_type": "markdown",
   "id": "72495846",
   "metadata": {},
   "source": [
    "## Step 3: Create a model and fit it"
   ]
  },
  {
   "cell_type": "markdown",
   "id": "7fae7255",
   "metadata": {},
   "source": [
    "The next step is to create the regression model as an instance of LinearRegression and fit it with .fit():"
   ]
  },
  {
   "cell_type": "code",
   "execution_count": 37,
   "id": "f5e47f43",
   "metadata": {},
   "outputs": [],
   "source": [
    "model = LinearRegression().fit(x, y)"
   ]
  },
  {
   "cell_type": "markdown",
   "id": "9e1d286a",
   "metadata": {},
   "source": [
    "## Step 4: Get results"
   ]
  },
  {
   "cell_type": "code",
   "execution_count": 38,
   "id": "82cabf0e",
   "metadata": {},
   "outputs": [
    {
     "name": "stdout",
     "output_type": "stream",
     "text": [
      "coefficient of determination: 0.8615939258756775\n",
      "intercept: 5.52257927519819\n",
      "coefficients: [0.44706965 0.25502548]\n"
     ]
    }
   ],
   "source": [
    "r_sq = model.score(x, y)\n",
    "print(f\"coefficient of determination: {r_sq}\")\n",
    "print(f\"intercept: {model.intercept_}\")\n",
    "print(f\"coefficients: {model.coef_}\")\n"
   ]
  },
  {
   "cell_type": "markdown",
   "id": "a6c1813a",
   "metadata": {},
   "source": [
    "You obtain the value of 𝑅² using .score() and the values of the estimators of regression coefficients with .intercept_ and .coef_. Again, .intercept_ holds the bias 𝑏₀, while now .coef_ is an array containing 𝑏₁ and 𝑏₂.\n",
    "\n",
    "In this example, the intercept is approximately 5.52, and this is the value of the predicted response when 𝑥₁ = 𝑥₂ = 0. An increase of 𝑥₁ by 1 yields a rise of the predicted response by 0.45. Similarly, when 𝑥₂ grows by 1, the response rises by 0.26."
   ]
  },
  {
   "cell_type": "markdown",
   "id": "4cc80add",
   "metadata": {},
   "source": [
    "## Step 5: Predict response"
   ]
  },
  {
   "cell_type": "code",
   "execution_count": 39,
   "id": "cf0c60fb",
   "metadata": {},
   "outputs": [],
   "source": [
    "y_pred = model.predict(x)"
   ]
  },
  {
   "cell_type": "code",
   "execution_count": 40,
   "id": "ac1a8137",
   "metadata": {},
   "outputs": [
    {
     "name": "stdout",
     "output_type": "stream",
     "text": [
      "predicted response:\n",
      "[ 5.77760476  8.012953   12.73867497 17.9744479  23.97529728 29.4660957\n",
      " 38.78227633 41.27265006]\n"
     ]
    }
   ],
   "source": [
    "print(f\"predicted response:\\n{y_pred}\")"
   ]
  },
  {
   "cell_type": "markdown",
   "id": "fbf244fe",
   "metadata": {},
   "source": [
    "The predicted response is obtained with .predict(), which is equivalent to the following:"
   ]
  },
  {
   "cell_type": "code",
   "execution_count": 41,
   "id": "ed571920",
   "metadata": {},
   "outputs": [
    {
     "name": "stdout",
     "output_type": "stream",
     "text": [
      "predicted response:\n",
      "[ 5.77760476  8.012953   12.73867497 17.9744479  23.97529728 29.4660957\n",
      " 38.78227633 41.27265006]\n"
     ]
    }
   ],
   "source": [
    "y_pred = model.intercept_ + np.sum(model.coef_ * x, axis=1)\n",
    "print(f\"predicted response:\\n{y_pred}\")"
   ]
  },
  {
   "cell_type": "markdown",
   "id": "db0defac",
   "metadata": {},
   "source": [
    "You can predict the output values by multiplying each column of the input with the appropriate weight, summing the results, and adding the intercept to the sum.\n",
    "\n",
    "You can apply this model to new data as well:"
   ]
  },
  {
   "cell_type": "code",
   "execution_count": 42,
   "id": "8fc32830",
   "metadata": {},
   "outputs": [],
   "source": [
    "x_new = np.arange(10).reshape((-1, 2))"
   ]
  },
  {
   "cell_type": "code",
   "execution_count": 43,
   "id": "22d7951d",
   "metadata": {},
   "outputs": [
    {
     "data": {
      "text/plain": [
       "array([[0, 1],\n",
       "       [2, 3],\n",
       "       [4, 5],\n",
       "       [6, 7],\n",
       "       [8, 9]])"
      ]
     },
     "execution_count": 43,
     "metadata": {},
     "output_type": "execute_result"
    }
   ],
   "source": [
    "x_new"
   ]
  },
  {
   "cell_type": "code",
   "execution_count": 44,
   "id": "c05e4d66",
   "metadata": {},
   "outputs": [],
   "source": [
    "y_new = model.predict(x_new)"
   ]
  },
  {
   "cell_type": "code",
   "execution_count": 45,
   "id": "ed74011e",
   "metadata": {},
   "outputs": [
    {
     "data": {
      "text/plain": [
       "array([ 5.77760476,  7.18179502,  8.58598528,  9.99017554, 11.3943658 ])"
      ]
     },
     "execution_count": 45,
     "metadata": {},
     "output_type": "execute_result"
    }
   ],
   "source": [
    "y_new"
   ]
  },
  {
   "cell_type": "markdown",
   "id": "94c5d014",
   "metadata": {},
   "source": [
    "# Polynomial Regression With scikit-learn"
   ]
  },
  {
   "cell_type": "markdown",
   "id": "992c459c",
   "metadata": {},
   "source": [
    "There’s only one extra step: you need to transform the array of inputs to include nonlinear terms such as 𝑥²."
   ]
  },
  {
   "cell_type": "markdown",
   "id": "bbdb315c",
   "metadata": {},
   "source": [
    "## Step 1: Import packages and classes"
   ]
  },
  {
   "cell_type": "code",
   "execution_count": 46,
   "id": "beddc625",
   "metadata": {},
   "outputs": [],
   "source": [
    "#the other 2 and\n",
    "from sklearn.preprocessing import PolynomialFeatures"
   ]
  },
  {
   "cell_type": "markdown",
   "id": "55f58787",
   "metadata": {},
   "source": [
    "## Step 2a: Provide data"
   ]
  },
  {
   "cell_type": "markdown",
   "id": "adb2a0d7",
   "metadata": {},
   "source": [
    "Keep in mind that you need the input to be a two-dimensional array. That’s why .reshape() is used."
   ]
  },
  {
   "cell_type": "code",
   "execution_count": 47,
   "id": "aa77db52",
   "metadata": {},
   "outputs": [],
   "source": [
    "x = np.array([5, 15, 25, 35, 45, 55]).reshape((-1, 1))\n",
    "y = np.array([15, 11, 2, 8, 25, 32])"
   ]
  },
  {
   "cell_type": "markdown",
   "id": "d4301b52",
   "metadata": {},
   "source": [
    "## Step 2b: Transform input data\n",
    "\n"
   ]
  },
  {
   "cell_type": "markdown",
   "id": "31f4bdb7",
   "metadata": {},
   "source": [
    "This is the new step that you need to implement for polynomial regression!\n",
    "\n",
    "As you learned earlier, you need to include 𝑥²—and perhaps other terms—as additional features when implementing polynomial regression. For that reason, you should transform the input array x to contain any additional columns with the values of 𝑥², and eventually more features.\n",
    "\n",
    "It’s possible to transform the input array in several ways, like using insert() from numpy. But the class PolynomialFeatures is very convenient for this purpose. Go ahead and create an instance of this class:"
   ]
  },
  {
   "cell_type": "code",
   "execution_count": 48,
   "id": "87d7c6df",
   "metadata": {},
   "outputs": [],
   "source": [
    "transformer = PolynomialFeatures(degree=2, include_bias=False)"
   ]
  },
  {
   "cell_type": "markdown",
   "id": "934caedd",
   "metadata": {},
   "source": [
    "Before applying transformer, you need to fit it with .fit():"
   ]
  },
  {
   "cell_type": "code",
   "execution_count": 49,
   "id": "cb9ef70a",
   "metadata": {},
   "outputs": [
    {
     "data": {
      "text/plain": [
       "PolynomialFeatures(include_bias=False)"
      ]
     },
     "execution_count": 49,
     "metadata": {},
     "output_type": "execute_result"
    }
   ],
   "source": [
    "transformer.fit(x)"
   ]
  },
  {
   "cell_type": "markdown",
   "id": "c53eb088",
   "metadata": {},
   "source": [
    "Once transformer is fitted, then it’s ready to create a new, modified input array. You apply .transform() to do that:"
   ]
  },
  {
   "cell_type": "code",
   "execution_count": 50,
   "id": "5253a976",
   "metadata": {},
   "outputs": [],
   "source": [
    "x_ = transformer.transform(x)"
   ]
  },
  {
   "cell_type": "markdown",
   "id": "87448e9c",
   "metadata": {},
   "source": [
    "That’s the transformation of the input array with .transform(). It takes the input array as the argument and returns the modified array.\n",
    "\n",
    "Alternate way:\n",
    "You can also use .fit_transform() to replace the three previous statements with only one:\n",
    "\n"
   ]
  },
  {
   "cell_type": "code",
   "execution_count": 51,
   "id": "39dcc556",
   "metadata": {},
   "outputs": [],
   "source": [
    "x_ = PolynomialFeatures(degree=2, include_bias=False).fit_transform(x)"
   ]
  },
  {
   "cell_type": "markdown",
   "id": "4eb5df01",
   "metadata": {},
   "source": [
    "With .fit_transform(), you’re fitting and transforming the input array in one statement. This method also takes the input array and effectively does the same thing as .fit() and .transform() called in that order. It also returns the modified array. This is how the new input array looks:"
   ]
  },
  {
   "cell_type": "code",
   "execution_count": 52,
   "id": "1ac1199a",
   "metadata": {},
   "outputs": [
    {
     "data": {
      "text/plain": [
       "array([[   5.,   25.],\n",
       "       [  15.,  225.],\n",
       "       [  25.,  625.],\n",
       "       [  35., 1225.],\n",
       "       [  45., 2025.],\n",
       "       [  55., 3025.]])"
      ]
     },
     "execution_count": 52,
     "metadata": {},
     "output_type": "execute_result"
    }
   ],
   "source": [
    "x_"
   ]
  },
  {
   "cell_type": "markdown",
   "id": "c6c20b37",
   "metadata": {},
   "source": [
    "The modified input array contains two columns: one with the original inputs and the other with their squares. You can find more information about PolynomialFeatures here https://scikit-learn.org/stable/modules/generated/sklearn.preprocessing.PolynomialFeatures.html"
   ]
  },
  {
   "cell_type": "markdown",
   "id": "6dd5ee37",
   "metadata": {},
   "source": [
    "## Step 3: Create a model and fit it"
   ]
  },
  {
   "cell_type": "code",
   "execution_count": 53,
   "id": "30c04cb5",
   "metadata": {},
   "outputs": [],
   "source": [
    "model = LinearRegression().fit(x_, y)"
   ]
  },
  {
   "cell_type": "markdown",
   "id": "276429f6",
   "metadata": {},
   "source": [
    "You should keep in mind that the first argument of .fit() is the modified input array x_ and not the original x."
   ]
  },
  {
   "cell_type": "markdown",
   "id": "5dea15aa",
   "metadata": {},
   "source": [
    "## Step 4: Get results"
   ]
  },
  {
   "cell_type": "code",
   "execution_count": 54,
   "id": "a405d4c5",
   "metadata": {},
   "outputs": [],
   "source": [
    "r_sq = model.score(x_, y)"
   ]
  },
  {
   "cell_type": "code",
   "execution_count": 55,
   "id": "cfa81488",
   "metadata": {},
   "outputs": [
    {
     "name": "stdout",
     "output_type": "stream",
     "text": [
      "coefficient of determination: 0.8908516262498564\n"
     ]
    }
   ],
   "source": [
    "print(f\"coefficient of determination: {r_sq}\")"
   ]
  },
  {
   "cell_type": "code",
   "execution_count": 56,
   "id": "eeb5d261",
   "metadata": {},
   "outputs": [
    {
     "name": "stdout",
     "output_type": "stream",
     "text": [
      "intercept: 21.372321428571425\n"
     ]
    }
   ],
   "source": [
    "print(f\"intercept: {model.intercept_}\")"
   ]
  },
  {
   "cell_type": "code",
   "execution_count": 57,
   "id": "3dd2655e",
   "metadata": {},
   "outputs": [
    {
     "name": "stdout",
     "output_type": "stream",
     "text": [
      "coefficients: [-1.32357143  0.02839286]\n"
     ]
    }
   ],
   "source": [
    "print(f\"coefficients: {model.coef_}\")"
   ]
  },
  {
   "cell_type": "markdown",
   "id": "1b46aec9",
   "metadata": {},
   "source": [
    "Again, .score() returns 𝑅². Its first argument is also the modified input x_, not x. The values of the weights are associated to .intercept_ and .coef_. Here, .intercept_ represents 𝑏₀, while .coef_ references the array that contains 𝑏₁ and 𝑏₂.\n",
    "\n",
    "You can obtain a very similar result with different transformation and regression arguments:"
   ]
  },
  {
   "cell_type": "code",
   "execution_count": 58,
   "id": "46956caf",
   "metadata": {},
   "outputs": [],
   "source": [
    "x_new = PolynomialFeatures(degree=2, include_bias=True).fit_transform(x)"
   ]
  },
  {
   "cell_type": "code",
   "execution_count": 59,
   "id": "af55d3ff",
   "metadata": {},
   "outputs": [
    {
     "data": {
      "text/plain": [
       "array([[   5.,   25.],\n",
       "       [  15.,  225.],\n",
       "       [  25.,  625.],\n",
       "       [  35., 1225.],\n",
       "       [  45., 2025.],\n",
       "       [  55., 3025.]])"
      ]
     },
     "execution_count": 59,
     "metadata": {},
     "output_type": "execute_result"
    }
   ],
   "source": [
    "x_"
   ]
  },
  {
   "cell_type": "code",
   "execution_count": 60,
   "id": "454fb0c8",
   "metadata": {},
   "outputs": [
    {
     "data": {
      "text/plain": [
       "array([[1.000e+00, 5.000e+00, 2.500e+01],\n",
       "       [1.000e+00, 1.500e+01, 2.250e+02],\n",
       "       [1.000e+00, 2.500e+01, 6.250e+02],\n",
       "       [1.000e+00, 3.500e+01, 1.225e+03],\n",
       "       [1.000e+00, 4.500e+01, 2.025e+03],\n",
       "       [1.000e+00, 5.500e+01, 3.025e+03]])"
      ]
     },
     "execution_count": 60,
     "metadata": {},
     "output_type": "execute_result"
    }
   ],
   "source": [
    "x_new"
   ]
  },
  {
   "cell_type": "markdown",
   "id": "b12a2de0",
   "metadata": {},
   "source": [
    "The first column of x_ contains ones, the second has the values of x, while the third holds the squares of x.\n",
    "\n",
    "The intercept is already included with the leftmost column of ones, and you don’t need to include it again when creating the instance of LinearRegression. Thus, you can provide fit_intercept=False. This is how the next statement looks:"
   ]
  },
  {
   "cell_type": "code",
   "execution_count": 61,
   "id": "f2c58ef1",
   "metadata": {},
   "outputs": [],
   "source": [
    "model = LinearRegression(fit_intercept=False).fit(x_new, y)\n"
   ]
  },
  {
   "cell_type": "markdown",
   "id": "3090f041",
   "metadata": {},
   "source": [
    "The variable model again corresponds to the new input array x_. Therefore, x_ should be passed as the first argument instead of x.\n",
    "\n",
    "This approach yields the following results, which are similar to the previous case:"
   ]
  },
  {
   "cell_type": "code",
   "execution_count": 62,
   "id": "97167442",
   "metadata": {},
   "outputs": [],
   "source": [
    "r_sq = model.score(x_new, y)"
   ]
  },
  {
   "cell_type": "code",
   "execution_count": 63,
   "id": "2aff567c",
   "metadata": {},
   "outputs": [
    {
     "name": "stdout",
     "output_type": "stream",
     "text": [
      "coefficient of determination: 0.8908516262498565\n"
     ]
    }
   ],
   "source": [
    "print(f\"coefficient of determination: {r_sq}\")"
   ]
  },
  {
   "cell_type": "code",
   "execution_count": 64,
   "id": "81f5edff",
   "metadata": {},
   "outputs": [
    {
     "name": "stdout",
     "output_type": "stream",
     "text": [
      "intercept: 0.0\n"
     ]
    }
   ],
   "source": [
    "print(f\"intercept: {model.intercept_}\")"
   ]
  },
  {
   "cell_type": "code",
   "execution_count": 65,
   "id": "346d1132",
   "metadata": {},
   "outputs": [
    {
     "name": "stdout",
     "output_type": "stream",
     "text": [
      "coefficients: [21.37232143 -1.32357143  0.02839286]\n"
     ]
    }
   ],
   "source": [
    "print(f\"coefficients: {model.coef_}\")"
   ]
  },
  {
   "cell_type": "code",
   "execution_count": 66,
   "id": "ce7d5659",
   "metadata": {},
   "outputs": [],
   "source": [
    "intercept, coefficients = model.intercept_, model.coef_"
   ]
  },
  {
   "cell_type": "markdown",
   "id": "a11012b7",
   "metadata": {},
   "source": [
    "You see that now .intercept_ is zero, but .coef_ actually contains 𝑏₀ as its first element. Everything else is the same."
   ]
  },
  {
   "cell_type": "markdown",
   "id": "6b8135ac",
   "metadata": {},
   "source": [
    "## Step 5: Predict response"
   ]
  },
  {
   "cell_type": "markdown",
   "id": "a395344a",
   "metadata": {},
   "source": [
    "If you want to get the predicted response, just use .predict(), but remember that the argument should be the modified input x_ instead of the old x:"
   ]
  },
  {
   "cell_type": "code",
   "execution_count": 67,
   "id": "9578248e",
   "metadata": {},
   "outputs": [
    {
     "name": "stdout",
     "output_type": "stream",
     "text": [
      "predicted response:\n",
      "[15.46428571  7.90714286  6.02857143  9.82857143 19.30714286 34.46428571]\n"
     ]
    }
   ],
   "source": [
    "y_pred = model.predict(x_new)\n",
    "print(f\"predicted response:\\n{y_pred}\")"
   ]
  },
  {
   "cell_type": "markdown",
   "id": "a521e783",
   "metadata": {},
   "source": [
    "You can also notice that polynomial regression yielded a higher coefficient of determination than multiple linear regression for the same problem. At first, you could think that obtaining such a large 𝑅² is an excellent result. It might be."
   ]
  },
  {
   "cell_type": "markdown",
   "id": "fbe5d499",
   "metadata": {},
   "source": [
    "However, in real-world situations, having a complex model and 𝑅² very close to one might also be a sign of overfitting. To check the performance of a model, you should test it with new data—that is, with observations not used to fit, or train, the model. To learn how to split your dataset into the training and test subsets, can stay tuned next week. "
   ]
  },
  {
   "cell_type": "markdown",
   "id": "ab119fe3",
   "metadata": {},
   "source": [
    "# Sneakpeek next week:"
   ]
  },
  {
   "cell_type": "markdown",
   "id": "de5df345",
   "metadata": {},
   "source": [
    "##  Advanced Linear Regression With statsmodels"
   ]
  },
  {
   "cell_type": "markdown",
   "id": "0a4bf646",
   "metadata": {},
   "source": [
    "## Beyond Linear Regression"
   ]
  },
  {
   "cell_type": "markdown",
   "id": "fdcde9b9",
   "metadata": {},
   "source": [
    "The package scikit-learn provides the means for using other regression techniques in a very similar way to what you’ve seen. It contains classes for support vector machines, decision trees, random forest, and more, with the methods .fit(), .predict(), .score(), and so on."
   ]
  }
 ],
 "metadata": {
  "kernelspec": {
   "display_name": "Python 3 (ipykernel)",
   "language": "python",
   "name": "python3"
  },
  "language_info": {
   "codemirror_mode": {
    "name": "ipython",
    "version": 3
   },
   "file_extension": ".py",
   "mimetype": "text/x-python",
   "name": "python",
   "nbconvert_exporter": "python",
   "pygments_lexer": "ipython3",
   "version": "3.9.12"
  }
 },
 "nbformat": 4,
 "nbformat_minor": 5
}
